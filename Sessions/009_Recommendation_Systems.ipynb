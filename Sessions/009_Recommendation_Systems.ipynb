{
 "cells": [
  {
   "cell_type": "markdown",
   "source": [
    "# Recommendation Systems"
   ],
   "metadata": {
    "collapsed": false,
    "pycharm": {
     "name": "#%% md\n"
    }
   }
  },
  {
   "cell_type": "markdown",
   "source": [
    "# I. Warnings Omitting"
   ],
   "metadata": {
    "collapsed": false,
    "pycharm": {
     "name": "#%% md\n"
    }
   }
  },
  {
   "cell_type": "code",
   "execution_count": 1,
   "outputs": [],
   "source": [
    "import warnings\n",
    "warnings.simplefilter(action='ignore')"
   ],
   "metadata": {
    "collapsed": false,
    "pycharm": {
     "name": "#%%\n"
    }
   }
  },
  {
   "cell_type": "markdown",
   "source": [
    "## II. Imports"
   ],
   "metadata": {
    "collapsed": false,
    "pycharm": {
     "name": "#%% md\n"
    }
   }
  },
  {
   "cell_type": "code",
   "execution_count": 2,
   "outputs": [],
   "source": [
    "import random\n",
    "import numpy as np\n",
    "import pandas as pd"
   ],
   "metadata": {
    "collapsed": false,
    "pycharm": {
     "name": "#%%\n"
    }
   }
  },
  {
   "cell_type": "code",
   "execution_count": 3,
   "outputs": [],
   "source": [
    "from scipy.sparse import csr_matrix"
   ],
   "metadata": {
    "collapsed": false,
    "pycharm": {
     "name": "#%%\n"
    }
   }
  },
  {
   "cell_type": "code",
   "execution_count": 4,
   "outputs": [],
   "source": [
    "from sklearn.neighbors import NearestNeighbors"
   ],
   "metadata": {
    "collapsed": false,
    "pycharm": {
     "name": "#%%\n"
    }
   }
  },
  {
   "cell_type": "markdown",
   "source": [
    "# 1. Data Loading and exploration"
   ],
   "metadata": {
    "collapsed": false,
    "pycharm": {
     "name": "#%% md\n"
    }
   }
  },
  {
   "cell_type": "code",
   "execution_count": 5,
   "outputs": [
    {
     "data": {
      "text/plain": "   userId  movieId  rating  timestamp\n0       1        1     4.0  964982703\n1       1        3     4.0  964981247\n2       1        6     4.0  964982224\n3       1       47     5.0  964983815\n4       1       50     5.0  964982931",
      "text/html": "<div>\n<style scoped>\n    .dataframe tbody tr th:only-of-type {\n        vertical-align: middle;\n    }\n\n    .dataframe tbody tr th {\n        vertical-align: top;\n    }\n\n    .dataframe thead th {\n        text-align: right;\n    }\n</style>\n<table border=\"1\" class=\"dataframe\">\n  <thead>\n    <tr style=\"text-align: right;\">\n      <th></th>\n      <th>userId</th>\n      <th>movieId</th>\n      <th>rating</th>\n      <th>timestamp</th>\n    </tr>\n  </thead>\n  <tbody>\n    <tr>\n      <th>0</th>\n      <td>1</td>\n      <td>1</td>\n      <td>4.0</td>\n      <td>964982703</td>\n    </tr>\n    <tr>\n      <th>1</th>\n      <td>1</td>\n      <td>3</td>\n      <td>4.0</td>\n      <td>964981247</td>\n    </tr>\n    <tr>\n      <th>2</th>\n      <td>1</td>\n      <td>6</td>\n      <td>4.0</td>\n      <td>964982224</td>\n    </tr>\n    <tr>\n      <th>3</th>\n      <td>1</td>\n      <td>47</td>\n      <td>5.0</td>\n      <td>964983815</td>\n    </tr>\n    <tr>\n      <th>4</th>\n      <td>1</td>\n      <td>50</td>\n      <td>5.0</td>\n      <td>964982931</td>\n    </tr>\n  </tbody>\n</table>\n</div>"
     },
     "execution_count": 5,
     "metadata": {},
     "output_type": "execute_result"
    }
   ],
   "source": [
    "df_ratings = pd.read_csv(\"https://s3-us-west-2.amazonaws.com/recommender-tutorial/ratings.csv\")\n",
    "df_ratings.head()"
   ],
   "metadata": {
    "collapsed": false,
    "pycharm": {
     "name": "#%%\n"
    }
   }
  },
  {
   "cell_type": "code",
   "execution_count": 6,
   "outputs": [
    {
     "data": {
      "text/plain": "   movieId                               title  \\\n0        1                    Toy Story (1995)   \n1        2                      Jumanji (1995)   \n2        3             Grumpier Old Men (1995)   \n3        4            Waiting to Exhale (1995)   \n4        5  Father of the Bride Part II (1995)   \n\n                                        genres  \n0  Adventure|Animation|Children|Comedy|Fantasy  \n1                   Adventure|Children|Fantasy  \n2                               Comedy|Romance  \n3                         Comedy|Drama|Romance  \n4                                       Comedy  ",
      "text/html": "<div>\n<style scoped>\n    .dataframe tbody tr th:only-of-type {\n        vertical-align: middle;\n    }\n\n    .dataframe tbody tr th {\n        vertical-align: top;\n    }\n\n    .dataframe thead th {\n        text-align: right;\n    }\n</style>\n<table border=\"1\" class=\"dataframe\">\n  <thead>\n    <tr style=\"text-align: right;\">\n      <th></th>\n      <th>movieId</th>\n      <th>title</th>\n      <th>genres</th>\n    </tr>\n  </thead>\n  <tbody>\n    <tr>\n      <th>0</th>\n      <td>1</td>\n      <td>Toy Story (1995)</td>\n      <td>Adventure|Animation|Children|Comedy|Fantasy</td>\n    </tr>\n    <tr>\n      <th>1</th>\n      <td>2</td>\n      <td>Jumanji (1995)</td>\n      <td>Adventure|Children|Fantasy</td>\n    </tr>\n    <tr>\n      <th>2</th>\n      <td>3</td>\n      <td>Grumpier Old Men (1995)</td>\n      <td>Comedy|Romance</td>\n    </tr>\n    <tr>\n      <th>3</th>\n      <td>4</td>\n      <td>Waiting to Exhale (1995)</td>\n      <td>Comedy|Drama|Romance</td>\n    </tr>\n    <tr>\n      <th>4</th>\n      <td>5</td>\n      <td>Father of the Bride Part II (1995)</td>\n      <td>Comedy</td>\n    </tr>\n  </tbody>\n</table>\n</div>"
     },
     "execution_count": 6,
     "metadata": {},
     "output_type": "execute_result"
    }
   ],
   "source": [
    "df_movies = pd.read_csv(\"https://s3-us-west-2.amazonaws.com/recommender-tutorial/movies.csv\")\n",
    "df_movies.head()"
   ],
   "metadata": {
    "collapsed": false,
    "pycharm": {
     "name": "#%%\n"
    }
   }
  },
  {
   "cell_type": "code",
   "execution_count": 7,
   "outputs": [
    {
     "name": "stdout",
     "output_type": "stream",
     "text": [
      "Number of ratings: 100836\n",
      "Number of unique movieId's: 9742\n",
      "Number of unique users: 610\n",
      "Average ratings per user: 165.3\n",
      "Average ratings per movie: 10.35\n"
     ]
    }
   ],
   "source": [
    "n_movies = df_movies.movieId.unique().shape[0]\n",
    "n_users = df_ratings.userId.unique().shape[0]\n",
    "n_ratings = df_ratings.shape[0]\n",
    "print(f\"Number of ratings: {n_ratings}\")\n",
    "print(f\"Number of unique movieId's: {n_movies}\")\n",
    "print(f\"Number of unique users: {n_users}\")\n",
    "print(f\"Average ratings per user: {round(n_ratings/n_users, 2)}\")\n",
    "print(f\"Average ratings per movie: {round(n_ratings/n_movies, 2)}\")"
   ],
   "metadata": {
    "collapsed": false,
    "pycharm": {
     "name": "#%%\n"
    }
   }
  },
  {
   "cell_type": "code",
   "execution_count": 8,
   "outputs": [
    {
     "data": {
      "text/plain": "     userId  n_ratings\n0         1        232\n1         2         29\n2         3         39\n3         4        216\n4         5         44\n..      ...        ...\n605     606       1115\n606     607        187\n607     608        831\n608     609         37\n609     610       1302\n\n[610 rows x 2 columns]",
      "text/html": "<div>\n<style scoped>\n    .dataframe tbody tr th:only-of-type {\n        vertical-align: middle;\n    }\n\n    .dataframe tbody tr th {\n        vertical-align: top;\n    }\n\n    .dataframe thead th {\n        text-align: right;\n    }\n</style>\n<table border=\"1\" class=\"dataframe\">\n  <thead>\n    <tr style=\"text-align: right;\">\n      <th></th>\n      <th>userId</th>\n      <th>n_ratings</th>\n    </tr>\n  </thead>\n  <tbody>\n    <tr>\n      <th>0</th>\n      <td>1</td>\n      <td>232</td>\n    </tr>\n    <tr>\n      <th>1</th>\n      <td>2</td>\n      <td>29</td>\n    </tr>\n    <tr>\n      <th>2</th>\n      <td>3</td>\n      <td>39</td>\n    </tr>\n    <tr>\n      <th>3</th>\n      <td>4</td>\n      <td>216</td>\n    </tr>\n    <tr>\n      <th>4</th>\n      <td>5</td>\n      <td>44</td>\n    </tr>\n    <tr>\n      <th>...</th>\n      <td>...</td>\n      <td>...</td>\n    </tr>\n    <tr>\n      <th>605</th>\n      <td>606</td>\n      <td>1115</td>\n    </tr>\n    <tr>\n      <th>606</th>\n      <td>607</td>\n      <td>187</td>\n    </tr>\n    <tr>\n      <th>607</th>\n      <td>608</td>\n      <td>831</td>\n    </tr>\n    <tr>\n      <th>608</th>\n      <td>609</td>\n      <td>37</td>\n    </tr>\n    <tr>\n      <th>609</th>\n      <td>610</td>\n      <td>1302</td>\n    </tr>\n  </tbody>\n</table>\n<p>610 rows × 2 columns</p>\n</div>"
     },
     "execution_count": 8,
     "metadata": {},
     "output_type": "execute_result"
    }
   ],
   "source": [
    "df_user_freq = df_ratings[['userId', 'movieId']].groupby('userId').count().reset_index()\n",
    "df_user_freq.columns = ['userId', 'n_ratings']\n",
    "df_user_freq"
   ],
   "metadata": {
    "collapsed": false,
    "pycharm": {
     "name": "#%%\n"
    }
   }
  },
  {
   "cell_type": "markdown",
   "source": [
    "# 2. Simple Recommender"
   ],
   "metadata": {
    "collapsed": false,
    "pycharm": {
     "name": "#%% md\n"
    }
   }
  },
  {
   "cell_type": "code",
   "execution_count": 9,
   "outputs": [
    {
     "data": {
      "text/plain": "           rating\nmovieId          \n1        3.920930\n2        3.431818\n3        3.259615\n4        2.357143\n5        3.071429\n...           ...\n193581   4.000000\n193583   3.500000\n193585   3.500000\n193587   3.500000\n193609   4.000000\n\n[9724 rows x 1 columns]",
      "text/html": "<div>\n<style scoped>\n    .dataframe tbody tr th:only-of-type {\n        vertical-align: middle;\n    }\n\n    .dataframe tbody tr th {\n        vertical-align: top;\n    }\n\n    .dataframe thead th {\n        text-align: right;\n    }\n</style>\n<table border=\"1\" class=\"dataframe\">\n  <thead>\n    <tr style=\"text-align: right;\">\n      <th></th>\n      <th>rating</th>\n    </tr>\n    <tr>\n      <th>movieId</th>\n      <th></th>\n    </tr>\n  </thead>\n  <tbody>\n    <tr>\n      <th>1</th>\n      <td>3.920930</td>\n    </tr>\n    <tr>\n      <th>2</th>\n      <td>3.431818</td>\n    </tr>\n    <tr>\n      <th>3</th>\n      <td>3.259615</td>\n    </tr>\n    <tr>\n      <th>4</th>\n      <td>2.357143</td>\n    </tr>\n    <tr>\n      <th>5</th>\n      <td>3.071429</td>\n    </tr>\n    <tr>\n      <th>...</th>\n      <td>...</td>\n    </tr>\n    <tr>\n      <th>193581</th>\n      <td>4.000000</td>\n    </tr>\n    <tr>\n      <th>193583</th>\n      <td>3.500000</td>\n    </tr>\n    <tr>\n      <th>193585</th>\n      <td>3.500000</td>\n    </tr>\n    <tr>\n      <th>193587</th>\n      <td>3.500000</td>\n    </tr>\n    <tr>\n      <th>193609</th>\n      <td>4.000000</td>\n    </tr>\n  </tbody>\n</table>\n<p>9724 rows × 1 columns</p>\n</div>"
     },
     "execution_count": 9,
     "metadata": {},
     "output_type": "execute_result"
    }
   ],
   "source": [
    "df_mean_ratings = df_ratings.groupby('movieId')[['rating']].mean()\n",
    "df_mean_ratings"
   ],
   "metadata": {
    "collapsed": false,
    "pycharm": {
     "name": "#%%\n"
    }
   }
  },
  {
   "cell_type": "code",
   "execution_count": 10,
   "outputs": [
    {
     "data": {
      "text/plain": "<Figure size 432x288 with 1 Axes>",
      "image/png": "[encoded data removed]"
     },
     "metadata": {
      "needs_background": "light"
     },
     "output_type": "display_data"
    }
   ],
   "source": [
    "df_mean_ratings['rating'].hist();"
   ],
   "metadata": {
    "collapsed": false,
    "pycharm": {
     "name": "#%%\n"
    }
   }
  },
  {
   "cell_type": "code",
   "execution_count": 11,
   "outputs": [
    {
     "data": {
      "text/plain": "    movieId  rating                                              title  \\\n0      3604     0.5                                       Gypsy (1962)   \n1      3933     0.5                          Killer Shrews, The (1959)   \n2      4051     0.5  Horrors of Spider Island (Ein Toter Hing im Ne...   \n3      4371     0.5                                    Baby Boy (2001)   \n4      4580     0.5                                      Cyborg (1989)   \n..      ...     ...                                                ...   \n91   165645     0.5                                 Bad Santa 2 (2016)   \n92   167296     0.5                                    Iron Man (1931)   \n93   173307     0.5                     The Gracefield Incident (2015)   \n94   175475     0.5                             The Emoji Movie (2017)   \n95   184641     0.5                    Fullmetal Alchemist 2018 (2017)   \n\n                       genres  \n0                     Musical  \n1               Horror|Sci-Fi  \n2               Horror|Sci-Fi  \n3                 Crime|Drama  \n4               Action|Sci-Fi  \n..                        ...  \n91                     Comedy  \n92                      Drama  \n93       Action|Horror|Sci-Fi  \n94  Animation|Children|Comedy  \n95   Action|Adventure|Fantasy  \n\n[96 rows x 4 columns]",
      "text/html": "<div>\n<style scoped>\n    .dataframe tbody tr th:only-of-type {\n        vertical-align: middle;\n    }\n\n    .dataframe tbody tr th {\n        vertical-align: top;\n    }\n\n    .dataframe thead th {\n        text-align: right;\n    }\n</style>\n<table border=\"1\" class=\"dataframe\">\n  <thead>\n    <tr style=\"text-align: right;\">\n      <th></th>\n      <th>movieId</th>\n      <th>rating</th>\n      <th>title</th>\n      <th>genres</th>\n    </tr>\n  </thead>\n  <tbody>\n    <tr>\n      <th>0</th>\n      <td>3604</td>\n      <td>0.5</td>\n      <td>Gypsy (1962)</td>\n      <td>Musical</td>\n    </tr>\n    <tr>\n      <th>1</th>\n      <td>3933</td>\n      <td>0.5</td>\n      <td>Killer Shrews, The (1959)</td>\n      <td>Horror|Sci-Fi</td>\n    </tr>\n    <tr>\n      <th>2</th>\n      <td>4051</td>\n      <td>0.5</td>\n      <td>Horrors of Spider Island (Ein Toter Hing im Ne...</td>\n      <td>Horror|Sci-Fi</td>\n    </tr>\n    <tr>\n      <th>3</th>\n      <td>4371</td>\n      <td>0.5</td>\n      <td>Baby Boy (2001)</td>\n      <td>Crime|Drama</td>\n    </tr>\n    <tr>\n      <th>4</th>\n      <td>4580</td>\n      <td>0.5</td>\n      <td>Cyborg (1989)</td>\n      <td>Action|Sci-Fi</td>\n    </tr>\n    <tr>\n      <th>...</th>\n      <td>...</td>\n      <td>...</td>\n      <td>...</td>\n      <td>...</td>\n    </tr>\n    <tr>\n      <th>91</th>\n      <td>165645</td>\n      <td>0.5</td>\n      <td>Bad Santa 2 (2016)</td>\n      <td>Comedy</td>\n    </tr>\n    <tr>\n      <th>92</th>\n      <td>167296</td>\n      <td>0.5</td>\n      <td>Iron Man (1931)</td>\n      <td>Drama</td>\n    </tr>\n    <tr>\n      <th>93</th>\n      <td>173307</td>\n      <td>0.5</td>\n      <td>The Gracefield Incident (2015)</td>\n      <td>Action|Horror|Sci-Fi</td>\n    </tr>\n    <tr>\n      <th>94</th>\n      <td>175475</td>\n      <td>0.5</td>\n      <td>The Emoji Movie (2017)</td>\n      <td>Animation|Children|Comedy</td>\n    </tr>\n    <tr>\n      <th>95</th>\n      <td>184641</td>\n      <td>0.5</td>\n      <td>Fullmetal Alchemist 2018 (2017)</td>\n      <td>Action|Adventure|Fantasy</td>\n    </tr>\n  </tbody>\n</table>\n<p>96 rows × 4 columns</p>\n</div>"
     },
     "execution_count": 11,
     "metadata": {},
     "output_type": "execute_result"
    }
   ],
   "source": [
    "# get the lowest rated movies details\n",
    "df_lowest_rated = df_mean_ratings[df_mean_ratings['rating'] == df_ratings['rating'].min()]\n",
    "df_lowest_rated = df_lowest_rated.merge(df_movies, on='movieId').reset_index(drop=True)\n",
    "df_lowest_rated"
   ],
   "metadata": {
    "collapsed": false,
    "pycharm": {
     "name": "#%%\n"
    }
   }
  },
  {
   "cell_type": "code",
   "execution_count": 12,
   "outputs": [
    {
     "data": {
      "text/plain": "     movieId  rating                                              title  \\\n0         53     5.0                                    Lamerica (1994)   \n1         99     5.0               Heidi Fleiss: Hollywood Madam (1995)   \n2        148     5.0                   Awfully Big Adventure, An (1995)   \n3        467     5.0                             Live Nude Girls (1995)   \n4        495     5.0  In the Realm of the Senses (Ai no corrida) (1976)   \n..       ...     ...                                                ...   \n291   176601     5.0                                       Black Mirror   \n292   179133     5.0                              Loving Vincent (2017)   \n293   179135     5.0                              Blue Planet II (2017)   \n294   184245     5.0                            De platte jungle (1978)   \n295   187717     5.0                   Won't You Be My Neighbor? (2018)   \n\n                    genres  \n0          Adventure|Drama  \n1              Documentary  \n2                    Drama  \n3                   Comedy  \n4                    Drama  \n..                     ...  \n291     (no genres listed)  \n292  Animation|Crime|Drama  \n293            Documentary  \n294            Documentary  \n295            Documentary  \n\n[296 rows x 4 columns]",
      "text/html": "<div>\n<style scoped>\n    .dataframe tbody tr th:only-of-type {\n        vertical-align: middle;\n    }\n\n    .dataframe tbody tr th {\n        vertical-align: top;\n    }\n\n    .dataframe thead th {\n        text-align: right;\n    }\n</style>\n<table border=\"1\" class=\"dataframe\">\n  <thead>\n    <tr style=\"text-align: right;\">\n      <th></th>\n      <th>movieId</th>\n      <th>rating</th>\n      <th>title</th>\n      <th>genres</th>\n    </tr>\n  </thead>\n  <tbody>\n    <tr>\n      <th>0</th>\n      <td>53</td>\n      <td>5.0</td>\n      <td>Lamerica (1994)</td>\n      <td>Adventure|Drama</td>\n    </tr>\n    <tr>\n      <th>1</th>\n      <td>99</td>\n      <td>5.0</td>\n      <td>Heidi Fleiss: Hollywood Madam (1995)</td>\n      <td>Documentary</td>\n    </tr>\n    <tr>\n      <th>2</th>\n      <td>148</td>\n      <td>5.0</td>\n      <td>Awfully Big Adventure, An (1995)</td>\n      <td>Drama</td>\n    </tr>\n    <tr>\n      <th>3</th>\n      <td>467</td>\n      <td>5.0</td>\n      <td>Live Nude Girls (1995)</td>\n      <td>Comedy</td>\n    </tr>\n    <tr>\n      <th>4</th>\n      <td>495</td>\n      <td>5.0</td>\n      <td>In the Realm of the Senses (Ai no corrida) (1976)</td>\n      <td>Drama</td>\n    </tr>\n    <tr>\n      <th>...</th>\n      <td>...</td>\n      <td>...</td>\n      <td>...</td>\n      <td>...</td>\n    </tr>\n    <tr>\n      <th>291</th>\n      <td>176601</td>\n      <td>5.0</td>\n      <td>Black Mirror</td>\n      <td>(no genres listed)</td>\n    </tr>\n    <tr>\n      <th>292</th>\n      <td>179133</td>\n      <td>5.0</td>\n      <td>Loving Vincent (2017)</td>\n      <td>Animation|Crime|Drama</td>\n    </tr>\n    <tr>\n      <th>293</th>\n      <td>179135</td>\n      <td>5.0</td>\n      <td>Blue Planet II (2017)</td>\n      <td>Documentary</td>\n    </tr>\n    <tr>\n      <th>294</th>\n      <td>184245</td>\n      <td>5.0</td>\n      <td>De platte jungle (1978)</td>\n      <td>Documentary</td>\n    </tr>\n    <tr>\n      <th>295</th>\n      <td>187717</td>\n      <td>5.0</td>\n      <td>Won't You Be My Neighbor? (2018)</td>\n      <td>Documentary</td>\n    </tr>\n  </tbody>\n</table>\n<p>296 rows × 4 columns</p>\n</div>"
     },
     "execution_count": 12,
     "metadata": {},
     "output_type": "execute_result"
    }
   ],
   "source": [
    "# get the highest rated movies details\n",
    "df_highest_rated = df_mean_ratings[df_mean_ratings['rating'] == df_ratings['rating'].max()]\n",
    "df_highest_rated = df_highest_rated.merge(df_movies, on='movieId').reset_index(drop=True)\n",
    "df_highest_rated"
   ],
   "metadata": {
    "collapsed": false,
    "pycharm": {
     "name": "#%%\n"
    }
   }
  },
  {
   "cell_type": "markdown",
   "source": [
    "# 3. Collaborative Filtering"
   ],
   "metadata": {
    "collapsed": false,
    "pycharm": {
     "name": "#%% md\n"
    }
   }
  },
  {
   "cell_type": "markdown",
   "source": [
    "# 3.1. Create a sparse matrix of users and movies"
   ],
   "metadata": {
    "collapsed": false,
    "pycharm": {
     "name": "#%% md\n"
    }
   }
  },
  {
   "cell_type": "code",
   "execution_count": 13,
   "outputs": [
    {
     "name": "stdout",
     "output_type": "stream",
     "text": [
      "Number of users: 610\n",
      "Number of movies: 9724\n"
     ]
    }
   ],
   "source": [
    "N = len(df_ratings['userId'].unique())\n",
    "M = len(df_ratings['movieId'].unique())\n",
    "print(f\"Number of users: {N}\")\n",
    "print(f\"Number of movies: {M}\")"
   ],
   "metadata": {
    "collapsed": false,
    "pycharm": {
     "name": "#%%\n"
    }
   }
  },
  {
   "cell_type": "code",
   "execution_count": 14,
   "outputs": [],
   "source": [
    "user_mapper = dict(zip(np.unique(df_ratings[\"userId\"]), list(range(N))))\n",
    "movie_mapper = dict(zip(np.unique(df_ratings[\"movieId\"]), list(range(M))))"
   ],
   "metadata": {
    "collapsed": false,
    "pycharm": {
     "name": "#%%\n"
    }
   }
  },
  {
   "cell_type": "code",
   "execution_count": 15,
   "outputs": [
    {
     "data": {
      "text/plain": "{1: 0,\n 2: 1,\n 3: 2,\n 4: 3,\n 5: 4,\n 6: 5,\n 7: 6,\n 8: 7,\n 9: 8,\n 10: 9,\n 11: 10,\n 12: 11,\n 13: 12,\n 14: 13,\n 15: 14,\n 16: 15,\n 17: 16,\n 18: 17,\n 19: 18,\n 20: 19,\n 21: 20,\n 22: 21,\n 23: 22,\n 24: 23,\n 25: 24,\n 26: 25,\n 27: 26,\n 28: 27,\n 29: 28,\n 30: 29,\n 31: 30,\n 32: 31,\n 33: 32,\n 34: 33,\n 35: 34,\n 36: 35,\n 37: 36,\n 38: 37,\n 39: 38,\n 40: 39,\n 41: 40,\n 42: 41,\n 43: 42,\n 44: 43,\n 45: 44,\n 46: 45,\n 47: 46,\n 48: 47,\n 49: 48,\n 50: 49,\n 51: 50,\n 52: 51,\n 53: 52,\n 54: 53,\n 55: 54,\n 56: 55,\n 57: 56,\n 58: 57,\n 59: 58,\n 60: 59,\n 61: 60,\n 62: 61,\n 63: 62,\n 64: 63,\n 65: 64,\n 66: 65,\n 67: 66,\n 68: 67,\n 69: 68,\n 70: 69,\n 71: 70,\n 72: 71,\n 73: 72,\n 74: 73,\n 75: 74,\n 76: 75,\n 77: 76,\n 78: 77,\n 79: 78,\n 80: 79,\n 81: 80,\n 82: 81,\n 83: 82,\n 84: 83,\n 85: 84,\n 86: 85,\n 87: 86,\n 88: 87,\n 89: 88,\n 90: 89,\n 91: 90,\n 92: 91,\n 93: 92,\n 94: 93,\n 95: 94,\n 96: 95,\n 97: 96,\n 98: 97,\n 99: 98,\n 100: 99,\n 101: 100,\n 102: 101,\n 103: 102,\n 104: 103,\n 105: 104,\n 106: 105,\n 107: 106,\n 108: 107,\n 109: 108,\n 110: 109,\n 111: 110,\n 112: 111,\n 113: 112,\n 114: 113,\n 115: 114,\n 116: 115,\n 117: 116,\n 118: 117,\n 119: 118,\n 120: 119,\n 121: 120,\n 122: 121,\n 123: 122,\n 124: 123,\n 125: 124,\n 126: 125,\n 127: 126,\n 128: 127,\n 129: 128,\n 130: 129,\n 131: 130,\n 132: 131,\n 133: 132,\n 134: 133,\n 135: 134,\n 136: 135,\n 137: 136,\n 138: 137,\n 139: 138,\n 140: 139,\n 141: 140,\n 142: 141,\n 143: 142,\n 144: 143,\n 145: 144,\n 146: 145,\n 147: 146,\n 148: 147,\n 149: 148,\n 150: 149,\n 151: 150,\n 152: 151,\n 153: 152,\n 154: 153,\n 155: 154,\n 156: 155,\n 157: 156,\n 158: 157,\n 159: 158,\n 160: 159,\n 161: 160,\n 162: 161,\n 163: 162,\n 164: 163,\n 165: 164,\n 166: 165,\n 167: 166,\n 168: 167,\n 169: 168,\n 170: 169,\n 171: 170,\n 172: 171,\n 173: 172,\n 174: 173,\n 175: 174,\n 176: 175,\n 177: 176,\n 178: 177,\n 179: 178,\n 180: 179,\n 181: 180,\n 182: 181,\n 183: 182,\n 184: 183,\n 185: 184,\n 186: 185,\n 187: 186,\n 188: 187,\n 189: 188,\n 190: 189,\n 191: 190,\n 192: 191,\n 193: 192,\n 194: 193,\n 195: 194,\n 196: 195,\n 197: 196,\n 198: 197,\n 199: 198,\n 200: 199,\n 201: 200,\n 202: 201,\n 203: 202,\n 204: 203,\n 205: 204,\n 206: 205,\n 207: 206,\n 208: 207,\n 209: 208,\n 210: 209,\n 211: 210,\n 212: 211,\n 213: 212,\n 214: 213,\n 215: 214,\n 216: 215,\n 217: 216,\n 218: 217,\n 219: 218,\n 220: 219,\n 221: 220,\n 222: 221,\n 223: 222,\n 224: 223,\n 225: 224,\n 226: 225,\n 227: 226,\n 228: 227,\n 229: 228,\n 230: 229,\n 231: 230,\n 232: 231,\n 233: 232,\n 234: 233,\n 235: 234,\n 236: 235,\n 237: 236,\n 238: 237,\n 239: 238,\n 240: 239,\n 241: 240,\n 242: 241,\n 243: 242,\n 244: 243,\n 245: 244,\n 246: 245,\n 247: 246,\n 248: 247,\n 249: 248,\n 250: 249,\n 251: 250,\n 252: 251,\n 253: 252,\n 254: 253,\n 255: 254,\n 256: 255,\n 257: 256,\n 258: 257,\n 259: 258,\n 260: 259,\n 261: 260,\n 262: 261,\n 263: 262,\n 264: 263,\n 265: 264,\n 266: 265,\n 267: 266,\n 268: 267,\n 269: 268,\n 270: 269,\n 271: 270,\n 272: 271,\n 273: 272,\n 274: 273,\n 275: 274,\n 276: 275,\n 277: 276,\n 278: 277,\n 279: 278,\n 280: 279,\n 281: 280,\n 282: 281,\n 283: 282,\n 284: 283,\n 285: 284,\n 286: 285,\n 287: 286,\n 288: 287,\n 289: 288,\n 290: 289,\n 291: 290,\n 292: 291,\n 293: 292,\n 294: 293,\n 295: 294,\n 296: 295,\n 297: 296,\n 298: 297,\n 299: 298,\n 300: 299,\n 301: 300,\n 302: 301,\n 303: 302,\n 304: 303,\n 305: 304,\n 306: 305,\n 307: 306,\n 308: 307,\n 309: 308,\n 310: 309,\n 311: 310,\n 312: 311,\n 313: 312,\n 314: 313,\n 315: 314,\n 316: 315,\n 317: 316,\n 318: 317,\n 319: 318,\n 320: 319,\n 321: 320,\n 322: 321,\n 323: 322,\n 324: 323,\n 325: 324,\n 326: 325,\n 327: 326,\n 328: 327,\n 329: 328,\n 330: 329,\n 331: 330,\n 332: 331,\n 333: 332,\n 334: 333,\n 335: 334,\n 336: 335,\n 337: 336,\n 338: 337,\n 339: 338,\n 340: 339,\n 341: 340,\n 342: 341,\n 343: 342,\n 344: 343,\n 345: 344,\n 346: 345,\n 347: 346,\n 348: 347,\n 349: 348,\n 350: 349,\n 351: 350,\n 352: 351,\n 353: 352,\n 354: 353,\n 355: 354,\n 356: 355,\n 357: 356,\n 358: 357,\n 359: 358,\n 360: 359,\n 361: 360,\n 362: 361,\n 363: 362,\n 364: 363,\n 365: 364,\n 366: 365,\n 367: 366,\n 368: 367,\n 369: 368,\n 370: 369,\n 371: 370,\n 372: 371,\n 373: 372,\n 374: 373,\n 375: 374,\n 376: 375,\n 377: 376,\n 378: 377,\n 379: 378,\n 380: 379,\n 381: 380,\n 382: 381,\n 383: 382,\n 384: 383,\n 385: 384,\n 386: 385,\n 387: 386,\n 388: 387,\n 389: 388,\n 390: 389,\n 391: 390,\n 392: 391,\n 393: 392,\n 394: 393,\n 395: 394,\n 396: 395,\n 397: 396,\n 398: 397,\n 399: 398,\n 400: 399,\n 401: 400,\n 402: 401,\n 403: 402,\n 404: 403,\n 405: 404,\n 406: 405,\n 407: 406,\n 408: 407,\n 409: 408,\n 410: 409,\n 411: 410,\n 412: 411,\n 413: 412,\n 414: 413,\n 415: 414,\n 416: 415,\n 417: 416,\n 418: 417,\n 419: 418,\n 420: 419,\n 421: 420,\n 422: 421,\n 423: 422,\n 424: 423,\n 425: 424,\n 426: 425,\n 427: 426,\n 428: 427,\n 429: 428,\n 430: 429,\n 431: 430,\n 432: 431,\n 433: 432,\n 434: 433,\n 435: 434,\n 436: 435,\n 437: 436,\n 438: 437,\n 439: 438,\n 440: 439,\n 441: 440,\n 442: 441,\n 443: 442,\n 444: 443,\n 445: 444,\n 446: 445,\n 447: 446,\n 448: 447,\n 449: 448,\n 450: 449,\n 451: 450,\n 452: 451,\n 453: 452,\n 454: 453,\n 455: 454,\n 456: 455,\n 457: 456,\n 458: 457,\n 459: 458,\n 460: 459,\n 461: 460,\n 462: 461,\n 463: 462,\n 464: 463,\n 465: 464,\n 466: 465,\n 467: 466,\n 468: 467,\n 469: 468,\n 470: 469,\n 471: 470,\n 472: 471,\n 473: 472,\n 474: 473,\n 475: 474,\n 476: 475,\n 477: 476,\n 478: 477,\n 479: 478,\n 480: 479,\n 481: 480,\n 482: 481,\n 483: 482,\n 484: 483,\n 485: 484,\n 486: 485,\n 487: 486,\n 488: 487,\n 489: 488,\n 490: 489,\n 491: 490,\n 492: 491,\n 493: 492,\n 494: 493,\n 495: 494,\n 496: 495,\n 497: 496,\n 498: 497,\n 499: 498,\n 500: 499,\n 501: 500,\n 502: 501,\n 503: 502,\n 504: 503,\n 505: 504,\n 506: 505,\n 507: 506,\n 508: 507,\n 509: 508,\n 510: 509,\n 511: 510,\n 512: 511,\n 513: 512,\n 514: 513,\n 515: 514,\n 516: 515,\n 517: 516,\n 518: 517,\n 519: 518,\n 520: 519,\n 521: 520,\n 522: 521,\n 523: 522,\n 524: 523,\n 525: 524,\n 526: 525,\n 527: 526,\n 528: 527,\n 529: 528,\n 530: 529,\n 531: 530,\n 532: 531,\n 533: 532,\n 534: 533,\n 535: 534,\n 536: 535,\n 537: 536,\n 538: 537,\n 539: 538,\n 540: 539,\n 541: 540,\n 542: 541,\n 543: 542,\n 544: 543,\n 545: 544,\n 546: 545,\n 547: 546,\n 548: 547,\n 549: 548,\n 550: 549,\n 551: 550,\n 552: 551,\n 553: 552,\n 554: 553,\n 555: 554,\n 556: 555,\n 557: 556,\n 558: 557,\n 559: 558,\n 560: 559,\n 561: 560,\n 562: 561,\n 563: 562,\n 564: 563,\n 565: 564,\n 566: 565,\n 567: 566,\n 568: 567,\n 569: 568,\n 570: 569,\n 571: 570,\n 572: 571,\n 573: 572,\n 574: 573,\n 575: 574,\n 576: 575,\n 577: 576,\n 578: 577,\n 579: 578,\n 580: 579,\n 581: 580,\n 582: 581,\n 583: 582,\n 584: 583,\n 585: 584,\n 586: 585,\n 587: 586,\n 588: 587,\n 589: 588,\n 590: 589,\n 591: 590,\n 592: 591,\n 593: 592,\n 594: 593,\n 595: 594,\n 596: 595,\n 597: 596,\n 598: 597,\n 599: 598,\n 600: 599,\n 601: 600,\n 602: 601,\n 603: 602,\n 604: 603,\n 605: 604,\n 606: 605,\n 607: 606,\n 608: 607,\n 609: 608,\n 610: 609}"
     },
     "execution_count": 15,
     "metadata": {},
     "output_type": "execute_result"
    }
   ],
   "source": [
    "user_mapper"
   ],
   "metadata": {
    "collapsed": false,
    "pycharm": {
     "name": "#%%\n"
    }
   }
  },
  {
   "cell_type": "code",
   "execution_count": 16,
   "outputs": [
    {
     "data": {
      "text/plain": "{1: 0,\n 2: 1,\n 3: 2,\n 4: 3,\n 5: 4,\n 6: 5,\n 7: 6,\n 8: 7,\n 9: 8,\n 10: 9,\n 11: 10,\n 12: 11,\n 13: 12,\n 14: 13,\n 15: 14,\n 16: 15,\n 17: 16,\n 18: 17,\n 19: 18,\n 20: 19,\n 21: 20,\n 22: 21,\n 23: 22,\n 24: 23,\n 25: 24,\n 26: 25,\n 27: 26,\n 28: 27,\n 29: 28,\n 30: 29,\n 31: 30,\n 32: 31,\n 34: 32,\n 36: 33,\n 38: 34,\n 39: 35,\n 40: 36,\n 41: 37,\n 42: 38,\n 43: 39,\n 44: 40,\n 45: 41,\n 46: 42,\n 47: 43,\n 48: 44,\n 49: 45,\n 50: 46,\n 52: 47,\n 53: 48,\n 54: 49,\n 55: 50,\n 57: 51,\n 58: 52,\n 60: 53,\n 61: 54,\n 62: 55,\n 63: 56,\n 64: 57,\n 65: 58,\n 66: 59,\n 68: 60,\n 69: 61,\n 70: 62,\n 71: 63,\n 72: 64,\n 73: 65,\n 74: 66,\n 75: 67,\n 76: 68,\n 77: 69,\n 78: 70,\n 79: 71,\n 80: 72,\n 81: 73,\n 82: 74,\n 83: 75,\n 85: 76,\n 86: 77,\n 87: 78,\n 88: 79,\n 89: 80,\n 92: 81,\n 93: 82,\n 94: 83,\n 95: 84,\n 96: 85,\n 97: 86,\n 99: 87,\n 100: 88,\n 101: 89,\n 102: 90,\n 103: 91,\n 104: 92,\n 105: 93,\n 106: 94,\n 107: 95,\n 108: 96,\n 110: 97,\n 111: 98,\n 112: 99,\n 113: 100,\n 116: 101,\n 117: 102,\n 118: 103,\n 119: 104,\n 121: 105,\n 122: 106,\n 123: 107,\n 125: 108,\n 126: 109,\n 128: 110,\n 129: 111,\n 132: 112,\n 135: 113,\n 137: 114,\n 140: 115,\n 141: 116,\n 144: 117,\n 145: 118,\n 146: 119,\n 147: 120,\n 148: 121,\n 149: 122,\n 150: 123,\n 151: 124,\n 152: 125,\n 153: 126,\n 154: 127,\n 155: 128,\n 156: 129,\n 157: 130,\n 158: 131,\n 159: 132,\n 160: 133,\n 161: 134,\n 162: 135,\n 163: 136,\n 164: 137,\n 165: 138,\n 166: 139,\n 168: 140,\n 169: 141,\n 170: 142,\n 171: 143,\n 172: 144,\n 173: 145,\n 174: 146,\n 175: 147,\n 176: 148,\n 177: 149,\n 178: 150,\n 179: 151,\n 180: 152,\n 181: 153,\n 183: 154,\n 184: 155,\n 185: 156,\n 186: 157,\n 187: 158,\n 188: 159,\n 189: 160,\n 190: 161,\n 191: 162,\n 193: 163,\n 194: 164,\n 195: 165,\n 196: 166,\n 198: 167,\n 199: 168,\n 201: 169,\n 202: 170,\n 203: 171,\n 204: 172,\n 205: 173,\n 206: 174,\n 207: 175,\n 208: 176,\n 209: 177,\n 210: 178,\n 211: 179,\n 212: 180,\n 213: 181,\n 214: 182,\n 215: 183,\n 216: 184,\n 217: 185,\n 218: 186,\n 219: 187,\n 220: 188,\n 222: 189,\n 223: 190,\n 224: 191,\n 225: 192,\n 227: 193,\n 228: 194,\n 229: 195,\n 230: 196,\n 231: 197,\n 232: 198,\n 233: 199,\n 234: 200,\n 235: 201,\n 236: 202,\n 237: 203,\n 238: 204,\n 239: 205,\n 240: 206,\n 241: 207,\n 242: 208,\n 243: 209,\n 246: 210,\n 247: 211,\n 248: 212,\n 249: 213,\n 250: 214,\n 251: 215,\n 252: 216,\n 253: 217,\n 254: 218,\n 255: 219,\n 256: 220,\n 257: 221,\n 258: 222,\n 259: 223,\n 260: 224,\n 261: 225,\n 262: 226,\n 263: 227,\n 265: 228,\n 266: 229,\n 267: 230,\n 269: 231,\n 270: 232,\n 271: 233,\n 272: 234,\n 273: 235,\n 274: 236,\n 275: 237,\n 276: 238,\n 277: 239,\n 278: 240,\n 279: 241,\n 280: 242,\n 281: 243,\n 282: 244,\n 283: 245,\n 284: 246,\n 285: 247,\n 287: 248,\n 288: 249,\n 289: 250,\n 290: 251,\n 291: 252,\n 292: 253,\n 293: 254,\n 294: 255,\n 295: 256,\n 296: 257,\n 298: 258,\n 299: 259,\n 300: 260,\n 301: 261,\n 302: 262,\n 303: 263,\n 304: 264,\n 305: 265,\n 306: 266,\n 307: 267,\n 308: 268,\n 310: 269,\n 311: 270,\n 312: 271,\n 313: 272,\n 314: 273,\n 315: 274,\n 316: 275,\n 317: 276,\n 318: 277,\n 319: 278,\n 320: 279,\n 321: 280,\n 322: 281,\n 324: 282,\n 325: 283,\n 326: 284,\n 327: 285,\n 328: 286,\n 329: 287,\n 330: 288,\n 331: 289,\n 332: 290,\n 333: 291,\n 334: 292,\n 335: 293,\n 336: 294,\n 337: 295,\n 338: 296,\n 339: 297,\n 340: 298,\n 341: 299,\n 342: 300,\n 343: 301,\n 344: 302,\n 345: 303,\n 346: 304,\n 347: 305,\n 348: 306,\n 349: 307,\n 350: 308,\n 351: 309,\n 352: 310,\n 353: 311,\n 354: 312,\n 355: 313,\n 356: 314,\n 357: 315,\n 358: 316,\n 359: 317,\n 360: 318,\n 361: 319,\n 362: 320,\n 363: 321,\n 364: 322,\n 365: 323,\n 366: 324,\n 367: 325,\n 368: 326,\n 369: 327,\n 370: 328,\n 371: 329,\n 372: 330,\n 373: 331,\n 374: 332,\n 376: 333,\n 377: 334,\n 378: 335,\n 379: 336,\n 380: 337,\n 381: 338,\n 382: 339,\n 383: 340,\n 384: 341,\n 385: 342,\n 386: 343,\n 387: 344,\n 388: 345,\n 389: 346,\n 390: 347,\n 391: 348,\n 393: 349,\n 405: 350,\n 406: 351,\n 407: 352,\n 408: 353,\n 409: 354,\n 410: 355,\n 412: 356,\n 413: 357,\n 414: 358,\n 415: 359,\n 416: 360,\n 417: 361,\n 418: 362,\n 419: 363,\n 420: 364,\n 421: 365,\n 422: 366,\n 423: 367,\n 424: 368,\n 425: 369,\n 426: 370,\n 427: 371,\n 428: 372,\n 429: 373,\n 430: 374,\n 431: 375,\n 432: 376,\n 433: 377,\n 434: 378,\n 435: 379,\n 436: 380,\n 437: 381,\n 438: 382,\n 440: 383,\n 441: 384,\n 442: 385,\n 444: 386,\n 445: 387,\n 446: 388,\n 448: 389,\n 449: 390,\n 450: 391,\n 451: 392,\n 452: 393,\n 453: 394,\n 454: 395,\n 455: 396,\n 456: 397,\n 457: 398,\n 458: 399,\n 459: 400,\n 460: 401,\n 461: 402,\n 464: 403,\n 466: 404,\n 467: 405,\n 468: 406,\n 469: 407,\n 470: 408,\n 471: 409,\n 472: 410,\n 473: 411,\n 474: 412,\n 475: 413,\n 476: 414,\n 477: 415,\n 478: 416,\n 479: 417,\n 480: 418,\n 481: 419,\n 482: 420,\n 484: 421,\n 485: 422,\n 486: 423,\n 487: 424,\n 488: 425,\n 489: 426,\n 490: 427,\n 491: 428,\n 492: 429,\n 493: 430,\n 494: 431,\n 495: 432,\n 496: 433,\n 497: 434,\n 499: 435,\n 500: 436,\n 501: 437,\n 502: 438,\n 504: 439,\n 505: 440,\n 506: 441,\n 507: 442,\n 508: 443,\n 509: 444,\n 510: 445,\n 511: 446,\n 512: 447,\n 513: 448,\n 514: 449,\n 515: 450,\n 516: 451,\n 517: 452,\n 518: 453,\n 519: 454,\n 520: 455,\n 521: 456,\n 522: 457,\n 523: 458,\n 524: 459,\n 526: 460,\n 527: 461,\n 528: 462,\n 529: 463,\n 531: 464,\n 532: 465,\n 533: 466,\n 534: 467,\n 535: 468,\n 536: 469,\n 537: 470,\n 538: 471,\n 539: 472,\n 540: 473,\n 541: 474,\n 542: 475,\n 543: 476,\n 544: 477,\n 546: 478,\n 547: 479,\n 548: 480,\n 549: 481,\n 550: 482,\n 551: 483,\n 552: 484,\n 553: 485,\n 555: 486,\n 556: 487,\n 558: 488,\n 562: 489,\n 563: 490,\n 564: 491,\n 567: 492,\n 568: 493,\n 569: 494,\n 573: 495,\n 574: 496,\n 575: 497,\n 577: 498,\n 579: 499,\n 580: 500,\n 581: 501,\n 583: 502,\n 585: 503,\n 586: 504,\n 587: 505,\n 588: 506,\n 589: 507,\n 590: 508,\n 592: 509,\n 593: 510,\n 594: 511,\n 595: 512,\n 596: 513,\n 597: 514,\n 599: 515,\n 600: 516,\n 602: 517,\n 605: 518,\n 606: 519,\n 608: 520,\n 609: 521,\n 610: 522,\n 611: 523,\n 612: 524,\n 613: 525,\n 615: 526,\n 616: 527,\n 617: 528,\n 618: 529,\n 619: 530,\n 626: 531,\n 627: 532,\n 628: 533,\n 631: 534,\n 632: 535,\n 633: 536,\n 634: 537,\n 635: 538,\n 636: 539,\n 637: 540,\n 638: 541,\n 639: 542,\n 640: 543,\n 645: 544,\n 647: 545,\n 648: 546,\n 649: 547,\n 650: 548,\n 653: 549,\n 656: 550,\n 661: 551,\n 662: 552,\n 663: 553,\n 665: 554,\n 667: 555,\n 668: 556,\n 670: 557,\n 671: 558,\n 673: 559,\n 674: 560,\n 678: 561,\n 679: 562,\n 680: 563,\n 685: 564,\n 688: 565,\n 691: 566,\n 692: 567,\n 694: 568,\n 695: 569,\n 697: 570,\n 698: 571,\n 700: 572,\n 703: 573,\n 704: 574,\n 706: 575,\n 707: 576,\n 708: 577,\n 709: 578,\n 710: 579,\n 711: 580,\n 714: 581,\n 715: 582,\n 718: 583,\n 719: 584,\n 720: 585,\n 722: 586,\n 724: 587,\n 725: 588,\n 726: 589,\n 728: 590,\n 731: 591,\n 733: 592,\n 735: 593,\n 736: 594,\n 737: 595,\n 741: 596,\n 742: 597,\n 743: 598,\n 745: 599,\n 747: 600,\n 748: 601,\n 750: 602,\n 757: 603,\n 759: 604,\n 760: 605,\n 761: 606,\n 762: 607,\n 764: 608,\n 765: 609,\n 766: 610,\n 773: 611,\n 775: 612,\n 778: 613,\n 779: 614,\n 780: 615,\n 781: 616,\n 782: 617,\n 783: 618,\n 784: 619,\n 785: 620,\n 786: 621,\n 788: 622,\n 790: 623,\n 791: 624,\n 795: 625,\n 798: 626,\n 799: 627,\n 800: 628,\n 801: 629,\n 802: 630,\n 803: 631,\n 804: 632,\n 805: 633,\n 806: 634,\n 808: 635,\n 809: 636,\n 810: 637,\n 813: 638,\n 818: 639,\n 823: 640,\n 824: 641,\n 828: 642,\n 829: 643,\n 830: 644,\n 832: 645,\n 833: 646,\n 835: 647,\n 836: 648,\n 837: 649,\n 838: 650,\n 839: 651,\n 840: 652,\n 841: 653,\n 842: 654,\n 848: 655,\n 849: 656,\n 851: 657,\n 852: 658,\n 858: 659,\n 861: 660,\n 866: 661,\n 867: 662,\n 869: 663,\n 870: 664,\n 875: 665,\n 876: 666,\n 879: 667,\n 880: 668,\n 881: 669,\n 882: 670,\n 885: 671,\n 886: 672,\n 888: 673,\n 889: 674,\n 891: 675,\n 892: 676,\n 893: 677,\n 896: 678,\n 897: 679,\n 898: 680,\n 899: 681,\n 900: 682,\n 901: 683,\n 902: 684,\n 903: 685,\n 904: 686,\n 905: 687,\n 906: 688,\n 907: 689,\n 908: 690,\n 909: 691,\n 910: 692,\n 911: 693,\n 912: 694,\n 913: 695,\n 914: 696,\n 915: 697,\n 916: 698,\n 917: 699,\n 918: 700,\n 919: 701,\n 920: 702,\n 921: 703,\n 922: 704,\n 923: 705,\n 924: 706,\n 926: 707,\n 927: 708,\n 928: 709,\n 929: 710,\n 930: 711,\n 931: 712,\n 932: 713,\n 933: 714,\n 934: 715,\n 935: 716,\n 936: 717,\n 937: 718,\n 938: 719,\n 940: 720,\n 941: 721,\n 942: 722,\n 943: 723,\n 944: 724,\n 945: 725,\n 946: 726,\n 947: 727,\n 948: 728,\n 949: 729,\n 950: 730,\n 951: 731,\n 952: 732,\n 953: 733,\n 954: 734,\n 955: 735,\n 956: 736,\n 959: 737,\n 961: 738,\n 963: 739,\n 965: 740,\n 968: 741,\n 969: 742,\n 970: 743,\n 971: 744,\n 973: 745,\n 976: 746,\n 979: 747,\n 981: 748,\n 982: 749,\n 984: 750,\n 986: 751,\n 987: 752,\n 988: 753,\n 990: 754,\n 991: 755,\n 993: 756,\n 994: 757,\n 996: 758,\n 998: 759,\n 999: 760,\n 1003: 761,\n 1004: 762,\n 1005: 763,\n 1006: 764,\n 1007: 765,\n 1008: 766,\n 1009: 767,\n 1010: 768,\n 1011: 769,\n 1012: 770,\n 1013: 771,\n 1014: 772,\n 1015: 773,\n 1016: 774,\n 1017: 775,\n 1018: 776,\n 1019: 777,\n 1020: 778,\n 1021: 779,\n 1022: 780,\n 1023: 781,\n 1024: 782,\n 1025: 783,\n 1027: 784,\n 1028: 785,\n 1029: 786,\n 1030: 787,\n 1031: 788,\n 1032: 789,\n 1033: 790,\n 1034: 791,\n 1035: 792,\n 1036: 793,\n 1037: 794,\n 1040: 795,\n 1041: 796,\n 1042: 797,\n 1043: 798,\n 1046: 799,\n 1047: 800,\n 1049: 801,\n 1050: 802,\n 1051: 803,\n 1053: 804,\n 1054: 805,\n 1055: 806,\n 1056: 807,\n 1057: 808,\n 1059: 809,\n 1060: 810,\n 1061: 811,\n 1064: 812,\n 1066: 813,\n 1068: 814,\n 1073: 815,\n 1077: 816,\n 1078: 817,\n 1079: 818,\n 1080: 819,\n 1081: 820,\n 1082: 821,\n 1083: 822,\n 1084: 823,\n 1085: 824,\n 1086: 825,\n 1088: 826,\n 1089: 827,\n 1090: 828,\n 1091: 829,\n 1092: 830,\n 1093: 831,\n 1094: 832,\n 1095: 833,\n 1096: 834,\n 1097: 835,\n 1099: 836,\n 1100: 837,\n 1101: 838,\n 1103: 839,\n 1104: 840,\n 1105: 841,\n 1107: 842,\n 1111: 843,\n 1112: 844,\n 1114: 845,\n 1116: 846,\n 1117: 847,\n 1119: 848,\n 1120: 849,\n 1121: 850,\n 1123: 851,\n 1124: 852,\n 1125: 853,\n 1126: 854,\n 1127: 855,\n 1128: 856,\n 1129: 857,\n 1130: 858,\n 1131: 859,\n 1132: 860,\n 1135: 861,\n 1136: 862,\n 1137: 863,\n 1140: 864,\n 1144: 865,\n 1147: 866,\n 1148: 867,\n 1150: 868,\n 1151: 869,\n 1156: 870,\n 1161: 871,\n 1162: 872,\n 1163: 873,\n 1167: 874,\n 1170: 875,\n 1171: 876,\n 1172: 877,\n 1173: 878,\n 1175: 879,\n 1176: 880,\n 1177: 881,\n 1178: 882,\n 1179: 883,\n 1180: 884,\n 1183: 885,\n 1184: 886,\n 1185: 887,\n 1186: 888,\n 1187: 889,\n 1188: 890,\n 1189: 891,\n 1190: 892,\n 1191: 893,\n 1192: 894,\n 1193: 895,\n 1194: 896,\n 1196: 897,\n 1197: 898,\n 1198: 899,\n 1199: 900,\n 1200: 901,\n 1201: 902,\n 1202: 903,\n 1203: 904,\n 1204: 905,\n 1206: 906,\n 1207: 907,\n 1208: 908,\n 1209: 909,\n 1210: 910,\n 1211: 911,\n 1212: 912,\n 1213: 913,\n 1214: 914,\n 1215: 915,\n 1216: 916,\n 1217: 917,\n 1218: 918,\n 1219: 919,\n 1220: 920,\n 1221: 921,\n 1222: 922,\n 1223: 923,\n 1224: 924,\n 1225: 925,\n 1226: 926,\n 1227: 927,\n 1228: 928,\n 1230: 929,\n 1231: 930,\n 1232: 931,\n 1233: 932,\n 1234: 933,\n 1235: 934,\n 1236: 935,\n 1237: 936,\n 1238: 937,\n 1240: 938,\n 1241: 939,\n 1242: 940,\n 1243: 941,\n 1244: 942,\n 1245: 943,\n 1246: 944,\n 1247: 945,\n 1248: 946,\n 1249: 947,\n 1250: 948,\n 1251: 949,\n 1252: 950,\n 1253: 951,\n 1254: 952,\n 1255: 953,\n 1256: 954,\n 1257: 955,\n 1258: 956,\n 1259: 957,\n 1260: 958,\n 1261: 959,\n 1262: 960,\n 1263: 961,\n 1264: 962,\n 1265: 963,\n 1266: 964,\n 1267: 965,\n 1268: 966,\n 1269: 967,\n 1270: 968,\n 1271: 969,\n 1272: 970,\n 1273: 971,\n 1274: 972,\n 1275: 973,\n 1276: 974,\n 1277: 975,\n 1278: 976,\n 1279: 977,\n 1280: 978,\n 1281: 979,\n 1282: 980,\n 1283: 981,\n 1284: 982,\n 1285: 983,\n 1286: 984,\n 1287: 985,\n 1288: 986,\n 1289: 987,\n 1290: 988,\n 1291: 989,\n 1292: 990,\n 1293: 991,\n 1295: 992,\n 1296: 993,\n 1297: 994,\n 1298: 995,\n 1299: 996,\n 1300: 997,\n 1301: 998,\n 1302: 999,\n ...}"
     },
     "execution_count": 16,
     "metadata": {},
     "output_type": "execute_result"
    }
   ],
   "source": [
    "movie_mapper"
   ],
   "metadata": {
    "collapsed": false,
    "pycharm": {
     "name": "#%%\n"
    }
   }
  },
  {
   "cell_type": "code",
   "execution_count": 17,
   "outputs": [
    {
     "data": {
      "text/plain": "      0    1    2    3    4    5    6    7    8    9    ...  600  601  602  \\\n0     4.0  0.0  0.0  0.0  4.0  0.0  4.5  0.0  0.0  0.0  ...  4.0  0.0  4.0   \n1     0.0  0.0  0.0  0.0  0.0  4.0  0.0  4.0  0.0  0.0  ...  0.0  4.0  0.0   \n2     4.0  0.0  0.0  0.0  0.0  5.0  0.0  0.0  0.0  0.0  ...  0.0  0.0  0.0   \n3     0.0  0.0  0.0  0.0  0.0  3.0  0.0  0.0  0.0  0.0  ...  0.0  0.0  0.0   \n4     0.0  0.0  0.0  0.0  0.0  5.0  0.0  0.0  0.0  0.0  ...  0.0  0.0  0.0   \n...   ...  ...  ...  ...  ...  ...  ...  ...  ...  ...  ...  ...  ...  ...   \n9719  0.0  0.0  0.0  0.0  0.0  0.0  0.0  0.0  0.0  0.0  ...  0.0  0.0  0.0   \n9720  0.0  0.0  0.0  0.0  0.0  0.0  0.0  0.0  0.0  0.0  ...  0.0  0.0  0.0   \n9721  0.0  0.0  0.0  0.0  0.0  0.0  0.0  0.0  0.0  0.0  ...  0.0  0.0  0.0   \n9722  0.0  0.0  0.0  0.0  0.0  0.0  0.0  0.0  0.0  0.0  ...  0.0  0.0  0.0   \n9723  0.0  0.0  0.0  0.0  0.0  0.0  0.0  0.0  0.0  0.0  ...  0.0  0.0  0.0   \n\n      603  604  605  606  607  608  609  \n0     3.0  4.0  2.5  4.0  2.5  3.0  5.0  \n1     5.0  3.5  0.0  0.0  2.0  0.0  0.0  \n2     0.0  0.0  0.0  0.0  2.0  0.0  0.0  \n3     0.0  0.0  0.0  0.0  0.0  0.0  0.0  \n4     3.0  0.0  0.0  0.0  0.0  0.0  0.0  \n...   ...  ...  ...  ...  ...  ...  ...  \n9719  0.0  0.0  0.0  0.0  0.0  0.0  0.0  \n9720  0.0  0.0  0.0  0.0  0.0  0.0  0.0  \n9721  0.0  0.0  0.0  0.0  0.0  0.0  0.0  \n9722  0.0  0.0  0.0  0.0  0.0  0.0  0.0  \n9723  0.0  0.0  0.0  0.0  0.0  0.0  0.0  \n\n[9724 rows x 610 columns]",
      "text/html": "<div>\n<style scoped>\n    .dataframe tbody tr th:only-of-type {\n        vertical-align: middle;\n    }\n\n    .dataframe tbody tr th {\n        vertical-align: top;\n    }\n\n    .dataframe thead th {\n        text-align: right;\n    }\n</style>\n<table border=\"1\" class=\"dataframe\">\n  <thead>\n    <tr style=\"text-align: right;\">\n      <th></th>\n      <th>0</th>\n      <th>1</th>\n      <th>2</th>\n      <th>3</th>\n      <th>4</th>\n      <th>5</th>\n      <th>6</th>\n      <th>7</th>\n      <th>8</th>\n      <th>9</th>\n      <th>...</th>\n      <th>600</th>\n      <th>601</th>\n      <th>602</th>\n      <th>603</th>\n      <th>604</th>\n      <th>605</th>\n      <th>606</th>\n      <th>607</th>\n      <th>608</th>\n      <th>609</th>\n    </tr>\n  </thead>\n  <tbody>\n    <tr>\n      <th>0</th>\n      <td>4.0</td>\n      <td>0.0</td>\n      <td>0.0</td>\n      <td>0.0</td>\n      <td>4.0</td>\n      <td>0.0</td>\n      <td>4.5</td>\n      <td>0.0</td>\n      <td>0.0</td>\n      <td>0.0</td>\n      <td>...</td>\n      <td>4.0</td>\n      <td>0.0</td>\n      <td>4.0</td>\n      <td>3.0</td>\n      <td>4.0</td>\n      <td>2.5</td>\n      <td>4.0</td>\n      <td>2.5</td>\n      <td>3.0</td>\n      <td>5.0</td>\n    </tr>\n    <tr>\n      <th>1</th>\n      <td>0.0</td>\n      <td>0.0</td>\n      <td>0.0</td>\n      <td>0.0</td>\n      <td>0.0</td>\n      <td>4.0</td>\n      <td>0.0</td>\n      <td>4.0</td>\n      <td>0.0</td>\n      <td>0.0</td>\n      <td>...</td>\n      <td>0.0</td>\n      <td>4.0</td>\n      <td>0.0</td>\n      <td>5.0</td>\n      <td>3.5</td>\n      <td>0.0</td>\n      <td>0.0</td>\n      <td>2.0</td>\n      <td>0.0</td>\n      <td>0.0</td>\n    </tr>\n    <tr>\n      <th>2</th>\n      <td>4.0</td>\n      <td>0.0</td>\n      <td>0.0</td>\n      <td>0.0</td>\n      <td>0.0</td>\n      <td>5.0</td>\n      <td>0.0</td>\n      <td>0.0</td>\n      <td>0.0</td>\n      <td>0.0</td>\n      <td>...</td>\n      <td>0.0</td>\n      <td>0.0</td>\n      <td>0.0</td>\n      <td>0.0</td>\n      <td>0.0</td>\n      <td>0.0</td>\n      <td>0.0</td>\n      <td>2.0</td>\n      <td>0.0</td>\n      <td>0.0</td>\n    </tr>\n    <tr>\n      <th>3</th>\n      <td>0.0</td>\n      <td>0.0</td>\n      <td>0.0</td>\n      <td>0.0</td>\n      <td>0.0</td>\n      <td>3.0</td>\n      <td>0.0</td>\n      <td>0.0</td>\n      <td>0.0</td>\n      <td>0.0</td>\n      <td>...</td>\n      <td>0.0</td>\n      <td>0.0</td>\n      <td>0.0</td>\n      <td>0.0</td>\n      <td>0.0</td>\n      <td>0.0</td>\n      <td>0.0</td>\n      <td>0.0</td>\n      <td>0.0</td>\n      <td>0.0</td>\n    </tr>\n    <tr>\n      <th>4</th>\n      <td>0.0</td>\n      <td>0.0</td>\n      <td>0.0</td>\n      <td>0.0</td>\n      <td>0.0</td>\n      <td>5.0</td>\n      <td>0.0</td>\n      <td>0.0</td>\n      <td>0.0</td>\n      <td>0.0</td>\n      <td>...</td>\n      <td>0.0</td>\n      <td>0.0</td>\n      <td>0.0</td>\n      <td>3.0</td>\n      <td>0.0</td>\n      <td>0.0</td>\n      <td>0.0</td>\n      <td>0.0</td>\n      <td>0.0</td>\n      <td>0.0</td>\n    </tr>\n    <tr>\n      <th>...</th>\n      <td>...</td>\n      <td>...</td>\n      <td>...</td>\n      <td>...</td>\n      <td>...</td>\n      <td>...</td>\n      <td>...</td>\n      <td>...</td>\n      <td>...</td>\n      <td>...</td>\n      <td>...</td>\n      <td>...</td>\n      <td>...</td>\n      <td>...</td>\n      <td>...</td>\n      <td>...</td>\n      <td>...</td>\n      <td>...</td>\n      <td>...</td>\n      <td>...</td>\n      <td>...</td>\n    </tr>\n    <tr>\n      <th>9719</th>\n      <td>0.0</td>\n      <td>0.0</td>\n      <td>0.0</td>\n      <td>0.0</td>\n      <td>0.0</td>\n      <td>0.0</td>\n      <td>0.0</td>\n      <td>0.0</td>\n      <td>0.0</td>\n      <td>0.0</td>\n      <td>...</td>\n      <td>0.0</td>\n      <td>0.0</td>\n      <td>0.0</td>\n      <td>0.0</td>\n      <td>0.0</td>\n      <td>0.0</td>\n      <td>0.0</td>\n      <td>0.0</td>\n      <td>0.0</td>\n      <td>0.0</td>\n    </tr>\n    <tr>\n      <th>9720</th>\n      <td>0.0</td>\n      <td>0.0</td>\n      <td>0.0</td>\n      <td>0.0</td>\n      <td>0.0</td>\n      <td>0.0</td>\n      <td>0.0</td>\n      <td>0.0</td>\n      <td>0.0</td>\n      <td>0.0</td>\n      <td>...</td>\n      <td>0.0</td>\n      <td>0.0</td>\n      <td>0.0</td>\n      <td>0.0</td>\n      <td>0.0</td>\n      <td>0.0</td>\n      <td>0.0</td>\n      <td>0.0</td>\n      <td>0.0</td>\n      <td>0.0</td>\n    </tr>\n    <tr>\n      <th>9721</th>\n      <td>0.0</td>\n      <td>0.0</td>\n      <td>0.0</td>\n      <td>0.0</td>\n      <td>0.0</td>\n      <td>0.0</td>\n      <td>0.0</td>\n      <td>0.0</td>\n      <td>0.0</td>\n      <td>0.0</td>\n      <td>...</td>\n      <td>0.0</td>\n      <td>0.0</td>\n      <td>0.0</td>\n      <td>0.0</td>\n      <td>0.0</td>\n      <td>0.0</td>\n      <td>0.0</td>\n      <td>0.0</td>\n      <td>0.0</td>\n      <td>0.0</td>\n    </tr>\n    <tr>\n      <th>9722</th>\n      <td>0.0</td>\n      <td>0.0</td>\n      <td>0.0</td>\n      <td>0.0</td>\n      <td>0.0</td>\n      <td>0.0</td>\n      <td>0.0</td>\n      <td>0.0</td>\n      <td>0.0</td>\n      <td>0.0</td>\n      <td>...</td>\n      <td>0.0</td>\n      <td>0.0</td>\n      <td>0.0</td>\n      <td>0.0</td>\n      <td>0.0</td>\n      <td>0.0</td>\n      <td>0.0</td>\n      <td>0.0</td>\n      <td>0.0</td>\n      <td>0.0</td>\n    </tr>\n    <tr>\n      <th>9723</th>\n      <td>0.0</td>\n      <td>0.0</td>\n      <td>0.0</td>\n      <td>0.0</td>\n      <td>0.0</td>\n      <td>0.0</td>\n      <td>0.0</td>\n      <td>0.0</td>\n      <td>0.0</td>\n      <td>0.0</td>\n      <td>...</td>\n      <td>0.0</td>\n      <td>0.0</td>\n      <td>0.0</td>\n      <td>0.0</td>\n      <td>0.0</td>\n      <td>0.0</td>\n      <td>0.0</td>\n      <td>0.0</td>\n      <td>0.0</td>\n      <td>0.0</td>\n    </tr>\n  </tbody>\n</table>\n<p>9724 rows × 610 columns</p>\n</div>"
     },
     "execution_count": 17,
     "metadata": {},
     "output_type": "execute_result"
    }
   ],
   "source": [
    "user_index = [user_mapper[i] for i in df_ratings['userId']]\n",
    "movie_index = [movie_mapper[i] for i in df_ratings['movieId']]\n",
    "X = csr_matrix((df_ratings[\"rating\"], (movie_index, user_index)), shape=(M, N))\n",
    "df_X = pd.DataFrame(X.toarray())\n",
    "df_X"
   ],
   "metadata": {
    "collapsed": false,
    "pycharm": {
     "name": "#%%\n"
    }
   }
  },
  {
   "cell_type": "markdown",
   "source": [
    "# 3.2. Find similar movies"
   ],
   "metadata": {
    "collapsed": false,
    "pycharm": {
     "name": "#%% md\n"
    }
   }
  },
  {
   "cell_type": "markdown",
   "source": [
    "# 3.2.1. Prepare the model"
   ],
   "metadata": {
    "collapsed": false,
    "pycharm": {
     "name": "#%% md\n"
    }
   }
  },
  {
   "cell_type": "code",
   "execution_count": 18,
   "outputs": [
    {
     "data": {
      "text/plain": "      movieId                  title               genres\n7845    93510  21 Jump Street (2012)  Action|Comedy|Crime",
      "text/html": "<div>\n<style scoped>\n    .dataframe tbody tr th:only-of-type {\n        vertical-align: middle;\n    }\n\n    .dataframe tbody tr th {\n        vertical-align: top;\n    }\n\n    .dataframe thead th {\n        text-align: right;\n    }\n</style>\n<table border=\"1\" class=\"dataframe\">\n  <thead>\n    <tr style=\"text-align: right;\">\n      <th></th>\n      <th>movieId</th>\n      <th>title</th>\n      <th>genres</th>\n    </tr>\n  </thead>\n  <tbody>\n    <tr>\n      <th>7845</th>\n      <td>93510</td>\n      <td>21 Jump Street (2012)</td>\n      <td>Action|Comedy|Crime</td>\n    </tr>\n  </tbody>\n</table>\n</div>"
     },
     "execution_count": 18,
     "metadata": {},
     "output_type": "execute_result"
    }
   ],
   "source": [
    "movie_id = random.randint(0, n_movies)\n",
    "df_movies.loc[df_movies['movieId']==df_ratings['movieId'].unique()[movie_id]]"
   ],
   "metadata": {
    "collapsed": false,
    "pycharm": {
     "name": "#%%\n"
    }
   }
  },
  {
   "cell_type": "code",
   "execution_count": 19,
   "outputs": [
    {
     "data": {
      "text/plain": "[1187, 3217, 7216, 2067, 2132, 1683, 3735, 8364, 1299]"
     },
     "execution_count": 19,
     "metadata": {},
     "output_type": "execute_result"
    }
   ],
   "source": [
    "neighbor_ids = []\n",
    "\n",
    "movie_idx = movie_mapper[movie_id]\n",
    "movie_vec = X[movie_idx]\n",
    "k=10\n",
    "knn = NearestNeighbors(n_neighbors=k+1, algorithm=\"brute\", metric=\"cosine\")\n",
    "knn.fit(X)\n",
    "movie_vec = movie_vec.reshape(1,-1)\n",
    "neighbor = knn.kneighbors(movie_vec, return_distance=False)\n",
    "\n",
    "movie_inv_mapper = dict(zip(list(range(M)), np.unique(df_ratings[\"movieId\"])))\n",
    "\n",
    "for i in range(0,k):\n",
    "    n = neighbor.item(i)\n",
    "    neighbor_ids.append(movie_inv_mapper[n])\n",
    "neighbor_ids.pop(0)\n",
    "neighbor_ids"
   ],
   "metadata": {
    "collapsed": false,
    "pycharm": {
     "name": "#%%\n"
    }
   }
  },
  {
   "cell_type": "code",
   "execution_count": 20,
   "outputs": [],
   "source": [
    "def find_similar_movies(movie_id, X, k):\n",
    "\n",
    "    neighbor_ids = []\n",
    "\n",
    "    movie_idx = movie_mapper[movie_id]\n",
    "    movie_vec = X[movie_idx]\n",
    "    k=k+1\n",
    "    knn = NearestNeighbors(n_neighbors=k+1, algorithm=\"brute\", metric=\"cosine\")\n",
    "    knn.fit(X)\n",
    "    movie_vec = movie_vec.reshape(1,-1)\n",
    "    neighbor = knn.kneighbors(movie_vec, return_distance=False)\n",
    "\n",
    "    movie_inv_mapper = dict(zip(list(range(M)), np.unique(df_ratings[\"movieId\"])))\n",
    "\n",
    "    for i in range(0,k):\n",
    "        n = neighbor.item(i)\n",
    "        neighbor_ids.append(movie_inv_mapper[n])\n",
    "    neighbor_ids.pop(0)\n",
    "    return neighbor_ids"
   ],
   "metadata": {
    "collapsed": false,
    "pycharm": {
     "name": "#%%\n"
    }
   }
  },
  {
   "cell_type": "code",
   "execution_count": 21,
   "outputs": [
    {
     "data": {
      "text/plain": "{1: 'Toy Story (1995)',\n 2: 'Jumanji (1995)',\n 3: 'Grumpier Old Men (1995)',\n 4: 'Waiting to Exhale (1995)',\n 5: 'Father of the Bride Part II (1995)',\n 6: 'Heat (1995)',\n 7: 'Sabrina (1995)',\n 8: 'Tom and Huck (1995)',\n 9: 'Sudden Death (1995)',\n 10: 'GoldenEye (1995)',\n 11: 'American President, The (1995)',\n 12: 'Dracula: Dead and Loving It (1995)',\n 13: 'Balto (1995)',\n 14: 'Nixon (1995)',\n 15: 'Cutthroat Island (1995)',\n 16: 'Casino (1995)',\n 17: 'Sense and Sensibility (1995)',\n 18: 'Four Rooms (1995)',\n 19: 'Ace Ventura: When Nature Calls (1995)',\n 20: 'Money Train (1995)',\n 21: 'Get Shorty (1995)',\n 22: 'Copycat (1995)',\n 23: 'Assassins (1995)',\n 24: 'Powder (1995)',\n 25: 'Leaving Las Vegas (1995)',\n 26: 'Othello (1995)',\n 27: 'Now and Then (1995)',\n 28: 'Persuasion (1995)',\n 29: 'City of Lost Children, The (Cité des enfants perdus, La) (1995)',\n 30: 'Shanghai Triad (Yao a yao yao dao waipo qiao) (1995)',\n 31: 'Dangerous Minds (1995)',\n 32: 'Twelve Monkeys (a.k.a. 12 Monkeys) (1995)',\n 34: 'Babe (1995)',\n 36: 'Dead Man Walking (1995)',\n 38: 'It Takes Two (1995)',\n 39: 'Clueless (1995)',\n 40: 'Cry, the Beloved Country (1995)',\n 41: 'Richard III (1995)',\n 42: 'Dead Presidents (1995)',\n 43: 'Restoration (1995)',\n 44: 'Mortal Kombat (1995)',\n 45: 'To Die For (1995)',\n 46: 'How to Make an American Quilt (1995)',\n 47: 'Seven (a.k.a. Se7en) (1995)',\n 48: 'Pocahontas (1995)',\n 49: 'When Night Is Falling (1995)',\n 50: 'Usual Suspects, The (1995)',\n 52: 'Mighty Aphrodite (1995)',\n 53: 'Lamerica (1994)',\n 54: 'Big Green, The (1995)',\n 55: 'Georgia (1995)',\n 57: 'Home for the Holidays (1995)',\n 58: 'Postman, The (Postino, Il) (1994)',\n 60: 'Indian in the Cupboard, The (1995)',\n 61: 'Eye for an Eye (1996)',\n 62: \"Mr. Holland's Opus (1995)\",\n 63: \"Don't Be a Menace to South Central While Drinking Your Juice in the Hood (1996)\",\n 64: 'Two if by Sea (1996)',\n 65: 'Bio-Dome (1996)',\n 66: 'Lawnmower Man 2: Beyond Cyberspace (1996)',\n 68: 'French Twist (Gazon maudit) (1995)',\n 69: 'Friday (1995)',\n 70: 'From Dusk Till Dawn (1996)',\n 71: 'Fair Game (1995)',\n 72: 'Kicking and Screaming (1995)',\n 73: 'Misérables, Les (1995)',\n 74: 'Bed of Roses (1996)',\n 75: 'Big Bully (1996)',\n 76: 'Screamers (1995)',\n 77: 'Nico Icon (1995)',\n 78: 'Crossing Guard, The (1995)',\n 79: 'Juror, The (1996)',\n 80: 'White Balloon, The (Badkonake sefid) (1995)',\n 81: \"Things to Do in Denver When You're Dead (1995)\",\n 82: \"Antonia's Line (Antonia) (1995)\",\n 83: 'Once Upon a Time... When We Were Colored (1995)',\n 85: 'Angels and Insects (1995)',\n 86: 'White Squall (1996)',\n 87: 'Dunston Checks In (1996)',\n 88: 'Black Sheep (1996)',\n 89: 'Nick of Time (1995)',\n 92: 'Mary Reilly (1996)',\n 93: 'Vampire in Brooklyn (1995)',\n 94: 'Beautiful Girls (1996)',\n 95: 'Broken Arrow (1996)',\n 96: 'In the Bleak Midwinter (1995)',\n 97: 'Hate (Haine, La) (1995)',\n 99: 'Heidi Fleiss: Hollywood Madam (1995)',\n 100: 'City Hall (1996)',\n 101: 'Bottle Rocket (1996)',\n 102: 'Mr. Wrong (1996)',\n 103: 'Unforgettable (1996)',\n 104: 'Happy Gilmore (1996)',\n 105: 'Bridges of Madison County, The (1995)',\n 106: 'Nobody Loves Me (Keiner liebt mich) (1994)',\n 107: 'Muppet Treasure Island (1996)',\n 108: 'Catwalk (1996)',\n 110: 'Braveheart (1995)',\n 111: 'Taxi Driver (1976)',\n 112: 'Rumble in the Bronx (Hont faan kui) (1995)',\n 113: 'Before and After (1996)',\n 116: 'Anne Frank Remembered (1995)',\n 117: \"Young Poisoner's Handbook, The (1995)\",\n 118: 'If Lucy Fell (1996)',\n 119: 'Steal Big, Steal Little (1995)',\n 121: 'Boys of St. Vincent, The (1992)',\n 122: 'Boomerang (1992)',\n 123: 'Chungking Express (Chung Hing sam lam) (1994)',\n 125: 'Flirting With Disaster (1996)',\n 126: 'NeverEnding Story III, The (1994)',\n 128: \"Jupiter's Wife (1994)\",\n 129: 'Pie in the Sky (1996)',\n 132: 'Jade (1995)',\n 135: 'Down Periscope (1996)',\n 137: 'Man of the Year (1995)',\n 140: 'Up Close and Personal (1996)',\n 141: 'Birdcage, The (1996)',\n 144: 'Brothers McMullen, The (1995)',\n 145: 'Bad Boys (1995)',\n 146: 'Amazing Panda Adventure, The (1995)',\n 147: 'Basketball Diaries, The (1995)',\n 148: 'Awfully Big Adventure, An (1995)',\n 149: 'Amateur (1994)',\n 150: 'Apollo 13 (1995)',\n 151: 'Rob Roy (1995)',\n 152: 'Addiction, The (1995)',\n 153: 'Batman Forever (1995)',\n 154: 'Beauty of the Day (Belle de jour) (1967)',\n 155: 'Beyond Rangoon (1995)',\n 156: 'Blue in the Face (1995)',\n 157: 'Canadian Bacon (1995)',\n 158: 'Casper (1995)',\n 159: 'Clockers (1995)',\n 160: 'Congo (1995)',\n 161: 'Crimson Tide (1995)',\n 162: 'Crumb (1994)',\n 163: 'Desperado (1995)',\n 164: 'Devil in a Blue Dress (1995)',\n 165: 'Die Hard: With a Vengeance (1995)',\n 166: 'Doom Generation, The (1995)',\n 168: 'First Knight (1995)',\n 169: 'Free Willy 2: The Adventure Home (1995)',\n 170: 'Hackers (1995)',\n 171: 'Jeffrey (1995)',\n 172: 'Johnny Mnemonic (1995)',\n 173: 'Judge Dredd (1995)',\n 174: 'Jury Duty (1995)',\n 175: 'Kids (1995)',\n 176: 'Living in Oblivion (1995)',\n 177: 'Lord of Illusions (1995)',\n 178: 'Love & Human Remains (1993)',\n 179: 'Mad Love (1995)',\n 180: 'Mallrats (1995)',\n 181: 'Mighty Morphin Power Rangers: The Movie (1995)',\n 183: 'Mute Witness (1994)',\n 184: 'Nadja (1994)',\n 185: 'Net, The (1995)',\n 186: 'Nine Months (1995)',\n 187: 'Party Girl (1995)',\n 188: 'Prophecy, The (1995)',\n 189: 'Reckless (1995)',\n 190: 'Safe (1995)',\n 191: 'Scarlet Letter, The (1995)',\n 193: 'Showgirls (1995)',\n 194: 'Smoke (1995)',\n 195: 'Something to Talk About (1995)',\n 196: 'Species (1995)',\n 198: 'Strange Days (1995)',\n 199: 'Umbrellas of Cherbourg, The (Parapluies de Cherbourg, Les) (1964)',\n 201: 'Three Wishes (1995)',\n 202: 'Total Eclipse (1995)',\n 203: 'To Wong Foo, Thanks for Everything! Julie Newmar (1995)',\n 204: 'Under Siege 2: Dark Territory (1995)',\n 205: 'Unstrung Heroes (1995)',\n 206: 'Unzipped (1995)',\n 207: 'Walk in the Clouds, A (1995)',\n 208: 'Waterworld (1995)',\n 209: \"White Man's Burden (1995)\",\n 210: 'Wild Bill (1995)',\n 211: 'Browning Version, The (1994)',\n 212: 'Bushwhacked (1995)',\n 213: 'Burnt by the Sun (Utomlyonnye solntsem) (1994)',\n 214: 'Before the Rain (Pred dozhdot) (1994)',\n 215: 'Before Sunrise (1995)',\n 216: 'Billy Madison (1995)',\n 217: 'Babysitter, The (1995)',\n 218: 'Boys on the Side (1995)',\n 219: 'Cure, The (1995)',\n 220: 'Castle Freak (1995)',\n 222: 'Circle of Friends (1995)',\n 223: 'Clerks (1994)',\n 224: 'Don Juan DeMarco (1995)',\n 225: 'Disclosure (1994)',\n 227: 'Drop Zone (1994)',\n 228: 'Destiny Turns on the Radio (1995)',\n 229: 'Death and the Maiden (1994)',\n 230: 'Dolores Claiborne (1995)',\n 231: 'Dumb & Dumber (Dumb and Dumber) (1994)',\n 232: 'Eat Drink Man Woman (Yin shi nan nu) (1994)',\n 233: 'Exotica (1994)',\n 234: 'Exit to Eden (1994)',\n 235: 'Ed Wood (1994)',\n 236: 'French Kiss (1995)',\n 237: 'Forget Paris (1995)',\n 238: 'Far From Home: The Adventures of Yellow Dog (1995)',\n 239: 'Goofy Movie, A (1995)',\n 240: 'Hideaway (1995)',\n 241: 'Fluke (1995)',\n 242: 'Farinelli: il castrato (1994)',\n 243: 'Gordy (1995)',\n 246: 'Hoop Dreams (1994)',\n 247: 'Heavenly Creatures (1994)',\n 248: 'Houseguest (1994)',\n 249: 'Immortal Beloved (1994)',\n 250: 'Heavyweights (Heavy Weights) (1995)',\n 251: 'Hunted, The (1995)',\n 252: 'I.Q. (1994)',\n 253: 'Interview with the Vampire: The Vampire Chronicles (1994)',\n 254: 'Jefferson in Paris (1995)',\n 255: 'Jerky Boys, The (1995)',\n 256: 'Junior (1994)',\n 257: 'Just Cause (1995)',\n 258: \"Kid in King Arthur's Court, A (1995)\",\n 259: 'Kiss of Death (1995)',\n 260: 'Star Wars: Episode IV - A New Hope (1977)',\n 261: 'Little Women (1994)',\n 262: 'Little Princess, A (1995)',\n 263: 'Ladybird Ladybird (1994)',\n 265: 'Like Water for Chocolate (Como agua para chocolate) (1992)',\n 266: 'Legends of the Fall (1994)',\n 267: 'Major Payne (1995)',\n 269: 'My Crazy Life (Mi vida loca) (1993)',\n 270: 'Love Affair (1994)',\n 271: 'Losing Isaiah (1995)',\n 272: 'Madness of King George, The (1994)',\n 273: \"Mary Shelley's Frankenstein (Frankenstein) (1994)\",\n 274: 'Man of the House (1995)',\n 275: 'Mixed Nuts (1994)',\n 276: 'Milk Money (1994)',\n 277: 'Miracle on 34th Street (1994)',\n 278: 'Miami Rhapsody (1995)',\n 279: 'My Family (1995)',\n 280: 'Murder in the First (1995)',\n 281: \"Nobody's Fool (1994)\",\n 282: 'Nell (1994)',\n 283: 'New Jersey Drive (1995)',\n 284: 'New York Cop (Nyû Yôku no koppu) (1993)',\n 285: 'Beyond Bedlam (1993)',\n 287: 'Nina Takes a Lover (1994)',\n 288: 'Natural Born Killers (1994)',\n 289: 'Only You (1994)',\n 290: 'Once Were Warriors (1994)',\n 291: 'Poison Ivy II (1996)',\n 292: 'Outbreak (1995)',\n 293: 'Léon: The Professional (a.k.a. The Professional) (Léon) (1994)',\n 294: 'Perez Family, The (1995)',\n 295: \"Pyromaniac's Love Story, A (1995)\",\n 296: 'Pulp Fiction (1994)',\n 298: 'Pushing Hands (Tui shou) (1992)',\n 299: 'Priest (1994)',\n 300: 'Quiz Show (1994)',\n 301: 'Picture Bride (Bijo photo) (1994)',\n 302: 'Queen Margot (Reine Margot, La) (1994)',\n 303: 'Quick and the Dead, The (1995)',\n 304: 'Roommates (1995)',\n 305: 'Ready to Wear (Pret-A-Porter) (1994)',\n 306: 'Three Colors: Red (Trois couleurs: Rouge) (1994)',\n 307: 'Three Colors: Blue (Trois couleurs: Bleu) (1993)',\n 308: 'Three Colors: White (Trzy kolory: Bialy) (1994)',\n 310: 'Rent-a-Kid (1995)',\n 311: 'Relative Fear (1994)',\n 312: 'Stuart Saves His Family (1995)',\n 313: 'Swan Princess, The (1994)',\n 314: 'Secret of Roan Inish, The (1994)',\n 315: 'Specialist, The (1994)',\n 316: 'Stargate (1994)',\n 317: 'Santa Clause, The (1994)',\n 318: 'Shawshank Redemption, The (1994)',\n 319: 'Shallow Grave (1994)',\n 320: 'Suture (1993)',\n 321: 'Strawberry and Chocolate (Fresa y chocolate) (1993)',\n 322: 'Swimming with Sharks (1995)',\n 324: 'Sum of Us, The (1994)',\n 325: \"National Lampoon's Senior Trip (1995)\",\n 326: 'To Live (Huozhe) (1994)',\n 327: 'Tank Girl (1995)',\n 328: 'Tales from the Crypt Presents: Demon Knight (1995)',\n 329: 'Star Trek: Generations (1994)',\n 330: 'Tales from the Hood (1995)',\n 331: 'Tom & Viv (1994)',\n 332: 'Village of the Damned (1995)',\n 333: 'Tommy Boy (1995)',\n 334: 'Vanya on 42nd Street (1994)',\n 335: 'Underneath (1995)',\n 336: 'Walking Dead, The (1995)',\n 337: \"What's Eating Gilbert Grape (1993)\",\n 338: 'Virtuosity (1995)',\n 339: 'While You Were Sleeping (1995)',\n 340: 'War, The (1994)',\n 341: 'Double Happiness (1994)',\n 342: \"Muriel's Wedding (1994)\",\n 343: 'Baby-Sitters Club, The (1995)',\n 344: 'Ace Ventura: Pet Detective (1994)',\n 345: 'Adventures of Priscilla, Queen of the Desert, The (1994)',\n 346: 'Backbeat (1993)',\n 347: 'Bitter Moon (1992)',\n 348: 'Bullets Over Broadway (1994)',\n 349: 'Clear and Present Danger (1994)',\n 350: 'Client, The (1994)',\n 351: 'Corrina, Corrina (1994)',\n 352: 'Crooklyn (1994)',\n 353: 'Crow, The (1994)',\n 354: 'Cobb (1994)',\n 355: 'Flintstones, The (1994)',\n 356: 'Forrest Gump (1994)',\n 357: 'Four Weddings and a Funeral (1994)',\n 358: 'Higher Learning (1995)',\n 359: 'I Like It Like That (1994)',\n 360: 'I Love Trouble (1994)',\n 361: 'It Could Happen to You (1994)',\n 362: 'Jungle Book, The (1994)',\n 363: 'Wonderful, Horrible Life of Leni Riefenstahl, The (Macht der Bilder: Leni Riefenstahl, Die) (1993)',\n 364: 'Lion King, The (1994)',\n 365: 'Little Buddha (1993)',\n 366: \"Wes Craven's New Nightmare (Nightmare on Elm Street Part 7: Freddy's Finale, A) (1994)\",\n 367: 'Mask, The (1994)',\n 368: 'Maverick (1994)',\n 369: 'Mrs. Parker and the Vicious Circle (1994)',\n 370: 'Naked Gun 33 1/3: The Final Insult (1994)',\n 371: 'Paper, The (1994)',\n 372: 'Reality Bites (1994)',\n 373: 'Red Rock West (1992)',\n 374: 'Richie Rich (1994)',\n 376: 'River Wild, The (1994)',\n 377: 'Speed (1994)',\n 378: 'Speechless (1994)',\n 379: 'Timecop (1994)',\n 380: 'True Lies (1994)',\n 381: 'When a Man Loves a Woman (1994)',\n 382: 'Wolf (1994)',\n 383: 'Wyatt Earp (1994)',\n 384: 'Bad Company (1995)',\n 385: 'Man of No Importance, A (1994)',\n 386: 'S.F.W. (1994)',\n 387: 'Low Down Dirty Shame, A (1994)',\n 388: 'Boys Life (1995)',\n 389: 'Colonel Chabert, Le (1994)',\n 390: 'Faster Pussycat! Kill! Kill! (1965)',\n 391: \"Jason's Lyric (1994)\",\n 393: 'Street Fighter (1994)',\n 405: 'Highlander III: The Sorcerer (a.k.a. Highlander: The Final Dimension) (1994)',\n 406: 'Federal Hill (1994)',\n 407: 'In the Mouth of Madness (1995)',\n 408: '8 Seconds (1994)',\n 409: 'Above the Rim (1994)',\n 410: 'Addams Family Values (1993)',\n 412: 'Age of Innocence, The (1993)',\n 413: 'Airheads (1994)',\n 414: 'Air Up There, The (1994)',\n 415: 'Another Stakeout (1993)',\n 416: 'Bad Girls (1994)',\n 417: 'Barcelona (1994)',\n 418: 'Being Human (1993)',\n 419: 'Beverly Hillbillies, The (1993)',\n 420: 'Beverly Hills Cop III (1994)',\n 421: 'Black Beauty (1994)',\n 422: 'Blink (1994)',\n 423: 'Blown Away (1994)',\n 424: 'Blue Chips (1994)',\n 425: 'Blue Sky (1994)',\n 426: 'Body Snatchers (1993)',\n 427: 'Boxing Helena (1993)',\n 428: 'Bronx Tale, A (1993)',\n 429: 'Cabin Boy (1994)',\n 430: 'Calendar Girl (1993)',\n 431: \"Carlito's Way (1993)\",\n 432: \"City Slickers II: The Legend of Curly's Gold (1994)\",\n 433: 'Clean Slate (1994)',\n 434: 'Cliffhanger (1993)',\n 435: 'Coneheads (1993)',\n 436: 'Color of Night (1994)',\n 437: 'Cops and Robbersons (1994)',\n 438: 'Cowboy Way, The (1994)',\n 440: 'Dave (1993)',\n 441: 'Dazed and Confused (1993)',\n 442: 'Demolition Man (1993)',\n 444: 'Even Cowgirls Get the Blues (1993)',\n 445: 'Fatal Instinct (1993)',\n 446: 'Farewell My Concubine (Ba wang bie ji) (1993)',\n 448: 'Fearless (1993)',\n 449: 'Fear of a Black Hat (1994)',\n 450: 'With Honors (1994)',\n 451: 'Flesh and Bone (1993)',\n 452: \"Widows' Peak (1994)\",\n 453: 'For Love or Money (1993)',\n 454: 'Firm, The (1993)',\n 455: 'Free Willy (1993)',\n 456: 'Fresh (1994)',\n 457: 'Fugitive, The (1993)',\n 458: 'Geronimo: An American Legend (1993)',\n 459: 'Getaway, The (1994)',\n 460: 'Getting Even with Dad (1994)',\n 461: 'Go Fish (1994)',\n 464: 'Hard Target (1993)',\n 466: 'Hot Shots! Part Deux (1993)',\n 467: 'Live Nude Girls (1995)',\n 468: 'Englishman Who Went Up a Hill But Came Down a Mountain, The (1995)',\n 469: 'House of the Spirits, The (1993)',\n 470: 'House Party 3 (1994)',\n 471: 'Hudsucker Proxy, The (1994)',\n 472: \"I'll Do Anything (1994)\",\n 473: 'In the Army Now (1994)',\n 474: 'In the Line of Fire (1993)',\n 475: 'In the Name of the Father (1993)',\n 476: 'Inkwell, The (1994)',\n 477: \"What's Love Got to Do with It? (1993)\",\n 478: 'Jimmy Hollywood (1994)',\n 479: 'Judgment Night (1993)',\n 480: 'Jurassic Park (1993)',\n 481: 'Kalifornia (1993)',\n 482: 'Killing Zoe (1994)',\n 484: 'Lassie (1994)',\n 485: 'Last Action Hero (1993)',\n 486: 'Life with Mikey (1993)',\n 487: 'Lightning Jack (1994)',\n 488: 'M. Butterfly (1993)',\n 489: 'Made in America (1993)',\n 490: 'Malice (1993)',\n 491: 'Man Without a Face, The (1993)',\n 492: 'Manhattan Murder Mystery (1993)',\n 493: 'Menace II Society (1993)',\n 494: 'Executive Decision (1996)',\n 495: 'In the Realm of the Senses (Ai no corrida) (1976)',\n 496: 'What Happened Was... (1994)',\n 497: 'Much Ado About Nothing (1993)',\n 499: 'Mr. Wonderful (1993)',\n 500: 'Mrs. Doubtfire (1993)',\n 501: 'Naked (1993)',\n 502: 'Next Karate Kid, The (1994)',\n 504: 'No Escape (1994)',\n 505: 'North (1994)',\n 506: 'Orlando (1992)',\n 507: 'Perfect World, A (1993)',\n 508: 'Philadelphia (1993)',\n 509: 'Piano, The (1993)',\n 510: 'Poetic Justice (1993)',\n 511: 'Program, The (1993)',\n 512: 'Puppet Masters, The (1994)',\n 513: 'Radioland Murders (1994)',\n 514: 'Ref, The (1994)',\n 515: 'Remains of the Day, The (1993)',\n 516: 'Renaissance Man (1994)',\n 517: 'Rising Sun (1993)',\n 518: 'Road to Wellville, The (1994)',\n 519: 'RoboCop 3 (1993)',\n 520: 'Robin Hood: Men in Tights (1993)',\n 521: 'Romeo Is Bleeding (1993)',\n 522: 'Romper Stomper (1992)',\n 523: 'Ruby in Paradise (1993)',\n 524: 'Rudy (1993)',\n 526: 'Savage Nights (Nuits fauves, Les) (1992)',\n 527: \"Schindler's List (1993)\",\n 528: 'Scout, The (1994)',\n 529: 'Searching for Bobby Fischer (1993)',\n 531: 'Secret Garden, The (1993)',\n 532: 'Serial Mom (1994)',\n 533: 'Shadow, The (1994)',\n 534: 'Shadowlands (1993)',\n 535: 'Short Cuts (1993)',\n 536: 'Simple Twist of Fate, A (1994)',\n 537: 'Sirens (1994)',\n 538: 'Six Degrees of Separation (1993)',\n 539: 'Sleepless in Seattle (1993)',\n 540: 'Sliver (1993)',\n 541: 'Blade Runner (1982)',\n 542: 'Son in Law (1993)',\n 543: 'So I Married an Axe Murderer (1993)',\n 544: 'Striking Distance (1993)',\n 546: 'Super Mario Bros. (1993)',\n 547: 'Surviving the Game (1994)',\n 548: 'Terminal Velocity (1994)',\n 549: 'Thirty-Two Short Films About Glenn Gould (1993)',\n 550: 'Threesome (1994)',\n 551: 'Nightmare Before Christmas, The (1993)',\n 552: 'Three Musketeers, The (1993)',\n 553: 'Tombstone (1993)',\n 555: 'True Romance (1993)',\n 556: 'War Room, The (1993)',\n 558: 'Pagemaster, The (1994)',\n 562: 'Welcome to the Dollhouse (1995)',\n 563: 'Germinal (1993)',\n 564: 'Chasers (1994)',\n 567: 'Kika (1993)',\n 568: 'Bhaji on the Beach (1993)',\n 569: 'Little Big League (1994)',\n 573: 'Ciao, Professore! (Io speriamo che me la cavo) (1992)',\n 574: 'Spanking the Monkey (1994)',\n 575: 'Little Rascals, The (1994)',\n 577: 'Andre (1994)',\n 579: 'Escort, The (Scorta, La) (1993)',\n 580: 'Princess Caraboo (1994)',\n 581: 'Celluloid Closet, The (1995)',\n 583: 'Dear Diary (Caro Diario) (1994)',\n 585: 'Brady Bunch Movie, The (1995)',\n 586: 'Home Alone (1990)',\n 587: 'Ghost (1990)',\n 588: 'Aladdin (1992)',\n 589: 'Terminator 2: Judgment Day (1991)',\n 590: 'Dances with Wolves (1990)',\n 592: 'Batman (1989)',\n 593: 'Silence of the Lambs, The (1991)',\n 594: 'Snow White and the Seven Dwarfs (1937)',\n 595: 'Beauty and the Beast (1991)',\n 596: 'Pinocchio (1940)',\n 597: 'Pretty Woman (1990)',\n 599: 'Wild Bunch, The (1969)',\n 600: 'Love and a .45 (1994)',\n 602: 'Great Day in Harlem, A (1994)',\n 605: 'One Fine Day (1996)',\n 606: 'Candyman: Farewell to the Flesh (1995)',\n 608: 'Fargo (1996)',\n 609: 'Homeward Bound II: Lost in San Francisco (1996)',\n 610: 'Heavy Metal (1981)',\n 611: 'Hellraiser: Bloodline (1996)',\n 612: 'Pallbearer, The (1996)',\n 613: 'Jane Eyre (1996)',\n 615: 'Bread and Chocolate (Pane e cioccolata) (1973)',\n 616: 'Aristocats, The (1970)',\n 617: 'Flower of My Secret, The (La flor de mi secreto) (1995)',\n 618: 'Two Much (1995)',\n 619: 'Ed (1996)',\n 626: 'Thin Line Between Love and Hate, A (1996)',\n 627: 'Last Supper, The (1995)',\n 628: 'Primal Fear (1996)',\n 631: 'All Dogs Go to Heaven 2 (1996)',\n 632: 'Land and Freedom (Tierra y libertad) (1995)',\n 633: 'Denise Calls Up (1995)',\n 634: 'Theodore Rex (1995)',\n 635: 'Family Thing, A (1996)',\n 636: 'Frisk (1995)',\n 637: 'Sgt. Bilko (1996)',\n 638: 'Jack and Sarah (1995)',\n 639: 'Girl 6 (1996)',\n 640: 'Diabolique (1996)',\n 645: 'Nelly & Monsieur Arnaud (1995)',\n 647: 'Courage Under Fire (1996)',\n 648: 'Mission: Impossible (1996)',\n 649: 'Cold Fever (Á köldum klaka) (1995)',\n 650: 'Moll Flanders (1996)',\n 653: 'Dragonheart (1996)',\n 656: 'Eddie (1996)',\n 661: 'James and the Giant Peach (1996)',\n 662: 'Fear (1996)',\n 663: 'Kids in the Hall: Brain Candy (1996)',\n 665: 'Underground (1995)',\n 667: 'Bloodsport 2 (a.k.a. Bloodsport II: The Next Kumite) (1996)',\n 668: 'Song of the Little Road (Pather Panchali) (1955)',\n 670: 'World of Apu, The (Apur Sansar) (1959)',\n 671: 'Mystery Science Theater 3000: The Movie (1996)',\n 673: 'Space Jam (1996)',\n 674: 'Barbarella (1968)',\n 678: 'Some Folks Call It a Sling Blade (1993)',\n 679: 'Run of the Country, The (1995)',\n 680: 'Alphaville (Alphaville, une étrange aventure de Lemmy Caution) (1965)',\n 685: \"It's My Party (1996)\",\n 688: 'Operation Dumbo Drop (1995)',\n 691: 'Mrs. Winterbourne (1996)',\n 692: 'Solo (1996)',\n 694: 'Substitute, The (1996)',\n 695: 'True Crime (1996)',\n 697: 'Feeling Minnesota (1996)',\n 698: 'Delta of Venus (1995)',\n 700: 'Angus (1995)',\n 703: 'Boys (1996)',\n 704: 'Quest, The (1996)',\n 706: 'Sunset Park (1996)',\n 707: 'Mulholland Falls (1996)',\n 708: 'Truth About Cats & Dogs, The (1996)',\n 709: 'Oliver & Company (1988)',\n 710: 'Celtic Pride (1996)',\n 711: 'Flipper (1996)',\n 714: 'Dead Man (1995)',\n 715: 'Horseman on the Roof, The (Hussard sur le toit, Le) (1995)',\n 718: 'Visitors, The (Visiteurs, Les) (1993)',\n 719: 'Multiplicity (1996)',\n 720: 'Wallace & Gromit: The Best of Aardman Animation (1996)',\n 722: 'Haunted World of Edward D. Wood Jr., The (1996)',\n 724: 'Craft, The (1996)',\n 725: 'Great White Hype, The (1996)',\n 726: 'Last Dance (1996)',\n 728: 'Cold Comfort Farm (1995)',\n 731: \"Heaven's Prisoners (1996)\",\n 733: 'Rock, The (1996)',\n 735: 'Cemetery Man (Dellamorte Dellamore) (1994)',\n 736: 'Twister (1996)',\n 737: 'Barb Wire (1996)',\n 741: 'Ghost in the Shell (Kôkaku kidôtai) (1995)',\n 742: 'Thinner (1996)',\n 743: 'Spy Hard (1996)',\n 745: 'Wallace & Gromit: A Close Shave (1995)',\n 747: 'Stupids, The (1996)',\n 748: 'Arrival, The (1996)',\n 750: 'Dr. Strangelove or: How I Learned to Stop Worrying and Love the Bomb (1964)',\n 757: 'Ashes of Time (Dung che sai duk) (1994)',\n 759: 'Maya Lin: A Strong Clear Vision (1994)',\n 760: 'Stalingrad (1993)',\n 761: 'Phantom, The (1996)',\n 762: 'Striptease (1996)',\n 764: 'Heavy (1995)',\n 765: 'Jack (1996)',\n 766: 'I Shot Andy Warhol (1996)',\n 773: 'Touki Bouki (1973)',\n 775: 'Spirits of the Dead (1968)',\n 778: 'Trainspotting (1996)',\n 779: \"'Til There Was You (1997)\",\n 780: 'Independence Day (a.k.a. ID4) (1996)',\n 781: 'Stealing Beauty (1996)',\n 782: 'Fan, The (1996)',\n 783: 'Hunchback of Notre Dame, The (1996)',\n 784: 'Cable Guy, The (1996)',\n 785: 'Kingpin (1996)',\n 786: 'Eraser (1996)',\n 788: 'Nutty Professor, The (1996)',\n 790: 'Unforgettable Summer, An (Un été inoubliable) (1994)',\n 791: 'Last Klezmer: Leopold Kozlowski, His Life and Music, The (1994)',\n 795: 'Somebody to Love (1994)',\n 798: 'Daylight (1996)',\n 799: 'Frighteners, The (1996)',\n 800: 'Lone Star (1996)',\n 801: 'Harriet the Spy (1996)',\n 802: 'Phenomenon (1996)',\n 803: 'Walking and Talking (1996)',\n 804: \"She's the One (1996)\",\n 805: 'Time to Kill, A (1996)',\n 806: 'American Buffalo (1996)',\n 808: 'Alaska (1996)',\n 809: 'Fled (1996)',\n 810: 'Kazaam (1996)',\n 813: 'Larger Than Life (1996)',\n 818: 'Very Brady Sequel, A (1996)',\n 823: 'Collector, The (La collectionneuse) (1967)',\n 824: 'Kaspar Hauser (1993)',\n 828: 'Adventures of Pinocchio, The (1996)',\n 829: \"Joe's Apartment (1996)\",\n 830: 'First Wives Club, The (1996)',\n 832: 'Ransom (1996)',\n 833: 'High School High (1996)',\n 835: 'Foxfire (1996)',\n 836: 'Chain Reaction (1996)',\n 837: 'Matilda (1996)',\n 838: 'Emma (1996)',\n 839: 'Crow: City of Angels, The (1996)',\n 840: 'House Arrest (1996)',\n 841: 'Eyes Without a Face (Yeux sans visage, Les) (1959)',\n 842: 'Tales from the Crypt Presents: Bordello of Blood (1996)',\n 848: 'Spitfire Grill, The (1996)',\n 849: 'Escape from L.A. (1996)',\n 851: 'Basquiat (1996)',\n 852: 'Tin Cup (1996)',\n 858: 'Godfather, The (1972)',\n 861: 'Supercop (Police Story 3: Supercop) (Jing cha gu shi III: Chao ji jing cha) (1992)',\n 866: 'Bound (1996)',\n 867: 'Carpool (1996)',\n 869: 'Kansas City (1996)',\n 870: \"Gone Fishin' (1997)\",\n 875: 'Nothing to Lose (1994)',\n 876: 'Supercop 2 (Project S) (Chao ji ji hua) (1993)',\n 879: 'Relic, The (1997)',\n 880: 'Island of Dr. Moreau, The (1996)',\n 881: 'First Kid (1996)',\n 882: 'Trigger Effect, The (1996)',\n 885: 'Bogus (1996)',\n 886: 'Bulletproof (1996)',\n 888: 'Land Before Time III: The Time of the Great Giving (1995)',\n 889: '1-900 (06) (1994)',\n 891: 'Halloween: The Curse of Michael Myers (Halloween 6: The Curse of Michael Myers) (1995)',\n 892: 'Twelfth Night (1996)',\n 893: 'Mother Night (1996)',\n 896: 'Wild Reeds (Les roseaux sauvages) (1994)',\n 897: 'For Whom the Bell Tolls (1943)',\n 898: 'Philadelphia Story, The (1940)',\n 899: \"Singin' in the Rain (1952)\",\n 900: 'American in Paris, An (1951)',\n 901: 'Funny Face (1957)',\n 902: \"Breakfast at Tiffany's (1961)\",\n 903: 'Vertigo (1958)',\n 904: 'Rear Window (1954)',\n 905: 'It Happened One Night (1934)',\n 906: 'Gaslight (1944)',\n 907: 'Gay Divorcee, The (1934)',\n 908: 'North by Northwest (1959)',\n 909: 'Apartment, The (1960)',\n 910: 'Some Like It Hot (1959)',\n 911: 'Charade (1963)',\n 912: 'Casablanca (1942)',\n 913: 'Maltese Falcon, The (1941)',\n 914: 'My Fair Lady (1964)',\n 915: 'Sabrina (1954)',\n 916: 'Roman Holiday (1953)',\n 917: 'Little Princess, The (1939)',\n 918: 'Meet Me in St. Louis (1944)',\n 919: 'Wizard of Oz, The (1939)',\n 920: 'Gone with the Wind (1939)',\n 921: 'My Favorite Year (1982)',\n 922: 'Sunset Blvd. (a.k.a. Sunset Boulevard) (1950)',\n 923: 'Citizen Kane (1941)',\n 924: '2001: A Space Odyssey (1968)',\n 926: 'All About Eve (1950)',\n 927: 'Women, The (1939)',\n 928: 'Rebecca (1940)',\n 929: 'Foreign Correspondent (1940)',\n 930: 'Notorious (1946)',\n 931: 'Spellbound (1945)',\n 932: 'Affair to Remember, An (1957)',\n 933: 'To Catch a Thief (1955)',\n 934: 'Father of the Bride (1950)',\n 935: 'Band Wagon, The (1953)',\n 936: 'Ninotchka (1939)',\n 937: 'Love in the Afternoon (1957)',\n 938: 'Gigi (1958)',\n 940: 'Adventures of Robin Hood, The (1938)',\n 941: 'Mark of Zorro, The (1940)',\n 942: 'Laura (1944)',\n 943: 'Ghost and Mrs. Muir, The (1947)',\n 944: 'Lost Horizon (1937)',\n 945: 'Top Hat (1935)',\n 946: 'To Be or Not to Be (1942)',\n 947: 'My Man Godfrey (1936)',\n 948: 'Giant (1956)',\n 949: 'East of Eden (1955)',\n 950: 'Thin Man, The (1934)',\n 951: 'His Girl Friday (1940)',\n 952: 'Around the World in 80 Days (1956)',\n 953: \"It's a Wonderful Life (1946)\",\n 954: 'Mr. Smith Goes to Washington (1939)',\n 955: 'Bringing Up Baby (1938)',\n 956: 'Penny Serenade (1941)',\n 959: 'Of Human Bondage (1934)',\n 961: 'Little Lord Fauntleroy (1936)',\n 963: 'Inspector General, The (1949)',\n 965: '39 Steps, The (1935)',\n 968: 'Night of the Living Dead (1968)',\n 969: 'African Queen, The (1951)',\n 970: 'Beat the Devil (1953)',\n 971: 'Cat on a Hot Tin Roof (1958)',\n 973: 'Meet John Doe (1941)',\n 976: 'Farewell to Arms, A (1932)',\n 979: 'Nothing Personal (1995)',\n 981: 'Dangerous Ground (1997)',\n 982: 'Picnic (1955)',\n 984: 'Pompatus of Love, The (1996)',\n 986: 'Fly Away Home (1996)',\n 987: 'Bliss (1997)',\n 988: 'Grace of My Heart (1996)',\n 990: 'Maximum Risk (1996)',\n 991: 'Michael Collins (1996)',\n 993: 'Infinity (1996)',\n 994: 'Big Night (1996)',\n 996: 'Last Man Standing (1996)',\n 998: 'Set It Off (1996)',\n 999: '2 Days in the Valley (1996)',\n 1003: 'Extreme Measures (1996)',\n 1004: 'Glimmer Man, The (1996)',\n 1005: 'D3: The Mighty Ducks (1996)',\n 1006: 'Chamber, The (1996)',\n 1007: 'Apple Dumpling Gang, The (1975)',\n 1008: 'Davy Crockett, King of the Wild Frontier (1955)',\n 1009: 'Escape to Witch Mountain (1975)',\n 1010: 'Love Bug, The (1969)',\n 1011: 'Herbie Rides Again (1974)',\n 1012: 'Old Yeller (1957)',\n 1013: 'Parent Trap, The (1961)',\n 1014: 'Pollyanna (1960)',\n 1015: 'Homeward Bound: The Incredible Journey (1993)',\n 1016: 'Shaggy Dog, The (1959)',\n 1017: 'Swiss Family Robinson (1960)',\n 1018: 'That Darn Cat! (1965)',\n 1019: '20,000 Leagues Under the Sea (1954)',\n 1020: 'Cool Runnings (1993)',\n 1021: 'Angels in the Outfield (1994)',\n 1022: 'Cinderella (1950)',\n 1023: 'Winnie the Pooh and the Blustery Day (1968)',\n 1024: 'Three Caballeros, The (1945)',\n 1025: 'Sword in the Stone, The (1963)',\n 1027: 'Robin Hood: Prince of Thieves (1991)',\n 1028: 'Mary Poppins (1964)',\n 1029: 'Dumbo (1941)',\n 1030: \"Pete's Dragon (1977)\",\n 1031: 'Bedknobs and Broomsticks (1971)',\n 1032: 'Alice in Wonderland (1951)',\n 1033: 'Fox and the Hound, The (1981)',\n 1034: 'Freeway (1996)',\n 1035: 'Sound of Music, The (1965)',\n 1036: 'Die Hard (1988)',\n 1037: 'Lawnmower Man, The (1992)',\n 1040: 'Secret Agent, The (1996)',\n 1041: 'Secrets & Lies (1996)',\n 1042: 'That Thing You Do! (1996)',\n 1043: 'To Gillian on Her 37th Birthday (1996)',\n 1046: 'Beautiful Thing (1996)',\n 1047: 'Long Kiss Goodnight, The (1996)',\n 1049: 'Ghost and the Darkness, The (1996)',\n 1050: 'Looking for Richard (1996)',\n 1051: 'Trees Lounge (1996)',\n 1053: 'Normal Life (1996)',\n 1054: 'Get on the Bus (1996)',\n 1055: 'Shadow Conspiracy (1997)',\n 1056: 'Jude (1996)',\n 1057: 'Everyone Says I Love You (1996)',\n 1059: \"William Shakespeare's Romeo + Juliet (1996)\",\n 1060: 'Swingers (1996)',\n 1061: 'Sleepers (1996)',\n 1064: 'Aladdin and the King of Thieves (1996)',\n 1066: 'Shall We Dance (1937)',\n 1068: 'Crossfire (1947)',\n 1073: 'Willy Wonka & the Chocolate Factory (1971)',\n 1076: 'Innocents, The (1961)',\n 1077: 'Sleeper (1973)',\n 1078: 'Bananas (1971)',\n 1079: 'Fish Called Wanda, A (1988)',\n 1080: \"Monty Python's Life of Brian (1979)\",\n 1081: 'Victor/Victoria (1982)',\n 1082: 'Candidate, The (1972)',\n 1083: 'Great Race, The (1965)',\n 1084: 'Bonnie and Clyde (1967)',\n 1085: 'Old Man and the Sea, The (1958)',\n 1086: 'Dial M for Murder (1954)',\n 1088: 'Dirty Dancing (1987)',\n 1089: 'Reservoir Dogs (1992)',\n 1090: 'Platoon (1986)',\n 1091: \"Weekend at Bernie's (1989)\",\n 1092: 'Basic Instinct (1992)',\n 1093: 'Doors, The (1991)',\n 1094: 'Crying Game, The (1992)',\n 1095: 'Glengarry Glen Ross (1992)',\n 1096: \"Sophie's Choice (1982)\",\n 1097: 'E.T. the Extra-Terrestrial (1982)',\n 1099: 'Christmas Carol, A (1938)',\n 1100: 'Days of Thunder (1990)',\n 1101: 'Top Gun (1986)',\n 1103: 'Rebel Without a Cause (1955)',\n 1104: 'Streetcar Named Desire, A (1951)',\n 1105: 'Children of the Corn IV: The Gathering (1996)',\n 1107: 'Loser (1991)',\n 1111: \"Microcosmos (Microcosmos: Le peuple de l'herbe) (1996)\",\n 1112: 'Palookaville (1996)',\n 1114: 'Funeral, The (1996)',\n 1116: 'Single Girl, A (Fille seule, La) (1995)',\n 1117: 'Eighth Day, The (Huitième jour, Le) (1996)',\n 1119: 'Drunks (1995)',\n 1120: 'People vs. Larry Flynt, The (1996)',\n 1121: 'Glory Daze (1995)',\n 1123: 'Perfect Candidate, A (1996)',\n 1124: 'On Golden Pond (1981)',\n 1125: 'Return of the Pink Panther, The (1975)',\n 1126: 'Drop Dead Fred (1991)',\n 1127: 'Abyss, The (1989)',\n 1128: 'Fog, The (1980)',\n 1129: 'Escape from New York (1981)',\n 1130: 'Howling, The (1980)',\n 1131: 'Jean de Florette (1986)',\n 1132: 'Manon of the Spring (Manon des sources) (1986)',\n 1135: 'Private Benjamin (1980)',\n 1136: 'Monty Python and the Holy Grail (1975)',\n 1137: 'Hustler White (1996)',\n 1140: 'Entertaining Angels: The Dorothy Day Story (1996)',\n 1144: 'Line King: The Al Hirschfeld Story, The (1996)',\n 1147: 'When We Were Kings (1996)',\n 1148: 'Wallace & Gromit: The Wrong Trousers (1993)',\n 1150: 'Return of Martin Guerre, The (Retour de Martin Guerre, Le) (1982)',\n 1151: 'Lesson Faust (1994)',\n 1156: 'Children Are Watching Us, The (Bambini ci guardano, I) (1944)',\n 1161: 'Tin Drum, The (Blechtrommel, Die) (1979)',\n 1162: 'Ruling Class, The (1972)',\n 1163: 'Mina Tannenbaum (1994)',\n 1167: 'Dear God (1996)',\n 1170: 'Best of the Best 3: No Turning Back (1995)',\n 1171: 'Bob Roberts (1992)',\n 1172: 'Cinema Paradiso (Nuovo cinema Paradiso) (1989)',\n 1173: 'Cook the Thief His Wife & Her Lover, The (1989)',\n 1175: 'Delicatessen (1991)',\n 1176: 'Double Life of Veronique, The (Double Vie de Véronique, La) (1991)',\n 1177: 'Enchanted April (1992)',\n 1178: 'Paths of Glory (1957)',\n 1179: 'Grifters, The (1990)',\n 1180: 'Hear My Song (1991)',\n 1183: 'English Patient, The (1996)',\n 1184: 'Mediterraneo (1991)',\n 1185: 'My Left Foot (1989)',\n 1186: 'Sex, Lies, and Videotape (1989)',\n 1187: 'Passion Fish (1992)',\n 1188: 'Strictly Ballroom (1992)',\n 1189: 'Thin Blue Line, The (1988)',\n 1190: 'Tie Me Up! Tie Me Down! (¡Átame!) (1990)',\n 1191: 'Madonna: Truth or Dare (1991)',\n 1192: 'Paris Is Burning (1990)',\n 1193: \"One Flew Over the Cuckoo's Nest (1975)\",\n 1194: \"Cheech and Chong's Up in Smoke (1978)\",\n 1196: 'Star Wars: Episode V - The Empire Strikes Back (1980)',\n 1197: 'Princess Bride, The (1987)',\n 1198: 'Raiders of the Lost Ark (Indiana Jones and the Raiders of the Lost Ark) (1981)',\n 1199: 'Brazil (1985)',\n 1200: 'Aliens (1986)',\n 1201: 'Good, the Bad and the Ugly, The (Buono, il brutto, il cattivo, Il) (1966)',\n 1202: 'Withnail & I (1987)',\n 1203: '12 Angry Men (1957)',\n 1204: 'Lawrence of Arabia (1962)',\n 1206: 'Clockwork Orange, A (1971)',\n 1207: 'To Kill a Mockingbird (1962)',\n 1208: 'Apocalypse Now (1979)',\n 1209: \"Once Upon a Time in the West (C'era una volta il West) (1968)\",\n 1210: 'Star Wars: Episode VI - Return of the Jedi (1983)',\n 1211: 'Wings of Desire (Himmel über Berlin, Der) (1987)',\n 1212: 'Third Man, The (1949)',\n 1213: 'Goodfellas (1990)',\n 1214: 'Alien (1979)',\n 1215: 'Army of Darkness (1993)',\n 1216: 'Big Blue, The (Grand bleu, Le) (1988)',\n 1217: 'Ran (1985)',\n 1218: 'Killer, The (Die xue shuang xiong) (1989)',\n 1219: 'Psycho (1960)',\n 1220: 'Blues Brothers, The (1980)',\n 1221: 'Godfather: Part II, The (1974)',\n 1222: 'Full Metal Jacket (1987)',\n 1223: 'Grand Day Out with Wallace and Gromit, A (1989)',\n 1224: 'Henry V (1989)',\n 1225: 'Amadeus (1984)',\n 1226: 'Quiet Man, The (1952)',\n 1227: 'Once Upon a Time in America (1984)',\n 1228: 'Raging Bull (1980)',\n 1230: 'Annie Hall (1977)',\n 1231: 'Right Stuff, The (1983)',\n 1232: 'Stalker (1979)',\n 1233: 'Boot, Das (Boat, The) (1981)',\n 1234: 'Sting, The (1973)',\n 1235: 'Harold and Maude (1971)',\n 1236: 'Trust (1990)',\n 1237: 'Seventh Seal, The (Sjunde inseglet, Det) (1957)',\n 1238: 'Local Hero (1983)',\n 1240: 'Terminator, The (1984)',\n 1241: 'Dead Alive (Braindead) (1992)',\n 1242: 'Glory (1989)',\n 1243: 'Rosencrantz and Guildenstern Are Dead (1990)',\n 1244: 'Manhattan (1979)',\n 1245: \"Miller's Crossing (1990)\",\n 1246: 'Dead Poets Society (1989)',\n 1247: 'Graduate, The (1967)',\n 1248: 'Touch of Evil (1958)',\n 1249: 'Femme Nikita, La (Nikita) (1990)',\n 1250: 'Bridge on the River Kwai, The (1957)',\n 1251: '8 1/2 (8½) (1963)',\n 1252: 'Chinatown (1974)',\n 1253: 'Day the Earth Stood Still, The (1951)',\n 1254: 'Treasure of the Sierra Madre, The (1948)',\n 1255: 'Bad Taste (1987)',\n 1256: 'Duck Soup (1933)',\n 1257: 'Better Off Dead... (1985)',\n 1258: 'Shining, The (1980)',\n 1259: 'Stand by Me (1986)',\n 1260: 'M (1931)',\n 1261: 'Evil Dead II (Dead by Dawn) (1987)',\n 1262: 'Great Escape, The (1963)',\n 1263: 'Deer Hunter, The (1978)',\n 1264: 'Diva (1981)',\n 1265: 'Groundhog Day (1993)',\n 1266: 'Unforgiven (1992)',\n 1267: 'Manchurian Candidate, The (1962)',\n 1268: 'Pump Up the Volume (1990)',\n 1269: 'Arsenic and Old Lace (1944)',\n 1270: 'Back to the Future (1985)',\n 1271: 'Fried Green Tomatoes (1991)',\n 1272: 'Patton (1970)',\n 1273: 'Down by Law (1986)',\n 1274: 'Akira (1988)',\n 1275: 'Highlander (1986)',\n 1276: 'Cool Hand Luke (1967)',\n 1277: 'Cyrano de Bergerac (1990)',\n 1278: 'Young Frankenstein (1974)',\n 1279: 'Night on Earth (1991)',\n 1280: 'Raise the Red Lantern (Da hong deng long gao gao gua) (1991)',\n 1281: 'Great Dictator, The (1940)',\n 1282: 'Fantasia (1940)',\n 1283: 'High Noon (1952)',\n 1284: 'Big Sleep, The (1946)',\n 1285: 'Heathers (1989)',\n 1286: 'Somewhere in Time (1980)',\n 1287: 'Ben-Hur (1959)',\n 1288: 'This Is Spinal Tap (1984)',\n 1289: 'Koyaanisqatsi (a.k.a. Koyaanisqatsi: Life Out of Balance) (1983)',\n 1290: 'Some Kind of Wonderful (1987)',\n 1291: 'Indiana Jones and the Last Crusade (1989)',\n 1292: 'Being There (1979)',\n 1293: 'Gandhi (1982)',\n 1295: 'Unbearable Lightness of Being, The (1988)',\n 1296: 'Room with a View, A (1986)',\n 1297: 'Real Genius (1985)',\n 1298: 'Pink Floyd: The Wall (1982)',\n 1299: 'Killing Fields, The (1984)',\n 1300: 'My Life as a Dog (Mitt liv som hund) (1985)',\n 1301: 'Forbidden Planet (1956)',\n ...}"
     },
     "execution_count": 21,
     "metadata": {},
     "output_type": "execute_result"
    }
   ],
   "source": [
    "movie_titles = dict(zip(df_movies['movieId'], df_movies['title']))\n",
    "movie_titles"
   ],
   "metadata": {
    "collapsed": false,
    "pycharm": {
     "name": "#%%\n"
    }
   }
  },
  {
   "cell_type": "markdown",
   "source": [
    "# 3.2.2. Find similar movies"
   ],
   "metadata": {
    "collapsed": false,
    "pycharm": {
     "name": "#%% md\n"
    }
   }
  },
  {
   "cell_type": "code",
   "execution_count": 22,
   "outputs": [
    {
     "data": {
      "text/plain": "'Home Alone (1990)'"
     },
     "execution_count": 22,
     "metadata": {},
     "output_type": "execute_result"
    }
   ],
   "source": [
    "movie_id = 586\n",
    "movie_title = movie_titles[movie_id]\n",
    "movie_title"
   ],
   "metadata": {
    "collapsed": false,
    "pycharm": {
     "name": "#%%\n"
    }
   }
  },
  {
   "cell_type": "code",
   "execution_count": 23,
   "outputs": [
    {
     "name": "stdout",
     "output_type": "stream",
     "text": [
      "Since you watched: Home Alone (1990)\n",
      "[500, 364, 597, 480, 2, 377, 356, 588, 367, 2115]\n",
      "Mrs. Doubtfire (1993)\n",
      "Lion King, The (1994)\n",
      "Pretty Woman (1990)\n",
      "Jurassic Park (1993)\n",
      "Jumanji (1995)\n",
      "Speed (1994)\n",
      "Forrest Gump (1994)\n",
      "Aladdin (1992)\n",
      "Mask, The (1994)\n",
      "Indiana Jones and the Temple of Doom (1984)\n"
     ]
    }
   ],
   "source": [
    "similar_ids = find_similar_movies(movie_id, X, k=10)\n",
    "\n",
    "print(f\"Since you watched: {movie_title}\")\n",
    "print(similar_ids)\n",
    "for i in similar_ids:\n",
    "    print(movie_titles[i])"
   ],
   "metadata": {
    "collapsed": false,
    "pycharm": {
     "name": "#%%\n"
    }
   }
  },
  {
   "cell_type": "code",
   "execution_count": 26,
   "outputs": [
    {
     "data": {
      "text/plain": "       userId  movieId  rating   timestamp\n1067        8      586     3.0   839463702\n1428       14      586     3.0   835441451\n1820       18      586     3.5  1455748696\n2393       19      586     3.0   965707079\n2991       20      586     3.0  1054038279\n...       ...      ...     ...         ...\n91378     592      586     4.0   837350242\n91542     594      586     5.0  1109036952\n92867     599      586     3.0  1498525239\n96084     602      586     1.0   840875757\n98783     608      586     1.0  1117504351\n\n[116 rows x 4 columns]",
      "text/html": "<div>\n<style scoped>\n    .dataframe tbody tr th:only-of-type {\n        vertical-align: middle;\n    }\n\n    .dataframe tbody tr th {\n        vertical-align: top;\n    }\n\n    .dataframe thead th {\n        text-align: right;\n    }\n</style>\n<table border=\"1\" class=\"dataframe\">\n  <thead>\n    <tr style=\"text-align: right;\">\n      <th></th>\n      <th>userId</th>\n      <th>movieId</th>\n      <th>rating</th>\n      <th>timestamp</th>\n    </tr>\n  </thead>\n  <tbody>\n    <tr>\n      <th>1067</th>\n      <td>8</td>\n      <td>586</td>\n      <td>3.0</td>\n      <td>839463702</td>\n    </tr>\n    <tr>\n      <th>1428</th>\n      <td>14</td>\n      <td>586</td>\n      <td>3.0</td>\n      <td>835441451</td>\n    </tr>\n    <tr>\n      <th>1820</th>\n      <td>18</td>\n      <td>586</td>\n      <td>3.5</td>\n      <td>1455748696</td>\n    </tr>\n    <tr>\n      <th>2393</th>\n      <td>19</td>\n      <td>586</td>\n      <td>3.0</td>\n      <td>965707079</td>\n    </tr>\n    <tr>\n      <th>2991</th>\n      <td>20</td>\n      <td>586</td>\n      <td>3.0</td>\n      <td>1054038279</td>\n    </tr>\n    <tr>\n      <th>...</th>\n      <td>...</td>\n      <td>...</td>\n      <td>...</td>\n      <td>...</td>\n    </tr>\n    <tr>\n      <th>91378</th>\n      <td>592</td>\n      <td>586</td>\n      <td>4.0</td>\n      <td>837350242</td>\n    </tr>\n    <tr>\n      <th>91542</th>\n      <td>594</td>\n      <td>586</td>\n      <td>5.0</td>\n      <td>1109036952</td>\n    </tr>\n    <tr>\n      <th>92867</th>\n      <td>599</td>\n      <td>586</td>\n      <td>3.0</td>\n      <td>1498525239</td>\n    </tr>\n    <tr>\n      <th>96084</th>\n      <td>602</td>\n      <td>586</td>\n      <td>1.0</td>\n      <td>840875757</td>\n    </tr>\n    <tr>\n      <th>98783</th>\n      <td>608</td>\n      <td>586</td>\n      <td>1.0</td>\n      <td>1117504351</td>\n    </tr>\n  </tbody>\n</table>\n<p>116 rows × 4 columns</p>\n</div>"
     },
     "execution_count": 26,
     "metadata": {},
     "output_type": "execute_result"
    }
   ],
   "source": [
    "rated = df_ratings.loc[df_ratings['movieId']==movie_id]\n",
    "rated"
   ],
   "metadata": {
    "collapsed": false,
    "pycharm": {
     "name": "#%%\n"
    }
   }
  },
  {
   "cell_type": "markdown",
   "source": [
    "# 3.3. Handling users bias"
   ],
   "metadata": {
    "collapsed": false,
    "pycharm": {
     "name": "#%% md\n"
    }
   }
  },
  {
   "cell_type": "code",
   "execution_count": 27,
   "outputs": [
    {
     "data": {
      "text/plain": "       0    1    2    3    4    5    6    7    8    9  ...  9715  9716  9717  \\\n0    4.0  0.0  4.0  0.0  0.0  4.0  0.0  0.0  0.0  0.0  ...   0.0   0.0   0.0   \n1    0.0  0.0  0.0  0.0  0.0  0.0  0.0  0.0  0.0  0.0  ...   0.0   0.0   0.0   \n2    0.0  0.0  0.0  0.0  0.0  0.0  0.0  0.0  0.0  0.0  ...   0.0   0.0   0.0   \n3    0.0  0.0  0.0  0.0  0.0  0.0  0.0  0.0  0.0  0.0  ...   0.0   0.0   0.0   \n4    4.0  0.0  0.0  0.0  0.0  0.0  0.0  0.0  0.0  0.0  ...   0.0   0.0   0.0   \n..   ...  ...  ...  ...  ...  ...  ...  ...  ...  ...  ...   ...   ...   ...   \n605  2.5  0.0  0.0  0.0  0.0  0.0  2.5  0.0  0.0  0.0  ...   0.0   0.0   0.0   \n606  4.0  0.0  0.0  0.0  0.0  0.0  0.0  0.0  0.0  0.0  ...   0.0   0.0   0.0   \n607  2.5  2.0  2.0  0.0  0.0  0.0  0.0  0.0  0.0  4.0  ...   0.0   0.0   0.0   \n608  3.0  0.0  0.0  0.0  0.0  0.0  0.0  0.0  0.0  4.0  ...   0.0   0.0   0.0   \n609  5.0  0.0  0.0  0.0  0.0  5.0  0.0  0.0  0.0  0.0  ...   0.0   0.0   0.0   \n\n     9718  9719  9720  9721  9722  9723  userBias  \n0     0.0   0.0   0.0   0.0   0.0   0.0  4.366379  \n1     0.0   0.0   0.0   0.0   0.0   0.0  3.948276  \n2     0.0   0.0   0.0   0.0   0.0   0.0  2.435897  \n3     0.0   0.0   0.0   0.0   0.0   0.0  3.555556  \n4     0.0   0.0   0.0   0.0   0.0   0.0  3.636364  \n..    ...   ...   ...   ...   ...   ...       ...  \n605   0.0   0.0   0.0   0.0   0.0   0.0  3.657399  \n606   0.0   0.0   0.0   0.0   0.0   0.0  3.786096  \n607   0.0   0.0   0.0   0.0   0.0   0.0  3.134176  \n608   0.0   0.0   0.0   0.0   0.0   0.0  3.270270  \n609   0.0   0.0   0.0   0.0   0.0   0.0  3.688556  \n\n[610 rows x 9725 columns]",
      "text/html": "<div>\n<style scoped>\n    .dataframe tbody tr th:only-of-type {\n        vertical-align: middle;\n    }\n\n    .dataframe tbody tr th {\n        vertical-align: top;\n    }\n\n    .dataframe thead th {\n        text-align: right;\n    }\n</style>\n<table border=\"1\" class=\"dataframe\">\n  <thead>\n    <tr style=\"text-align: right;\">\n      <th></th>\n      <th>0</th>\n      <th>1</th>\n      <th>2</th>\n      <th>3</th>\n      <th>4</th>\n      <th>5</th>\n      <th>6</th>\n      <th>7</th>\n      <th>8</th>\n      <th>9</th>\n      <th>...</th>\n      <th>9715</th>\n      <th>9716</th>\n      <th>9717</th>\n      <th>9718</th>\n      <th>9719</th>\n      <th>9720</th>\n      <th>9721</th>\n      <th>9722</th>\n      <th>9723</th>\n      <th>userBias</th>\n    </tr>\n  </thead>\n  <tbody>\n    <tr>\n      <th>0</th>\n      <td>4.0</td>\n      <td>0.0</td>\n      <td>4.0</td>\n      <td>0.0</td>\n      <td>0.0</td>\n      <td>4.0</td>\n      <td>0.0</td>\n      <td>0.0</td>\n      <td>0.0</td>\n      <td>0.0</td>\n      <td>...</td>\n      <td>0.0</td>\n      <td>0.0</td>\n      <td>0.0</td>\n      <td>0.0</td>\n      <td>0.0</td>\n      <td>0.0</td>\n      <td>0.0</td>\n      <td>0.0</td>\n      <td>0.0</td>\n      <td>4.366379</td>\n    </tr>\n    <tr>\n      <th>1</th>\n      <td>0.0</td>\n      <td>0.0</td>\n      <td>0.0</td>\n      <td>0.0</td>\n      <td>0.0</td>\n      <td>0.0</td>\n      <td>0.0</td>\n      <td>0.0</td>\n      <td>0.0</td>\n      <td>0.0</td>\n      <td>...</td>\n      <td>0.0</td>\n      <td>0.0</td>\n      <td>0.0</td>\n      <td>0.0</td>\n      <td>0.0</td>\n      <td>0.0</td>\n      <td>0.0</td>\n      <td>0.0</td>\n      <td>0.0</td>\n      <td>3.948276</td>\n    </tr>\n    <tr>\n      <th>2</th>\n      <td>0.0</td>\n      <td>0.0</td>\n      <td>0.0</td>\n      <td>0.0</td>\n      <td>0.0</td>\n      <td>0.0</td>\n      <td>0.0</td>\n      <td>0.0</td>\n      <td>0.0</td>\n      <td>0.0</td>\n      <td>...</td>\n      <td>0.0</td>\n      <td>0.0</td>\n      <td>0.0</td>\n      <td>0.0</td>\n      <td>0.0</td>\n      <td>0.0</td>\n      <td>0.0</td>\n      <td>0.0</td>\n      <td>0.0</td>\n      <td>2.435897</td>\n    </tr>\n    <tr>\n      <th>3</th>\n      <td>0.0</td>\n      <td>0.0</td>\n      <td>0.0</td>\n      <td>0.0</td>\n      <td>0.0</td>\n      <td>0.0</td>\n      <td>0.0</td>\n      <td>0.0</td>\n      <td>0.0</td>\n      <td>0.0</td>\n      <td>...</td>\n      <td>0.0</td>\n      <td>0.0</td>\n      <td>0.0</td>\n      <td>0.0</td>\n      <td>0.0</td>\n      <td>0.0</td>\n      <td>0.0</td>\n      <td>0.0</td>\n      <td>0.0</td>\n      <td>3.555556</td>\n    </tr>\n    <tr>\n      <th>4</th>\n      <td>4.0</td>\n      <td>0.0</td>\n      <td>0.0</td>\n      <td>0.0</td>\n      <td>0.0</td>\n      <td>0.0</td>\n      <td>0.0</td>\n      <td>0.0</td>\n      <td>0.0</td>\n      <td>0.0</td>\n      <td>...</td>\n      <td>0.0</td>\n      <td>0.0</td>\n      <td>0.0</td>\n      <td>0.0</td>\n      <td>0.0</td>\n      <td>0.0</td>\n      <td>0.0</td>\n      <td>0.0</td>\n      <td>0.0</td>\n      <td>3.636364</td>\n    </tr>\n    <tr>\n      <th>...</th>\n      <td>...</td>\n      <td>...</td>\n      <td>...</td>\n      <td>...</td>\n      <td>...</td>\n      <td>...</td>\n      <td>...</td>\n      <td>...</td>\n      <td>...</td>\n      <td>...</td>\n      <td>...</td>\n      <td>...</td>\n      <td>...</td>\n      <td>...</td>\n      <td>...</td>\n      <td>...</td>\n      <td>...</td>\n      <td>...</td>\n      <td>...</td>\n      <td>...</td>\n      <td>...</td>\n    </tr>\n    <tr>\n      <th>605</th>\n      <td>2.5</td>\n      <td>0.0</td>\n      <td>0.0</td>\n      <td>0.0</td>\n      <td>0.0</td>\n      <td>0.0</td>\n      <td>2.5</td>\n      <td>0.0</td>\n      <td>0.0</td>\n      <td>0.0</td>\n      <td>...</td>\n      <td>0.0</td>\n      <td>0.0</td>\n      <td>0.0</td>\n      <td>0.0</td>\n      <td>0.0</td>\n      <td>0.0</td>\n      <td>0.0</td>\n      <td>0.0</td>\n      <td>0.0</td>\n      <td>3.657399</td>\n    </tr>\n    <tr>\n      <th>606</th>\n      <td>4.0</td>\n      <td>0.0</td>\n      <td>0.0</td>\n      <td>0.0</td>\n      <td>0.0</td>\n      <td>0.0</td>\n      <td>0.0</td>\n      <td>0.0</td>\n      <td>0.0</td>\n      <td>0.0</td>\n      <td>...</td>\n      <td>0.0</td>\n      <td>0.0</td>\n      <td>0.0</td>\n      <td>0.0</td>\n      <td>0.0</td>\n      <td>0.0</td>\n      <td>0.0</td>\n      <td>0.0</td>\n      <td>0.0</td>\n      <td>3.786096</td>\n    </tr>\n    <tr>\n      <th>607</th>\n      <td>2.5</td>\n      <td>2.0</td>\n      <td>2.0</td>\n      <td>0.0</td>\n      <td>0.0</td>\n      <td>0.0</td>\n      <td>0.0</td>\n      <td>0.0</td>\n      <td>0.0</td>\n      <td>4.0</td>\n      <td>...</td>\n      <td>0.0</td>\n      <td>0.0</td>\n      <td>0.0</td>\n      <td>0.0</td>\n      <td>0.0</td>\n      <td>0.0</td>\n      <td>0.0</td>\n      <td>0.0</td>\n      <td>0.0</td>\n      <td>3.134176</td>\n    </tr>\n    <tr>\n      <th>608</th>\n      <td>3.0</td>\n      <td>0.0</td>\n      <td>0.0</td>\n      <td>0.0</td>\n      <td>0.0</td>\n      <td>0.0</td>\n      <td>0.0</td>\n      <td>0.0</td>\n      <td>0.0</td>\n      <td>4.0</td>\n      <td>...</td>\n      <td>0.0</td>\n      <td>0.0</td>\n      <td>0.0</td>\n      <td>0.0</td>\n      <td>0.0</td>\n      <td>0.0</td>\n      <td>0.0</td>\n      <td>0.0</td>\n      <td>0.0</td>\n      <td>3.270270</td>\n    </tr>\n    <tr>\n      <th>609</th>\n      <td>5.0</td>\n      <td>0.0</td>\n      <td>0.0</td>\n      <td>0.0</td>\n      <td>0.0</td>\n      <td>5.0</td>\n      <td>0.0</td>\n      <td>0.0</td>\n      <td>0.0</td>\n      <td>0.0</td>\n      <td>...</td>\n      <td>0.0</td>\n      <td>0.0</td>\n      <td>0.0</td>\n      <td>0.0</td>\n      <td>0.0</td>\n      <td>0.0</td>\n      <td>0.0</td>\n      <td>0.0</td>\n      <td>0.0</td>\n      <td>3.688556</td>\n    </tr>\n  </tbody>\n</table>\n<p>610 rows × 9725 columns</p>\n</div>"
     },
     "execution_count": 27,
     "metadata": {},
     "output_type": "execute_result"
    }
   ],
   "source": [
    "df_X_T = df_X.T.copy()\n",
    "df_X_T['userBias'] = df_X_T[df_X_T!=0].mean(numeric_only=True, axis=1)\n",
    "df_X_T"
   ],
   "metadata": {
    "collapsed": false,
    "pycharm": {
     "name": "#%%\n"
    }
   }
  },
  {
   "cell_type": "code",
   "execution_count": 28,
   "outputs": [
    {
     "data": {
      "text/plain": "0      3.260870\n1      3.448148\n2      2.607397\n3      3.590909\n4      3.260722\n         ...   \n111    3.266990\n112    4.200000\n113    2.991481\n114    3.507953\n115    3.270270\nName: userBias, Length: 116, dtype: float64"
     },
     "execution_count": 28,
     "metadata": {},
     "output_type": "execute_result"
    }
   ],
   "source": [
    "usrBias = df_X_T.iloc[rated[\"userId\"].values][\"userBias\"]\n",
    "usrBias = usrBias.reset_index(drop=True)\n",
    "usrBias"
   ],
   "metadata": {
    "collapsed": false,
    "pycharm": {
     "name": "#%%\n"
    }
   }
  },
  {
   "cell_type": "code",
   "execution_count": 29,
   "outputs": [
    {
     "data": {
      "text/plain": "     userId  movieId  rating   timestamp\n0         8      586     3.0   839463702\n1        14      586     3.0   835441451\n2        18      586     3.5  1455748696\n3        19      586     3.0   965707079\n4        20      586     3.0  1054038279\n..      ...      ...     ...         ...\n111     592      586     4.0   837350242\n112     594      586     5.0  1109036952\n113     599      586     3.0  1498525239\n114     602      586     1.0   840875757\n115     608      586     1.0  1117504351\n\n[116 rows x 4 columns]",
      "text/html": "<div>\n<style scoped>\n    .dataframe tbody tr th:only-of-type {\n        vertical-align: middle;\n    }\n\n    .dataframe tbody tr th {\n        vertical-align: top;\n    }\n\n    .dataframe thead th {\n        text-align: right;\n    }\n</style>\n<table border=\"1\" class=\"dataframe\">\n  <thead>\n    <tr style=\"text-align: right;\">\n      <th></th>\n      <th>userId</th>\n      <th>movieId</th>\n      <th>rating</th>\n      <th>timestamp</th>\n    </tr>\n  </thead>\n  <tbody>\n    <tr>\n      <th>0</th>\n      <td>8</td>\n      <td>586</td>\n      <td>3.0</td>\n      <td>839463702</td>\n    </tr>\n    <tr>\n      <th>1</th>\n      <td>14</td>\n      <td>586</td>\n      <td>3.0</td>\n      <td>835441451</td>\n    </tr>\n    <tr>\n      <th>2</th>\n      <td>18</td>\n      <td>586</td>\n      <td>3.5</td>\n      <td>1455748696</td>\n    </tr>\n    <tr>\n      <th>3</th>\n      <td>19</td>\n      <td>586</td>\n      <td>3.0</td>\n      <td>965707079</td>\n    </tr>\n    <tr>\n      <th>4</th>\n      <td>20</td>\n      <td>586</td>\n      <td>3.0</td>\n      <td>1054038279</td>\n    </tr>\n    <tr>\n      <th>...</th>\n      <td>...</td>\n      <td>...</td>\n      <td>...</td>\n      <td>...</td>\n    </tr>\n    <tr>\n      <th>111</th>\n      <td>592</td>\n      <td>586</td>\n      <td>4.0</td>\n      <td>837350242</td>\n    </tr>\n    <tr>\n      <th>112</th>\n      <td>594</td>\n      <td>586</td>\n      <td>5.0</td>\n      <td>1109036952</td>\n    </tr>\n    <tr>\n      <th>113</th>\n      <td>599</td>\n      <td>586</td>\n      <td>3.0</td>\n      <td>1498525239</td>\n    </tr>\n    <tr>\n      <th>114</th>\n      <td>602</td>\n      <td>586</td>\n      <td>1.0</td>\n      <td>840875757</td>\n    </tr>\n    <tr>\n      <th>115</th>\n      <td>608</td>\n      <td>586</td>\n      <td>1.0</td>\n      <td>1117504351</td>\n    </tr>\n  </tbody>\n</table>\n<p>116 rows × 4 columns</p>\n</div>"
     },
     "execution_count": 29,
     "metadata": {},
     "output_type": "execute_result"
    }
   ],
   "source": [
    "df_rated = rated.reset_index(drop=True)\n",
    "df_rated"
   ],
   "metadata": {
    "collapsed": false,
    "pycharm": {
     "name": "#%%\n"
    }
   }
  },
  {
   "cell_type": "code",
   "execution_count": 30,
   "outputs": [
    {
     "data": {
      "text/plain": "0      False\n1      False\n2       True\n3      False\n4      False\n       ...  \n111     True\n112     True\n113     True\n114    False\n115    False\nLength: 116, dtype: bool"
     },
     "execution_count": 30,
     "metadata": {},
     "output_type": "execute_result"
    }
   ],
   "source": [
    "filtering = df_rated[\"rating\"]>=usrBias\n",
    "filtering"
   ],
   "metadata": {
    "collapsed": false,
    "pycharm": {
     "name": "#%%\n"
    }
   }
  },
  {
   "cell_type": "code",
   "execution_count": 31,
   "outputs": [
    {
     "name": "stdout",
     "output_type": "stream",
     "text": [
      "     userId  movieId  rating   timestamp\n",
      "2        18      586     3.5  1455748696\n",
      "10       62      586     4.0  1521489913\n",
      "19      102      586     4.0   835877270\n",
      "20      103      586     4.0  1431957135\n",
      "23      116      586     3.5  1337199910\n",
      "24      117      586     4.0   844162913\n",
      "30      169      586     5.0  1078284644\n",
      "38      220      586     4.5  1230061714\n",
      "40      229      586     3.0   838143590\n",
      "50      280      586     4.0  1348532002\n",
      "54      292      586     4.0  1265680476\n",
      "56      304      586     4.0   891173994\n",
      "59      322      586     3.5  1217676382\n",
      "62      344      586     5.0  1420496646\n",
      "65      357      586     4.0  1348612117\n",
      "68      380      586     4.0  1494803432\n",
      "73      402      586     4.0   849601295\n",
      "74      411      586     4.0   835532644\n",
      "79      436      586     4.0   833530512\n",
      "85      475      586     4.5  1498031682\n",
      "87      477      586     3.0  1200939829\n",
      "88      480      586     4.0  1179177983\n",
      "90      484      586     4.0  1342296049\n",
      "92      491      586     5.0  1526673066\n",
      "96      517      586     5.0  1487954357\n",
      "97      520      586     4.0  1326609231\n",
      "102     534      586     4.5  1459787997\n",
      "107     573      586     5.0  1186590114\n",
      "111     592      586     4.0   837350242\n",
      "112     594      586     5.0  1109036952\n",
      "113     599      586     3.0  1498525239\n"
     ]
    }
   ],
   "source": [
    "recommend = df_rated.loc[filtering]\n",
    "\n",
    "print(recommend)"
   ],
   "metadata": {
    "collapsed": false,
    "pycharm": {
     "name": "#%%\n"
    }
   }
  },
  {
   "cell_type": "markdown",
   "source": [
    "# 4. Exercise"
   ],
   "metadata": {
    "collapsed": false,
    "pycharm": {
     "name": "#%% md\n"
    }
   }
  },
  {
   "cell_type": "markdown",
   "source": [
    "## 1. Get the Musical Instruments Ratings dataset from: http://snap.stanford.edu/data/amazon/productGraph/categoryFiles/ratings_Musical_Instruments.csv\n",
    "## 2. Create a simple recommender system that recommends the highest rated instruments\n",
    "## 3. Create a collaborative filtering system that recommends similar instruments to the one given\n",
    "## 4. Explore and handle the user bias if needed"
   ],
   "metadata": {
    "collapsed": false,
    "pycharm": {
     "name": "#%% md\n"
    }
   }
  },
  {
   "cell_type": "markdown",
   "source": [
    "### TIP: You can read the dataset using the following code:"
   ],
   "metadata": {
    "collapsed": false,
    "pycharm": {
     "name": "#%% md\n"
    }
   }
  },
  {
   "cell_type": "code",
   "execution_count": null,
   "outputs": [],
   "source": [
    "df_music_instruments = pd.read_csv('http://snap.stanford.edu/data/amazon/productGraph/categoryFiles/ratings_Musical_Instruments.csv', header=None)\n",
    "df_music_instruments.columns = ['userId', 'productId', 'rating', 'timestamp']"
   ],
   "metadata": {
    "collapsed": false,
    "pycharm": {
     "name": "#%%\n"
    }
   }
  },
  {
   "cell_type": "code",
   "execution_count": null,
   "outputs": [],
   "source": [
    "df_music_instruments"
   ],
   "metadata": {
    "collapsed": false,
    "pycharm": {
     "name": "#%%\n"
    }
   }
  },
  {
   "cell_type": "code",
   "execution_count": null,
   "outputs": [],
   "source": [],
   "metadata": {
    "collapsed": false,
    "pycharm": {
     "name": "#%%\n"
    }
   }
  }
 ],
 "metadata": {
  "kernelspec": {
   "display_name": "Python 3",
   "language": "python",
   "name": "python3"
  },
  "language_info": {
   "codemirror_mode": {
    "name": "ipython",
    "version": 2
   },
   "file_extension": ".py",
   "mimetype": "text/x-python",
   "name": "python",
   "nbconvert_exporter": "python",
   "pygments_lexer": "ipython2",
   "version": "2.7.6"
  }
 },
 "nbformat": 4,
 "nbformat_minor": 0
}