{
 "cells": [
  {
   "cell_type": "markdown",
   "source": [
    "# Data Preprocessing"
   ],
   "metadata": {
    "collapsed": false,
    "pycharm": {
     "name": "#%% md\n"
    }
   }
  },
  {
   "cell_type": "markdown",
   "source": [
    "# I. Importing the libraries"
   ],
   "metadata": {
    "collapsed": false,
    "pycharm": {
     "name": "#%% md\n"
    }
   }
  },
  {
   "cell_type": "code",
   "execution_count": 1,
   "outputs": [],
   "source": [
    "import numpy as np\n",
    "import pandas as pd"
   ],
   "metadata": {
    "collapsed": false,
    "pycharm": {
     "name": "#%%\n"
    }
   }
  },
  {
   "cell_type": "code",
   "execution_count": 2,
   "outputs": [],
   "source": [
    "from sklearn.impute import SimpleImputer"
   ],
   "metadata": {
    "collapsed": false,
    "pycharm": {
     "name": "#%%\n"
    }
   }
  },
  {
   "cell_type": "code",
   "execution_count": 3,
   "outputs": [],
   "source": [
    "from sklearn.datasets import make_blobs\n",
    "from sklearn.compose import ColumnTransformer\n",
    "from sklearn.datasets import make_classification\n",
    "from sklearn.model_selection import train_test_split\n",
    "from sklearn.preprocessing import LabelEncoder, OneHotEncoder, MinMaxScaler, StandardScaler"
   ],
   "metadata": {
    "collapsed": false,
    "pycharm": {
     "name": "#%%\n"
    }
   }
  },
  {
   "cell_type": "code",
   "execution_count": 4,
   "outputs": [],
   "source": [
    "from collections import Counter"
   ],
   "metadata": {
    "collapsed": false,
    "pycharm": {
     "name": "#%%\n"
    }
   }
  },
  {
   "cell_type": "markdown",
   "source": [
    "# 1. Reading and slicing the data"
   ],
   "metadata": {
    "collapsed": false,
    "pycharm": {
     "name": "#%% md\n"
    }
   }
  },
  {
   "cell_type": "code",
   "execution_count": 5,
   "outputs": [
    {
     "data": {
      "text/plain": "   Country   Age   Salary Purchased\n0   France  44.0  72000.0        No\n1    Spain  27.0  48000.0       Yes\n2  Germany  30.0  54000.0        No\n3    Spain  38.0  61000.0        No\n4  Germany  40.0      NaN       Yes\n5   France  35.0  58000.0       Yes\n6    Spain   NaN  52000.0        No\n7   France  48.0  79000.0       Yes\n8  Germany  50.0  83000.0        No\n9   France  37.0  67000.0       Yes",
      "text/html": "<div>\n<style scoped>\n    .dataframe tbody tr th:only-of-type {\n        vertical-align: middle;\n    }\n\n    .dataframe tbody tr th {\n        vertical-align: top;\n    }\n\n    .dataframe thead th {\n        text-align: right;\n    }\n</style>\n<table border=\"1\" class=\"dataframe\">\n  <thead>\n    <tr style=\"text-align: right;\">\n      <th></th>\n      <th>Country</th>\n      <th>Age</th>\n      <th>Salary</th>\n      <th>Purchased</th>\n    </tr>\n  </thead>\n  <tbody>\n    <tr>\n      <th>0</th>\n      <td>France</td>\n      <td>44.0</td>\n      <td>72000.0</td>\n      <td>No</td>\n    </tr>\n    <tr>\n      <th>1</th>\n      <td>Spain</td>\n      <td>27.0</td>\n      <td>48000.0</td>\n      <td>Yes</td>\n    </tr>\n    <tr>\n      <th>2</th>\n      <td>Germany</td>\n      <td>30.0</td>\n      <td>54000.0</td>\n      <td>No</td>\n    </tr>\n    <tr>\n      <th>3</th>\n      <td>Spain</td>\n      <td>38.0</td>\n      <td>61000.0</td>\n      <td>No</td>\n    </tr>\n    <tr>\n      <th>4</th>\n      <td>Germany</td>\n      <td>40.0</td>\n      <td>NaN</td>\n      <td>Yes</td>\n    </tr>\n    <tr>\n      <th>5</th>\n      <td>France</td>\n      <td>35.0</td>\n      <td>58000.0</td>\n      <td>Yes</td>\n    </tr>\n    <tr>\n      <th>6</th>\n      <td>Spain</td>\n      <td>NaN</td>\n      <td>52000.0</td>\n      <td>No</td>\n    </tr>\n    <tr>\n      <th>7</th>\n      <td>France</td>\n      <td>48.0</td>\n      <td>79000.0</td>\n      <td>Yes</td>\n    </tr>\n    <tr>\n      <th>8</th>\n      <td>Germany</td>\n      <td>50.0</td>\n      <td>83000.0</td>\n      <td>No</td>\n    </tr>\n    <tr>\n      <th>9</th>\n      <td>France</td>\n      <td>37.0</td>\n      <td>67000.0</td>\n      <td>Yes</td>\n    </tr>\n  </tbody>\n</table>\n</div>"
     },
     "execution_count": 5,
     "metadata": {},
     "output_type": "execute_result"
    }
   ],
   "source": [
    "df_dataset = pd.read_csv('datasets/data.csv')\n",
    "df_dataset"
   ],
   "metadata": {
    "collapsed": false,
    "pycharm": {
     "name": "#%%\n"
    }
   }
  },
  {
   "cell_type": "code",
   "execution_count": 6,
   "outputs": [
    {
     "data": {
      "text/plain": "   Country   Age   Salary\n0   France  44.0  72000.0\n1    Spain  27.0  48000.0\n2  Germany  30.0  54000.0\n3    Spain  38.0  61000.0\n4  Germany  40.0      NaN\n5   France  35.0  58000.0\n6    Spain   NaN  52000.0\n7   France  48.0  79000.0\n8  Germany  50.0  83000.0\n9   France  37.0  67000.0",
      "text/html": "<div>\n<style scoped>\n    .dataframe tbody tr th:only-of-type {\n        vertical-align: middle;\n    }\n\n    .dataframe tbody tr th {\n        vertical-align: top;\n    }\n\n    .dataframe thead th {\n        text-align: right;\n    }\n</style>\n<table border=\"1\" class=\"dataframe\">\n  <thead>\n    <tr style=\"text-align: right;\">\n      <th></th>\n      <th>Country</th>\n      <th>Age</th>\n      <th>Salary</th>\n    </tr>\n  </thead>\n  <tbody>\n    <tr>\n      <th>0</th>\n      <td>France</td>\n      <td>44.0</td>\n      <td>72000.0</td>\n    </tr>\n    <tr>\n      <th>1</th>\n      <td>Spain</td>\n      <td>27.0</td>\n      <td>48000.0</td>\n    </tr>\n    <tr>\n      <th>2</th>\n      <td>Germany</td>\n      <td>30.0</td>\n      <td>54000.0</td>\n    </tr>\n    <tr>\n      <th>3</th>\n      <td>Spain</td>\n      <td>38.0</td>\n      <td>61000.0</td>\n    </tr>\n    <tr>\n      <th>4</th>\n      <td>Germany</td>\n      <td>40.0</td>\n      <td>NaN</td>\n    </tr>\n    <tr>\n      <th>5</th>\n      <td>France</td>\n      <td>35.0</td>\n      <td>58000.0</td>\n    </tr>\n    <tr>\n      <th>6</th>\n      <td>Spain</td>\n      <td>NaN</td>\n      <td>52000.0</td>\n    </tr>\n    <tr>\n      <th>7</th>\n      <td>France</td>\n      <td>48.0</td>\n      <td>79000.0</td>\n    </tr>\n    <tr>\n      <th>8</th>\n      <td>Germany</td>\n      <td>50.0</td>\n      <td>83000.0</td>\n    </tr>\n    <tr>\n      <th>9</th>\n      <td>France</td>\n      <td>37.0</td>\n      <td>67000.0</td>\n    </tr>\n  </tbody>\n</table>\n</div>"
     },
     "execution_count": 6,
     "metadata": {},
     "output_type": "execute_result"
    }
   ],
   "source": [
    "X = df_dataset.iloc[:, :-1]\n",
    "X"
   ],
   "metadata": {
    "collapsed": false,
    "pycharm": {
     "name": "#%%\n"
    }
   }
  },
  {
   "cell_type": "code",
   "execution_count": 7,
   "outputs": [
    {
     "data": {
      "text/plain": "0     No\n1    Yes\n2     No\n3     No\n4    Yes\n5    Yes\n6     No\n7    Yes\n8     No\n9    Yes\nName: Purchased, dtype: object"
     },
     "execution_count": 7,
     "metadata": {},
     "output_type": "execute_result"
    }
   ],
   "source": [
    "y = df_dataset.iloc[:, -1]\n",
    "y"
   ],
   "metadata": {
    "collapsed": false,
    "pycharm": {
     "name": "#%%\n"
    }
   }
  },
  {
   "cell_type": "markdown",
   "source": [
    "# 2. Handling missing data"
   ],
   "metadata": {
    "collapsed": false,
    "pycharm": {
     "name": "#%% md\n"
    }
   }
  },
  {
   "cell_type": "code",
   "execution_count": 8,
   "outputs": [
    {
     "data": {
      "text/plain": "Country      0\nAge          1\nSalary       1\nPurchased    0\ndtype: int64"
     },
     "execution_count": 8,
     "metadata": {},
     "output_type": "execute_result"
    }
   ],
   "source": [
    "df_dataset.isnull().sum()"
   ],
   "metadata": {
    "collapsed": false,
    "pycharm": {
     "name": "#%%\n"
    }
   }
  },
  {
   "cell_type": "code",
   "execution_count": 9,
   "outputs": [
    {
     "data": {
      "text/plain": "True"
     },
     "execution_count": 9,
     "metadata": {},
     "output_type": "execute_result"
    }
   ],
   "source": [
    "df_dataset.isnull().values.any()"
   ],
   "metadata": {
    "collapsed": false,
    "pycharm": {
     "name": "#%%\n"
    }
   }
  },
  {
   "cell_type": "code",
   "execution_count": 10,
   "outputs": [
    {
     "data": {
      "text/plain": "2"
     },
     "execution_count": 10,
     "metadata": {},
     "output_type": "execute_result"
    }
   ],
   "source": [
    "df_dataset.isnull().sum().sum()"
   ],
   "metadata": {
    "collapsed": false,
    "pycharm": {
     "name": "#%%\n"
    }
   }
  },
  {
   "cell_type": "code",
   "execution_count": 11,
   "outputs": [
    {
     "data": {
      "text/plain": "   Country   Age   Salary Purchased\n0   France  44.0  72000.0        No\n1    Spain  27.0  48000.0       Yes\n2  Germany  30.0  54000.0        No\n3    Spain  38.0  61000.0        No\n4  Germany  40.0      NaN       Yes\n5   France  35.0  58000.0       Yes\n6    Spain   NaN  52000.0        No\n7   France  48.0  79000.0       Yes\n8  Germany  50.0  83000.0        No\n9   France  37.0  67000.0       Yes",
      "text/html": "<div>\n<style scoped>\n    .dataframe tbody tr th:only-of-type {\n        vertical-align: middle;\n    }\n\n    .dataframe tbody tr th {\n        vertical-align: top;\n    }\n\n    .dataframe thead th {\n        text-align: right;\n    }\n</style>\n<table border=\"1\" class=\"dataframe\">\n  <thead>\n    <tr style=\"text-align: right;\">\n      <th></th>\n      <th>Country</th>\n      <th>Age</th>\n      <th>Salary</th>\n      <th>Purchased</th>\n    </tr>\n  </thead>\n  <tbody>\n    <tr>\n      <th>0</th>\n      <td>France</td>\n      <td>44.0</td>\n      <td>72000.0</td>\n      <td>No</td>\n    </tr>\n    <tr>\n      <th>1</th>\n      <td>Spain</td>\n      <td>27.0</td>\n      <td>48000.0</td>\n      <td>Yes</td>\n    </tr>\n    <tr>\n      <th>2</th>\n      <td>Germany</td>\n      <td>30.0</td>\n      <td>54000.0</td>\n      <td>No</td>\n    </tr>\n    <tr>\n      <th>3</th>\n      <td>Spain</td>\n      <td>38.0</td>\n      <td>61000.0</td>\n      <td>No</td>\n    </tr>\n    <tr>\n      <th>4</th>\n      <td>Germany</td>\n      <td>40.0</td>\n      <td>NaN</td>\n      <td>Yes</td>\n    </tr>\n    <tr>\n      <th>5</th>\n      <td>France</td>\n      <td>35.0</td>\n      <td>58000.0</td>\n      <td>Yes</td>\n    </tr>\n    <tr>\n      <th>6</th>\n      <td>Spain</td>\n      <td>NaN</td>\n      <td>52000.0</td>\n      <td>No</td>\n    </tr>\n    <tr>\n      <th>7</th>\n      <td>France</td>\n      <td>48.0</td>\n      <td>79000.0</td>\n      <td>Yes</td>\n    </tr>\n    <tr>\n      <th>8</th>\n      <td>Germany</td>\n      <td>50.0</td>\n      <td>83000.0</td>\n      <td>No</td>\n    </tr>\n    <tr>\n      <th>9</th>\n      <td>France</td>\n      <td>37.0</td>\n      <td>67000.0</td>\n      <td>Yes</td>\n    </tr>\n  </tbody>\n</table>\n</div>"
     },
     "execution_count": 11,
     "metadata": {},
     "output_type": "execute_result"
    }
   ],
   "source": [
    "missing = [\"n/a\", \"na\", \"--\", \"NaN\", \"NA\"]\n",
    "df_dataset = pd.read_csv('datasets/data.csv', na_values = missing)\n",
    "df_dataset"
   ],
   "metadata": {
    "collapsed": false,
    "pycharm": {
     "name": "#%%\n"
    }
   }
  },
  {
   "cell_type": "code",
   "execution_count": 12,
   "outputs": [
    {
     "data": {
      "text/plain": "SimpleImputer()"
     },
     "execution_count": 12,
     "metadata": {},
     "output_type": "execute_result"
    }
   ],
   "source": [
    "imputer = SimpleImputer(missing_values=np.nan, strategy='mean')\n",
    "imputer"
   ],
   "metadata": {
    "collapsed": false,
    "pycharm": {
     "name": "#%%\n"
    }
   }
  },
  {
   "cell_type": "code",
   "execution_count": 13,
   "outputs": [
    {
     "data": {
      "text/plain": "SimpleImputer()"
     },
     "execution_count": 13,
     "metadata": {},
     "output_type": "execute_result"
    }
   ],
   "source": [
    "imputer.fit(X.iloc[:, 1:3])"
   ],
   "metadata": {
    "collapsed": false,
    "pycharm": {
     "name": "#%%\n"
    }
   }
  },
  {
   "cell_type": "code",
   "execution_count": 14,
   "outputs": [],
   "source": [
    "X.iloc[:, 1:3] = imputer.transform(X.iloc[:, 1:3])"
   ],
   "metadata": {
    "collapsed": false,
    "pycharm": {
     "name": "#%%\n"
    }
   }
  },
  {
   "cell_type": "markdown",
   "source": [
    "# 3. Splitting Data"
   ],
   "metadata": {
    "collapsed": false,
    "pycharm": {
     "name": "#%% md\n"
    }
   }
  },
  {
   "cell_type": "markdown",
   "source": [
    "## 3.1. Splitting the dataset into the Training set and Test set"
   ],
   "metadata": {
    "collapsed": false,
    "pycharm": {
     "name": "#%% md\n"
    }
   }
  },
  {
   "cell_type": "code",
   "execution_count": 15,
   "outputs": [],
   "source": [
    "X, y = make_blobs(n_samples=1000)"
   ],
   "metadata": {
    "collapsed": false,
    "pycharm": {
     "name": "#%%\n"
    }
   }
  },
  {
   "cell_type": "code",
   "execution_count": 16,
   "outputs": [
    {
     "data": {
      "text/plain": "             0         1\n0    -8.202122 -6.364822\n1    -9.814522 -6.514044\n2     9.466742  4.808716\n3    -2.150367  5.047151\n4    -9.291543 -4.390995\n..         ...       ...\n995 -10.599423 -5.432539\n996  -8.303757 -5.988139\n997  -2.180413  6.822627\n998  -4.676256  4.985052\n999   7.787858  6.963462\n\n[1000 rows x 2 columns]",
      "text/html": "<div>\n<style scoped>\n    .dataframe tbody tr th:only-of-type {\n        vertical-align: middle;\n    }\n\n    .dataframe tbody tr th {\n        vertical-align: top;\n    }\n\n    .dataframe thead th {\n        text-align: right;\n    }\n</style>\n<table border=\"1\" class=\"dataframe\">\n  <thead>\n    <tr style=\"text-align: right;\">\n      <th></th>\n      <th>0</th>\n      <th>1</th>\n    </tr>\n  </thead>\n  <tbody>\n    <tr>\n      <th>0</th>\n      <td>-8.202122</td>\n      <td>-6.364822</td>\n    </tr>\n    <tr>\n      <th>1</th>\n      <td>-9.814522</td>\n      <td>-6.514044</td>\n    </tr>\n    <tr>\n      <th>2</th>\n      <td>9.466742</td>\n      <td>4.808716</td>\n    </tr>\n    <tr>\n      <th>3</th>\n      <td>-2.150367</td>\n      <td>5.047151</td>\n    </tr>\n    <tr>\n      <th>4</th>\n      <td>-9.291543</td>\n      <td>-4.390995</td>\n    </tr>\n    <tr>\n      <th>...</th>\n      <td>...</td>\n      <td>...</td>\n    </tr>\n    <tr>\n      <th>995</th>\n      <td>-10.599423</td>\n      <td>-5.432539</td>\n    </tr>\n    <tr>\n      <th>996</th>\n      <td>-8.303757</td>\n      <td>-5.988139</td>\n    </tr>\n    <tr>\n      <th>997</th>\n      <td>-2.180413</td>\n      <td>6.822627</td>\n    </tr>\n    <tr>\n      <th>998</th>\n      <td>-4.676256</td>\n      <td>4.985052</td>\n    </tr>\n    <tr>\n      <th>999</th>\n      <td>7.787858</td>\n      <td>6.963462</td>\n    </tr>\n  </tbody>\n</table>\n<p>1000 rows × 2 columns</p>\n</div>"
     },
     "execution_count": 16,
     "metadata": {},
     "output_type": "execute_result"
    }
   ],
   "source": [
    "pd.DataFrame(X)"
   ],
   "metadata": {
    "collapsed": false,
    "pycharm": {
     "name": "#%%\n"
    }
   }
  },
  {
   "cell_type": "code",
   "execution_count": 17,
   "outputs": [
    {
     "name": "stdout",
     "output_type": "stream",
     "text": [
      "X_train shape (800, 2); X_test shape (200, 2); y_train shape (800,); y_test shape (200,)\n"
     ]
    },
    {
     "data": {
      "text/plain": "            0         1\n0   -3.401700  5.187892\n1   -9.946863 -4.093212\n2    8.293124  6.118191\n3    8.991203  6.266633\n4   -4.139008  3.103089\n..        ...       ...\n795 -2.961278  3.474305\n796 -2.625934  5.498991\n797 -9.298297 -5.623292\n798 -8.805540 -4.399218\n799 -8.291128 -6.050703\n\n[800 rows x 2 columns]",
      "text/html": "<div>\n<style scoped>\n    .dataframe tbody tr th:only-of-type {\n        vertical-align: middle;\n    }\n\n    .dataframe tbody tr th {\n        vertical-align: top;\n    }\n\n    .dataframe thead th {\n        text-align: right;\n    }\n</style>\n<table border=\"1\" class=\"dataframe\">\n  <thead>\n    <tr style=\"text-align: right;\">\n      <th></th>\n      <th>0</th>\n      <th>1</th>\n    </tr>\n  </thead>\n  <tbody>\n    <tr>\n      <th>0</th>\n      <td>-3.401700</td>\n      <td>5.187892</td>\n    </tr>\n    <tr>\n      <th>1</th>\n      <td>-9.946863</td>\n      <td>-4.093212</td>\n    </tr>\n    <tr>\n      <th>2</th>\n      <td>8.293124</td>\n      <td>6.118191</td>\n    </tr>\n    <tr>\n      <th>3</th>\n      <td>8.991203</td>\n      <td>6.266633</td>\n    </tr>\n    <tr>\n      <th>4</th>\n      <td>-4.139008</td>\n      <td>3.103089</td>\n    </tr>\n    <tr>\n      <th>...</th>\n      <td>...</td>\n      <td>...</td>\n    </tr>\n    <tr>\n      <th>795</th>\n      <td>-2.961278</td>\n      <td>3.474305</td>\n    </tr>\n    <tr>\n      <th>796</th>\n      <td>-2.625934</td>\n      <td>5.498991</td>\n    </tr>\n    <tr>\n      <th>797</th>\n      <td>-9.298297</td>\n      <td>-5.623292</td>\n    </tr>\n    <tr>\n      <th>798</th>\n      <td>-8.805540</td>\n      <td>-4.399218</td>\n    </tr>\n    <tr>\n      <th>799</th>\n      <td>-8.291128</td>\n      <td>-6.050703</td>\n    </tr>\n  </tbody>\n</table>\n<p>800 rows × 2 columns</p>\n</div>"
     },
     "execution_count": 17,
     "metadata": {},
     "output_type": "execute_result"
    }
   ],
   "source": [
    "X_train, X_test, y_train, y_test = train_test_split(X, y, test_size=0.2)\n",
    "print(f'X_train shape {X_train.shape}; X_test shape {X_test.shape}; y_train shape {y_train.shape}; y_test shape {y_test.shape}')\n",
    "pd.DataFrame(X_train)"
   ],
   "metadata": {
    "collapsed": false,
    "pycharm": {
     "name": "#%%\n"
    }
   }
  },
  {
   "cell_type": "code",
   "execution_count": 18,
   "outputs": [
    {
     "name": "stdout",
     "output_type": "stream",
     "text": [
      "X_train shape (800, 2); X_test shape (200, 2); y_train shape (800,); y_test shape (200,)\n"
     ]
    },
    {
     "data": {
      "text/plain": "             0         1\n0     9.193707  6.982848\n1    -3.079198  3.511793\n2     8.012787  7.940447\n3    -2.268889  4.434616\n4    -3.274894  5.393333\n..         ...       ...\n795  -2.752465  6.164367\n796  -7.310510 -5.393631\n797  10.700605  5.379644\n798  -8.459788 -5.202653\n799  -4.150855  6.032025\n\n[800 rows x 2 columns]",
      "text/html": "<div>\n<style scoped>\n    .dataframe tbody tr th:only-of-type {\n        vertical-align: middle;\n    }\n\n    .dataframe tbody tr th {\n        vertical-align: top;\n    }\n\n    .dataframe thead th {\n        text-align: right;\n    }\n</style>\n<table border=\"1\" class=\"dataframe\">\n  <thead>\n    <tr style=\"text-align: right;\">\n      <th></th>\n      <th>0</th>\n      <th>1</th>\n    </tr>\n  </thead>\n  <tbody>\n    <tr>\n      <th>0</th>\n      <td>9.193707</td>\n      <td>6.982848</td>\n    </tr>\n    <tr>\n      <th>1</th>\n      <td>-3.079198</td>\n      <td>3.511793</td>\n    </tr>\n    <tr>\n      <th>2</th>\n      <td>8.012787</td>\n      <td>7.940447</td>\n    </tr>\n    <tr>\n      <th>3</th>\n      <td>-2.268889</td>\n      <td>4.434616</td>\n    </tr>\n    <tr>\n      <th>4</th>\n      <td>-3.274894</td>\n      <td>5.393333</td>\n    </tr>\n    <tr>\n      <th>...</th>\n      <td>...</td>\n      <td>...</td>\n    </tr>\n    <tr>\n      <th>795</th>\n      <td>-2.752465</td>\n      <td>6.164367</td>\n    </tr>\n    <tr>\n      <th>796</th>\n      <td>-7.310510</td>\n      <td>-5.393631</td>\n    </tr>\n    <tr>\n      <th>797</th>\n      <td>10.700605</td>\n      <td>5.379644</td>\n    </tr>\n    <tr>\n      <th>798</th>\n      <td>-8.459788</td>\n      <td>-5.202653</td>\n    </tr>\n    <tr>\n      <th>799</th>\n      <td>-4.150855</td>\n      <td>6.032025</td>\n    </tr>\n  </tbody>\n</table>\n<p>800 rows × 2 columns</p>\n</div>"
     },
     "execution_count": 18,
     "metadata": {},
     "output_type": "execute_result"
    }
   ],
   "source": [
    "X_train, X_test, y_train, y_test = train_test_split(X, y, test_size=0.2)\n",
    "print(f'X_train shape {X_train.shape}; X_test shape {X_test.shape}; y_train shape {y_train.shape}; y_test shape {y_test.shape}')\n",
    "pd.DataFrame(X_train)"
   ],
   "metadata": {
    "collapsed": false,
    "pycharm": {
     "name": "#%%\n"
    }
   }
  },
  {
   "cell_type": "code",
   "execution_count": 19,
   "outputs": [
    {
     "name": "stdout",
     "output_type": "stream",
     "text": [
      "X_train shape (800, 2); X_test shape (200, 2); y_train shape (800,); y_test shape (200,)\n"
     ]
    },
    {
     "data": {
      "text/plain": "            0         1\n0   -3.242155  3.256068\n1   -2.851977  4.619913\n2    8.602233  6.943180\n3    9.181630  6.259699\n4    9.994575  6.289159\n..        ...       ...\n795  7.786241  4.492133\n796  7.618063  5.692832\n797 -3.770336  7.361217\n798 -3.682737  6.075248\n799  9.851127  6.279868\n\n[800 rows x 2 columns]",
      "text/html": "<div>\n<style scoped>\n    .dataframe tbody tr th:only-of-type {\n        vertical-align: middle;\n    }\n\n    .dataframe tbody tr th {\n        vertical-align: top;\n    }\n\n    .dataframe thead th {\n        text-align: right;\n    }\n</style>\n<table border=\"1\" class=\"dataframe\">\n  <thead>\n    <tr style=\"text-align: right;\">\n      <th></th>\n      <th>0</th>\n      <th>1</th>\n    </tr>\n  </thead>\n  <tbody>\n    <tr>\n      <th>0</th>\n      <td>-3.242155</td>\n      <td>3.256068</td>\n    </tr>\n    <tr>\n      <th>1</th>\n      <td>-2.851977</td>\n      <td>4.619913</td>\n    </tr>\n    <tr>\n      <th>2</th>\n      <td>8.602233</td>\n      <td>6.943180</td>\n    </tr>\n    <tr>\n      <th>3</th>\n      <td>9.181630</td>\n      <td>6.259699</td>\n    </tr>\n    <tr>\n      <th>4</th>\n      <td>9.994575</td>\n      <td>6.289159</td>\n    </tr>\n    <tr>\n      <th>...</th>\n      <td>...</td>\n      <td>...</td>\n    </tr>\n    <tr>\n      <th>795</th>\n      <td>7.786241</td>\n      <td>4.492133</td>\n    </tr>\n    <tr>\n      <th>796</th>\n      <td>7.618063</td>\n      <td>5.692832</td>\n    </tr>\n    <tr>\n      <th>797</th>\n      <td>-3.770336</td>\n      <td>7.361217</td>\n    </tr>\n    <tr>\n      <th>798</th>\n      <td>-3.682737</td>\n      <td>6.075248</td>\n    </tr>\n    <tr>\n      <th>799</th>\n      <td>9.851127</td>\n      <td>6.279868</td>\n    </tr>\n  </tbody>\n</table>\n<p>800 rows × 2 columns</p>\n</div>"
     },
     "execution_count": 19,
     "metadata": {},
     "output_type": "execute_result"
    }
   ],
   "source": [
    "X_train, X_test, y_train, y_test = train_test_split(X, y, test_size=0.2)\n",
    "print(f'X_train shape {X_train.shape}; X_test shape {X_test.shape}; y_train shape {y_train.shape}; y_test shape {y_test.shape}')\n",
    "pd.DataFrame(X_train)"
   ],
   "metadata": {
    "collapsed": false,
    "pycharm": {
     "name": "#%%\n"
    }
   }
  },
  {
   "cell_type": "markdown",
   "source": [
    "As we can see, the data is split randomly. To avoid this, we can use the random_state parameter to make the split reproducible. This is useful when we want to compare different models."
   ],
   "metadata": {
    "collapsed": false,
    "pycharm": {
     "name": "#%% md\n"
    }
   }
  },
  {
   "cell_type": "code",
   "execution_count": 20,
   "outputs": [
    {
     "name": "stdout",
     "output_type": "stream",
     "text": [
      "X_train shape (800, 2); X_test shape (200, 2); y_train shape (800,); y_test shape (200,)\n"
     ]
    },
    {
     "data": {
      "text/plain": "             0         1\n0   -11.180503 -7.069609\n1    -9.590609 -5.060153\n2    10.491161  8.252008\n3     8.199994  7.306120\n4    -8.981454 -5.105297\n..         ...       ...\n795   9.450058  5.960306\n796  -3.811830  6.491310\n797  -3.286949  4.776541\n798 -10.463077 -6.916611\n799   8.236054  8.005791\n\n[800 rows x 2 columns]",
      "text/html": "<div>\n<style scoped>\n    .dataframe tbody tr th:only-of-type {\n        vertical-align: middle;\n    }\n\n    .dataframe tbody tr th {\n        vertical-align: top;\n    }\n\n    .dataframe thead th {\n        text-align: right;\n    }\n</style>\n<table border=\"1\" class=\"dataframe\">\n  <thead>\n    <tr style=\"text-align: right;\">\n      <th></th>\n      <th>0</th>\n      <th>1</th>\n    </tr>\n  </thead>\n  <tbody>\n    <tr>\n      <th>0</th>\n      <td>-11.180503</td>\n      <td>-7.069609</td>\n    </tr>\n    <tr>\n      <th>1</th>\n      <td>-9.590609</td>\n      <td>-5.060153</td>\n    </tr>\n    <tr>\n      <th>2</th>\n      <td>10.491161</td>\n      <td>8.252008</td>\n    </tr>\n    <tr>\n      <th>3</th>\n      <td>8.199994</td>\n      <td>7.306120</td>\n    </tr>\n    <tr>\n      <th>4</th>\n      <td>-8.981454</td>\n      <td>-5.105297</td>\n    </tr>\n    <tr>\n      <th>...</th>\n      <td>...</td>\n      <td>...</td>\n    </tr>\n    <tr>\n      <th>795</th>\n      <td>9.450058</td>\n      <td>5.960306</td>\n    </tr>\n    <tr>\n      <th>796</th>\n      <td>-3.811830</td>\n      <td>6.491310</td>\n    </tr>\n    <tr>\n      <th>797</th>\n      <td>-3.286949</td>\n      <td>4.776541</td>\n    </tr>\n    <tr>\n      <th>798</th>\n      <td>-10.463077</td>\n      <td>-6.916611</td>\n    </tr>\n    <tr>\n      <th>799</th>\n      <td>8.236054</td>\n      <td>8.005791</td>\n    </tr>\n  </tbody>\n</table>\n<p>800 rows × 2 columns</p>\n</div>"
     },
     "execution_count": 20,
     "metadata": {},
     "output_type": "execute_result"
    }
   ],
   "source": [
    "X_train, X_test, y_train, y_test = train_test_split(X, y, test_size=0.2, random_state=0)\n",
    "print(f'X_train shape {X_train.shape}; X_test shape {X_test.shape}; y_train shape {y_train.shape}; y_test shape {y_test.shape}')\n",
    "pd.DataFrame(X_train)"
   ],
   "metadata": {
    "collapsed": false,
    "pycharm": {
     "name": "#%%\n"
    }
   }
  },
  {
   "cell_type": "code",
   "execution_count": 21,
   "outputs": [
    {
     "name": "stdout",
     "output_type": "stream",
     "text": [
      "X_train shape (800, 2); X_test shape (200, 2); y_train shape (800,); y_test shape (200,)\n"
     ]
    },
    {
     "data": {
      "text/plain": "             0         1\n0   -11.180503 -7.069609\n1    -9.590609 -5.060153\n2    10.491161  8.252008\n3     8.199994  7.306120\n4    -8.981454 -5.105297\n..         ...       ...\n795   9.450058  5.960306\n796  -3.811830  6.491310\n797  -3.286949  4.776541\n798 -10.463077 -6.916611\n799   8.236054  8.005791\n\n[800 rows x 2 columns]",
      "text/html": "<div>\n<style scoped>\n    .dataframe tbody tr th:only-of-type {\n        vertical-align: middle;\n    }\n\n    .dataframe tbody tr th {\n        vertical-align: top;\n    }\n\n    .dataframe thead th {\n        text-align: right;\n    }\n</style>\n<table border=\"1\" class=\"dataframe\">\n  <thead>\n    <tr style=\"text-align: right;\">\n      <th></th>\n      <th>0</th>\n      <th>1</th>\n    </tr>\n  </thead>\n  <tbody>\n    <tr>\n      <th>0</th>\n      <td>-11.180503</td>\n      <td>-7.069609</td>\n    </tr>\n    <tr>\n      <th>1</th>\n      <td>-9.590609</td>\n      <td>-5.060153</td>\n    </tr>\n    <tr>\n      <th>2</th>\n      <td>10.491161</td>\n      <td>8.252008</td>\n    </tr>\n    <tr>\n      <th>3</th>\n      <td>8.199994</td>\n      <td>7.306120</td>\n    </tr>\n    <tr>\n      <th>4</th>\n      <td>-8.981454</td>\n      <td>-5.105297</td>\n    </tr>\n    <tr>\n      <th>...</th>\n      <td>...</td>\n      <td>...</td>\n    </tr>\n    <tr>\n      <th>795</th>\n      <td>9.450058</td>\n      <td>5.960306</td>\n    </tr>\n    <tr>\n      <th>796</th>\n      <td>-3.811830</td>\n      <td>6.491310</td>\n    </tr>\n    <tr>\n      <th>797</th>\n      <td>-3.286949</td>\n      <td>4.776541</td>\n    </tr>\n    <tr>\n      <th>798</th>\n      <td>-10.463077</td>\n      <td>-6.916611</td>\n    </tr>\n    <tr>\n      <th>799</th>\n      <td>8.236054</td>\n      <td>8.005791</td>\n    </tr>\n  </tbody>\n</table>\n<p>800 rows × 2 columns</p>\n</div>"
     },
     "execution_count": 21,
     "metadata": {},
     "output_type": "execute_result"
    }
   ],
   "source": [
    "X_train, X_test, y_train, y_test = train_test_split(X, y, test_size=0.2, random_state=0)\n",
    "print(f'X_train shape {X_train.shape}; X_test shape {X_test.shape}; y_train shape {y_train.shape}; y_test shape {y_test.shape}')\n",
    "pd.DataFrame(X_train)"
   ],
   "metadata": {
    "collapsed": false,
    "pycharm": {
     "name": "#%%\n"
    }
   }
  },
  {
   "cell_type": "markdown",
   "source": [
    "## 3.2. Stratified Splitting"
   ],
   "metadata": {
    "collapsed": false,
    "pycharm": {
     "name": "#%% md\n"
    }
   }
  },
  {
   "cell_type": "markdown",
   "source": [
    "Stratified splitting is a technique that is used to split the data in a way that the proportion of each class is the same in the train and test sets. This is useful when the dataset is imbalanced."
   ],
   "metadata": {
    "collapsed": false,
    "pycharm": {
     "name": "#%% md\n"
    }
   }
  },
  {
   "cell_type": "code",
   "execution_count": 22,
   "outputs": [],
   "source": [
    "X, y = make_classification(n_samples=1000, weights=[0.94], flip_y=0, random_state=1)"
   ],
   "metadata": {
    "collapsed": false,
    "pycharm": {
     "name": "#%%\n"
    }
   }
  },
  {
   "cell_type": "code",
   "execution_count": 23,
   "outputs": [
    {
     "name": "stdout",
     "output_type": "stream",
     "text": [
      "Distribution of classes in the original dataset: Counter({0: 940, 1: 60})\n"
     ]
    }
   ],
   "source": [
    "print('Distribution of classes in the original dataset: %s' % Counter(y))"
   ],
   "metadata": {
    "collapsed": false,
    "pycharm": {
     "name": "#%%\n"
    }
   }
  },
  {
   "cell_type": "code",
   "execution_count": 24,
   "outputs": [
    {
     "name": "stdout",
     "output_type": "stream",
     "text": [
      "Distribution of classes in the train dataset: Counter({0: 755, 1: 45})\n",
      "Distribution of classes in the test dataset: Counter({0: 185, 1: 15})\n"
     ]
    }
   ],
   "source": [
    "X_train, X_test, y_train, y_test = train_test_split(X, y, test_size=0.2, random_state=1)\n",
    "print('Distribution of classes in the train dataset: %s' % Counter(y_train))\n",
    "print('Distribution of classes in the test dataset: %s' % Counter(y_test))"
   ],
   "metadata": {
    "collapsed": false,
    "pycharm": {
     "name": "#%%\n"
    }
   }
  },
  {
   "cell_type": "code",
   "execution_count": 25,
   "outputs": [
    {
     "name": "stdout",
     "output_type": "stream",
     "text": [
      "Distribution of classes in the train dataset: Counter({0: 752, 1: 48})\n",
      "Distribution of classes in the test dataset: Counter({0: 188, 1: 12})\n"
     ]
    }
   ],
   "source": [
    "X_train, X_test, y_train, y_test = train_test_split(X, y, test_size=0.2, random_state=1, stratify=y)\n",
    "print('Distribution of classes in the train dataset: %s' % Counter(y_train))\n",
    "print('Distribution of classes in the test dataset: %s' % Counter(y_test))"
   ],
   "metadata": {
    "collapsed": false,
    "pycharm": {
     "name": "#%%\n"
    }
   }
  },
  {
   "cell_type": "markdown",
   "source": [
    "# 4. Encoding Categorical data"
   ],
   "metadata": {
    "collapsed": false,
    "pycharm": {
     "name": "#%% md\n"
    }
   }
  },
  {
   "cell_type": "markdown",
   "source": [
    "## 4.1. Label Encoding"
   ],
   "metadata": {
    "collapsed": false,
    "pycharm": {
     "name": "#%% md\n"
    }
   }
  },
  {
   "cell_type": "code",
   "execution_count": 26,
   "outputs": [
    {
     "data": {
      "text/plain": "array([0, 0, 0, 0, 0, 0, 0, 0, 0, 0, 0, 0, 0, 0, 0, 0, 0, 0, 1, 0, 0, 0,\n       0, 0, 0, 0, 0, 0, 0, 1, 0, 0, 0, 0, 0, 0, 0, 0, 0, 0, 0, 0, 0, 0,\n       0, 0, 0, 0, 0, 0, 1, 0, 0, 0, 0, 1, 0, 0, 0, 0, 1, 0, 1, 0, 0, 0,\n       0, 0, 1, 0, 0, 0, 0, 0, 0, 0, 1, 0, 0, 0, 0, 0, 0, 0, 0, 0, 0, 1,\n       0, 0, 0, 0, 0, 0, 0, 0, 0, 0, 0, 1, 0, 0, 1, 0, 1, 0, 0, 0, 0, 0,\n       0, 0, 0, 0, 0, 0, 0, 0, 0, 0, 0, 0, 0, 1, 0, 0, 0, 0, 0, 0, 0, 0,\n       0, 0, 1, 0, 0, 0, 0, 0, 0, 0, 0, 0, 0, 0, 0, 0, 0, 0, 0, 0, 0, 0,\n       0, 0, 0, 0, 0, 0, 0, 0, 0, 0, 0, 0, 0, 0, 0, 0, 0, 0, 0, 1, 0, 0,\n       0, 0, 0, 0, 1, 0, 0, 0, 0, 0, 0, 0, 0, 0, 0, 1, 0, 0, 0, 1, 0, 0,\n       0, 0, 0, 1, 0, 0, 0, 0, 0, 0, 0, 0, 0, 0, 0, 0, 0, 0, 0, 0, 0, 0,\n       0, 0, 0, 0, 0, 0, 0, 0, 0, 0, 0, 0, 0, 0, 0, 0, 0, 0, 0, 0, 0, 0,\n       0, 1, 0, 0, 0, 0, 0, 0, 0, 0, 0, 0, 0, 0, 0, 0, 0, 0, 0, 0, 0, 0,\n       1, 0, 1, 0, 0, 0, 0, 0, 0, 0, 0, 0, 0, 0, 0, 0, 0, 0, 0, 0, 0, 0,\n       0, 0, 0, 0, 0, 0, 0, 0, 0, 0, 0, 0, 0, 0, 0, 0, 0, 0, 0, 0, 1, 0,\n       0, 0, 0, 0, 0, 0, 0, 0, 0, 0, 0, 0, 0, 0, 0, 0, 0, 0, 0, 0, 0, 0,\n       0, 0, 0, 0, 0, 0, 0, 0, 0, 0, 0, 0, 0, 0, 0, 1, 0, 0, 0, 0, 0, 0,\n       0, 0, 0, 0, 0, 1, 0, 0, 0, 0, 0, 0, 0, 0, 0, 1, 0, 0, 0, 0, 0, 0,\n       0, 0, 0, 0, 0, 0, 0, 0, 0, 0, 0, 0, 0, 0, 0, 0, 0, 0, 0, 0, 0, 0,\n       1, 0, 0, 0, 0, 0, 0, 0, 0, 0, 0, 0, 0, 0, 0, 0, 0, 0, 0, 0, 0, 0,\n       0, 1, 0, 0, 0, 0, 0, 0, 0, 0, 0, 0, 0, 0, 0, 0, 0, 0, 0, 0, 0, 0,\n       0, 0, 0, 0, 0, 0, 0, 0, 0, 0, 0, 0, 0, 1, 0, 0, 0, 0, 0, 1, 0, 0,\n       0, 0, 0, 0, 0, 0, 0, 0, 0, 0, 0, 0, 0, 0, 0, 0, 0, 0, 0, 0, 0, 0,\n       0, 0, 0, 0, 0, 0, 0, 0, 0, 0, 0, 0, 0, 0, 0, 0, 0, 0, 0, 1, 0, 0,\n       0, 0, 0, 0, 0, 0, 1, 0, 0, 0, 0, 0, 0, 0, 0, 0, 0, 0, 0, 0, 1, 0,\n       0, 0, 0, 0, 0, 0, 0, 0, 0, 0, 0, 0, 1, 0, 0, 0, 0, 0, 0, 0, 0, 0,\n       0, 0, 0, 0, 0, 0, 0, 0, 0, 0, 0, 0, 0, 0, 0, 0, 0, 0, 0, 0, 0, 0,\n       0, 0, 0, 0, 0, 1, 0, 0, 0, 0, 0, 0, 0, 0, 0, 0, 0, 0, 0, 0, 0, 0,\n       0, 0, 0, 0, 0, 0, 0, 0, 0, 0, 0, 0, 0, 1, 0, 0, 0, 0, 0, 0, 0, 0,\n       0, 0, 0, 0, 0, 0, 0, 0, 0, 0, 0, 0, 0, 0, 0, 0, 0, 0, 0, 0, 0, 0,\n       0, 0, 0, 0, 0, 0, 0, 0, 0, 0, 0, 0, 0, 1, 0, 1, 0, 0, 0, 0, 0, 0,\n       0, 0, 0, 0, 0, 0, 0, 1, 1, 0, 0, 0, 0, 0, 0, 0, 0, 0, 0, 0, 0, 0,\n       0, 0, 0, 0, 0, 0, 0, 0, 0, 0, 0, 0, 0, 0, 0, 0, 0, 0, 0, 0, 0, 0,\n       0, 1, 0, 0, 0, 0, 1, 0, 0, 0, 0, 0, 0, 0, 0, 0, 0, 0, 0, 0, 0, 0,\n       0, 0, 0, 0, 0, 0, 0, 0, 0, 1, 0, 0, 0, 0, 0, 0, 0, 0, 0, 0, 0, 0,\n       0, 1, 0, 0, 0, 0, 0, 0, 0, 1, 0, 0, 0, 0, 0, 0, 0, 0, 0, 0, 1, 0,\n       0, 0, 0, 0, 0, 0, 0, 0, 0, 0, 0, 0, 0, 0, 0, 1, 0, 0, 0, 0, 0, 0,\n       0, 0, 0, 0, 0, 0, 0, 0, 0, 0, 0, 0, 0, 0, 0, 0, 0, 0, 0, 0, 0, 0,\n       0, 1, 0, 0, 0, 0, 0, 0, 0, 0, 0, 0, 0, 0, 1, 0, 0, 0, 0, 0, 0, 1,\n       0, 0, 0, 0, 0, 0, 0, 0, 0, 0, 0, 0, 0, 0, 0, 0, 1, 0, 0, 1, 0, 0,\n       0, 0, 0, 0, 0, 0, 0, 1, 0, 1, 0, 0, 0, 1, 0, 0, 0, 0, 0, 0, 0, 0,\n       0, 0, 0, 0, 0, 1, 0, 0, 1, 0, 0, 0, 0, 0, 1, 0, 0, 0, 0, 0, 0, 0,\n       0, 0, 0, 0, 1, 0, 0, 0, 0, 0, 0, 0, 0, 0, 0, 0, 0, 0, 0, 0, 0, 0,\n       0, 0, 0, 0, 0, 0, 0, 0, 1, 0, 0, 0, 0, 0, 0, 0, 0, 0, 0, 0, 0, 0,\n       0, 0, 0, 0, 0, 0, 0, 0, 0, 0, 0, 0, 0, 0, 0, 0, 0, 0, 0, 0, 0, 0,\n       0, 0, 0, 0, 0, 0, 0, 0, 0, 0, 0, 0, 0, 0, 0, 0, 0, 0, 0, 0, 0, 0,\n       0, 0, 0, 0, 0, 0, 0, 0, 0, 0])"
     },
     "execution_count": 26,
     "metadata": {},
     "output_type": "execute_result"
    }
   ],
   "source": [
    "label_encoder = LabelEncoder()\n",
    "y = label_encoder.fit_transform(y)\n",
    "y"
   ],
   "metadata": {
    "collapsed": false,
    "pycharm": {
     "name": "#%%\n"
    }
   }
  },
  {
   "cell_type": "code",
   "execution_count": 27,
   "outputs": [
    {
     "data": {
      "text/plain": "     0\n0    0\n1    0\n2    0\n3    0\n4    0\n..  ..\n995  0\n996  0\n997  0\n998  0\n999  0\n\n[1000 rows x 1 columns]",
      "text/html": "<div>\n<style scoped>\n    .dataframe tbody tr th:only-of-type {\n        vertical-align: middle;\n    }\n\n    .dataframe tbody tr th {\n        vertical-align: top;\n    }\n\n    .dataframe thead th {\n        text-align: right;\n    }\n</style>\n<table border=\"1\" class=\"dataframe\">\n  <thead>\n    <tr style=\"text-align: right;\">\n      <th></th>\n      <th>0</th>\n    </tr>\n  </thead>\n  <tbody>\n    <tr>\n      <th>0</th>\n      <td>0</td>\n    </tr>\n    <tr>\n      <th>1</th>\n      <td>0</td>\n    </tr>\n    <tr>\n      <th>2</th>\n      <td>0</td>\n    </tr>\n    <tr>\n      <th>3</th>\n      <td>0</td>\n    </tr>\n    <tr>\n      <th>4</th>\n      <td>0</td>\n    </tr>\n    <tr>\n      <th>...</th>\n      <td>...</td>\n    </tr>\n    <tr>\n      <th>995</th>\n      <td>0</td>\n    </tr>\n    <tr>\n      <th>996</th>\n      <td>0</td>\n    </tr>\n    <tr>\n      <th>997</th>\n      <td>0</td>\n    </tr>\n    <tr>\n      <th>998</th>\n      <td>0</td>\n    </tr>\n    <tr>\n      <th>999</th>\n      <td>0</td>\n    </tr>\n  </tbody>\n</table>\n<p>1000 rows × 1 columns</p>\n</div>"
     },
     "execution_count": 27,
     "metadata": {},
     "output_type": "execute_result"
    }
   ],
   "source": [
    "pd.DataFrame(y)"
   ],
   "metadata": {
    "collapsed": false,
    "pycharm": {
     "name": "#%%\n"
    }
   }
  },
  {
   "cell_type": "markdown",
   "source": [
    "### 4.2. One Hot Encoding"
   ],
   "metadata": {
    "collapsed": false,
    "pycharm": {
     "name": "#%% md\n"
    }
   }
  },
  {
   "cell_type": "code",
   "execution_count": 28,
   "outputs": [
    {
     "data": {
      "text/plain": "           0         1         2         3         4         5         6   \\\n0    2.221909  0.807802  0.927339 -0.070094 -0.638715 -0.625338 -0.990550   \n1   -0.183853  0.072078  0.108895 -0.230275  0.126486 -2.640619  0.466686   \n2   -0.626070  0.812148 -1.531915 -0.380824 -0.540130  0.142317  0.228305   \n3   -0.270036 -0.372108 -1.140488 -0.579190 -1.163629  1.168288  1.356020   \n4   -0.286285 -0.210801  0.212339 -0.446445 -0.803471 -1.306725 -0.167858   \n..        ...       ...       ...       ...       ...       ...       ...   \n995  1.228973  2.009362 -1.337587 -0.315281 -1.153013 -0.319832  0.921625   \n996  0.552988  0.839988 -0.553544  2.126596  0.071932 -0.818915 -0.840424   \n997 -0.421712 -0.393626  0.951773  0.622981 -0.669641 -2.075664  1.110404   \n998 -1.335056 -0.376535  0.816065 -1.747210 -0.813916 -0.851866 -1.141681   \n999  0.397166 -2.189317  0.255697  0.902555  1.052241 -0.997514 -1.379201   \n\n           7         8         9         10        11        12        13  \\\n0    0.269520 -0.352831  0.707078 -0.637334  1.316802  1.958895 -0.206349   \n1   -0.200674  2.176379  1.431810 -0.001866 -1.160561  1.433353  0.911168   \n2    0.063659  0.253463 -1.371024 -0.632939 -1.335798 -2.042800  2.147297   \n3    1.295251 -1.753413 -0.964620  0.174320 -0.296616 -0.401440 -1.586623   \n4   -0.857692 -0.491583 -1.330638  0.119190 -2.155325  0.263040 -0.386946   \n..        ...       ...       ...       ...       ...       ...       ...   \n995 -1.471066 -1.814726  1.785779 -1.563524 -0.657682  1.281235 -1.255936   \n996  2.249522 -0.509866 -1.469819 -0.599663  0.375807  0.213101  0.816202   \n997  0.305029 -0.773816 -0.938604  0.089215  1.186398  1.905036 -1.244140   \n998 -1.015003 -0.614941  0.979415  0.343442  1.071549 -0.313444  0.477677   \n999  1.187176 -0.824516 -0.776243  1.649584 -1.093790  0.288741 -0.573736   \n\n           14        15        16        17        18        19  \n0    1.431720 -0.767452 -0.075525 -2.864634  0.727620 -1.278130  \n1   -0.925495  0.577990  0.614711  1.277095  0.397899  0.380486  \n2   -0.056327 -0.679621  0.114661  0.025155 -0.069091 -1.214660  \n3   -0.096158 -1.048242  0.700129 -0.716063 -0.501382 -0.483549  \n4    1.806458 -0.353635  0.220540 -0.664314 -0.979698 -0.090187  \n..        ...       ...       ...       ...       ...       ...  \n995 -0.281530 -1.652669  0.133020  0.930704  0.000231 -2.983196  \n996 -2.258564 -0.056790  0.198285 -0.423507 -0.541073 -0.762027  \n997  0.324049 -2.227633 -1.298183 -1.239348 -0.058853 -1.367342  \n998 -0.782453  0.902692 -0.183231  1.728582  1.171279  1.012649  \n999 -0.422683  1.166382 -0.665291  0.724560  1.587862  2.765146  \n\n[1000 rows x 20 columns]",
      "text/html": "<div>\n<style scoped>\n    .dataframe tbody tr th:only-of-type {\n        vertical-align: middle;\n    }\n\n    .dataframe tbody tr th {\n        vertical-align: top;\n    }\n\n    .dataframe thead th {\n        text-align: right;\n    }\n</style>\n<table border=\"1\" class=\"dataframe\">\n  <thead>\n    <tr style=\"text-align: right;\">\n      <th></th>\n      <th>0</th>\n      <th>1</th>\n      <th>2</th>\n      <th>3</th>\n      <th>4</th>\n      <th>5</th>\n      <th>6</th>\n      <th>7</th>\n      <th>8</th>\n      <th>9</th>\n      <th>10</th>\n      <th>11</th>\n      <th>12</th>\n      <th>13</th>\n      <th>14</th>\n      <th>15</th>\n      <th>16</th>\n      <th>17</th>\n      <th>18</th>\n      <th>19</th>\n    </tr>\n  </thead>\n  <tbody>\n    <tr>\n      <th>0</th>\n      <td>2.221909</td>\n      <td>0.807802</td>\n      <td>0.927339</td>\n      <td>-0.070094</td>\n      <td>-0.638715</td>\n      <td>-0.625338</td>\n      <td>-0.990550</td>\n      <td>0.269520</td>\n      <td>-0.352831</td>\n      <td>0.707078</td>\n      <td>-0.637334</td>\n      <td>1.316802</td>\n      <td>1.958895</td>\n      <td>-0.206349</td>\n      <td>1.431720</td>\n      <td>-0.767452</td>\n      <td>-0.075525</td>\n      <td>-2.864634</td>\n      <td>0.727620</td>\n      <td>-1.278130</td>\n    </tr>\n    <tr>\n      <th>1</th>\n      <td>-0.183853</td>\n      <td>0.072078</td>\n      <td>0.108895</td>\n      <td>-0.230275</td>\n      <td>0.126486</td>\n      <td>-2.640619</td>\n      <td>0.466686</td>\n      <td>-0.200674</td>\n      <td>2.176379</td>\n      <td>1.431810</td>\n      <td>-0.001866</td>\n      <td>-1.160561</td>\n      <td>1.433353</td>\n      <td>0.911168</td>\n      <td>-0.925495</td>\n      <td>0.577990</td>\n      <td>0.614711</td>\n      <td>1.277095</td>\n      <td>0.397899</td>\n      <td>0.380486</td>\n    </tr>\n    <tr>\n      <th>2</th>\n      <td>-0.626070</td>\n      <td>0.812148</td>\n      <td>-1.531915</td>\n      <td>-0.380824</td>\n      <td>-0.540130</td>\n      <td>0.142317</td>\n      <td>0.228305</td>\n      <td>0.063659</td>\n      <td>0.253463</td>\n      <td>-1.371024</td>\n      <td>-0.632939</td>\n      <td>-1.335798</td>\n      <td>-2.042800</td>\n      <td>2.147297</td>\n      <td>-0.056327</td>\n      <td>-0.679621</td>\n      <td>0.114661</td>\n      <td>0.025155</td>\n      <td>-0.069091</td>\n      <td>-1.214660</td>\n    </tr>\n    <tr>\n      <th>3</th>\n      <td>-0.270036</td>\n      <td>-0.372108</td>\n      <td>-1.140488</td>\n      <td>-0.579190</td>\n      <td>-1.163629</td>\n      <td>1.168288</td>\n      <td>1.356020</td>\n      <td>1.295251</td>\n      <td>-1.753413</td>\n      <td>-0.964620</td>\n      <td>0.174320</td>\n      <td>-0.296616</td>\n      <td>-0.401440</td>\n      <td>-1.586623</td>\n      <td>-0.096158</td>\n      <td>-1.048242</td>\n      <td>0.700129</td>\n      <td>-0.716063</td>\n      <td>-0.501382</td>\n      <td>-0.483549</td>\n    </tr>\n    <tr>\n      <th>4</th>\n      <td>-0.286285</td>\n      <td>-0.210801</td>\n      <td>0.212339</td>\n      <td>-0.446445</td>\n      <td>-0.803471</td>\n      <td>-1.306725</td>\n      <td>-0.167858</td>\n      <td>-0.857692</td>\n      <td>-0.491583</td>\n      <td>-1.330638</td>\n      <td>0.119190</td>\n      <td>-2.155325</td>\n      <td>0.263040</td>\n      <td>-0.386946</td>\n      <td>1.806458</td>\n      <td>-0.353635</td>\n      <td>0.220540</td>\n      <td>-0.664314</td>\n      <td>-0.979698</td>\n      <td>-0.090187</td>\n    </tr>\n    <tr>\n      <th>...</th>\n      <td>...</td>\n      <td>...</td>\n      <td>...</td>\n      <td>...</td>\n      <td>...</td>\n      <td>...</td>\n      <td>...</td>\n      <td>...</td>\n      <td>...</td>\n      <td>...</td>\n      <td>...</td>\n      <td>...</td>\n      <td>...</td>\n      <td>...</td>\n      <td>...</td>\n      <td>...</td>\n      <td>...</td>\n      <td>...</td>\n      <td>...</td>\n      <td>...</td>\n    </tr>\n    <tr>\n      <th>995</th>\n      <td>1.228973</td>\n      <td>2.009362</td>\n      <td>-1.337587</td>\n      <td>-0.315281</td>\n      <td>-1.153013</td>\n      <td>-0.319832</td>\n      <td>0.921625</td>\n      <td>-1.471066</td>\n      <td>-1.814726</td>\n      <td>1.785779</td>\n      <td>-1.563524</td>\n      <td>-0.657682</td>\n      <td>1.281235</td>\n      <td>-1.255936</td>\n      <td>-0.281530</td>\n      <td>-1.652669</td>\n      <td>0.133020</td>\n      <td>0.930704</td>\n      <td>0.000231</td>\n      <td>-2.983196</td>\n    </tr>\n    <tr>\n      <th>996</th>\n      <td>0.552988</td>\n      <td>0.839988</td>\n      <td>-0.553544</td>\n      <td>2.126596</td>\n      <td>0.071932</td>\n      <td>-0.818915</td>\n      <td>-0.840424</td>\n      <td>2.249522</td>\n      <td>-0.509866</td>\n      <td>-1.469819</td>\n      <td>-0.599663</td>\n      <td>0.375807</td>\n      <td>0.213101</td>\n      <td>0.816202</td>\n      <td>-2.258564</td>\n      <td>-0.056790</td>\n      <td>0.198285</td>\n      <td>-0.423507</td>\n      <td>-0.541073</td>\n      <td>-0.762027</td>\n    </tr>\n    <tr>\n      <th>997</th>\n      <td>-0.421712</td>\n      <td>-0.393626</td>\n      <td>0.951773</td>\n      <td>0.622981</td>\n      <td>-0.669641</td>\n      <td>-2.075664</td>\n      <td>1.110404</td>\n      <td>0.305029</td>\n      <td>-0.773816</td>\n      <td>-0.938604</td>\n      <td>0.089215</td>\n      <td>1.186398</td>\n      <td>1.905036</td>\n      <td>-1.244140</td>\n      <td>0.324049</td>\n      <td>-2.227633</td>\n      <td>-1.298183</td>\n      <td>-1.239348</td>\n      <td>-0.058853</td>\n      <td>-1.367342</td>\n    </tr>\n    <tr>\n      <th>998</th>\n      <td>-1.335056</td>\n      <td>-0.376535</td>\n      <td>0.816065</td>\n      <td>-1.747210</td>\n      <td>-0.813916</td>\n      <td>-0.851866</td>\n      <td>-1.141681</td>\n      <td>-1.015003</td>\n      <td>-0.614941</td>\n      <td>0.979415</td>\n      <td>0.343442</td>\n      <td>1.071549</td>\n      <td>-0.313444</td>\n      <td>0.477677</td>\n      <td>-0.782453</td>\n      <td>0.902692</td>\n      <td>-0.183231</td>\n      <td>1.728582</td>\n      <td>1.171279</td>\n      <td>1.012649</td>\n    </tr>\n    <tr>\n      <th>999</th>\n      <td>0.397166</td>\n      <td>-2.189317</td>\n      <td>0.255697</td>\n      <td>0.902555</td>\n      <td>1.052241</td>\n      <td>-0.997514</td>\n      <td>-1.379201</td>\n      <td>1.187176</td>\n      <td>-0.824516</td>\n      <td>-0.776243</td>\n      <td>1.649584</td>\n      <td>-1.093790</td>\n      <td>0.288741</td>\n      <td>-0.573736</td>\n      <td>-0.422683</td>\n      <td>1.166382</td>\n      <td>-0.665291</td>\n      <td>0.724560</td>\n      <td>1.587862</td>\n      <td>2.765146</td>\n    </tr>\n  </tbody>\n</table>\n<p>1000 rows × 20 columns</p>\n</div>"
     },
     "execution_count": 28,
     "metadata": {},
     "output_type": "execute_result"
    }
   ],
   "source": [
    "pd.DataFrame(X)"
   ],
   "metadata": {
    "collapsed": false,
    "pycharm": {
     "name": "#%%\n"
    }
   }
  },
  {
   "cell_type": "code",
   "execution_count": 29,
   "outputs": [],
   "source": [
    "column_transformer = ColumnTransformer([(\"Name\", OneHotEncoder(sparse=False), [0])], remainder='passthrough')"
   ],
   "metadata": {
    "collapsed": false,
    "pycharm": {
     "name": "#%%\n"
    }
   }
  },
  {
   "cell_type": "code",
   "execution_count": 30,
   "outputs": [
    {
     "data": {
      "text/plain": "     0     1     2     3     4     5     6     7     8     9     ...  \\\n0     0.0   0.0   0.0   0.0   0.0   0.0   0.0   0.0   0.0   0.0  ...   \n1     0.0   0.0   0.0   0.0   0.0   0.0   0.0   0.0   0.0   0.0  ...   \n2     0.0   0.0   0.0   0.0   0.0   0.0   0.0   0.0   0.0   0.0  ...   \n3     0.0   0.0   0.0   0.0   0.0   0.0   0.0   0.0   0.0   0.0  ...   \n4     0.0   0.0   0.0   0.0   0.0   0.0   0.0   0.0   0.0   0.0  ...   \n..    ...   ...   ...   ...   ...   ...   ...   ...   ...   ...  ...   \n995   0.0   0.0   0.0   0.0   0.0   0.0   0.0   0.0   0.0   0.0  ...   \n996   0.0   0.0   0.0   0.0   0.0   0.0   0.0   0.0   0.0   0.0  ...   \n997   0.0   0.0   0.0   0.0   0.0   0.0   0.0   0.0   0.0   0.0  ...   \n998   0.0   0.0   0.0   0.0   0.0   0.0   0.0   0.0   0.0   0.0  ...   \n999   0.0   0.0   0.0   0.0   0.0   0.0   0.0   0.0   0.0   0.0  ...   \n\n         1009      1010      1011      1012      1013      1014      1015  \\\n0   -0.637334  1.316802  1.958895 -0.206349  1.431720 -0.767452 -0.075525   \n1   -0.001866 -1.160561  1.433353  0.911168 -0.925495  0.577990  0.614711   \n2   -0.632939 -1.335798 -2.042800  2.147297 -0.056327 -0.679621  0.114661   \n3    0.174320 -0.296616 -0.401440 -1.586623 -0.096158 -1.048242  0.700129   \n4    0.119190 -2.155325  0.263040 -0.386946  1.806458 -0.353635  0.220540   \n..        ...       ...       ...       ...       ...       ...       ...   \n995 -1.563524 -0.657682  1.281235 -1.255936 -0.281530 -1.652669  0.133020   \n996 -0.599663  0.375807  0.213101  0.816202 -2.258564 -0.056790  0.198285   \n997  0.089215  1.186398  1.905036 -1.244140  0.324049 -2.227633 -1.298183   \n998  0.343442  1.071549 -0.313444  0.477677 -0.782453  0.902692 -0.183231   \n999  1.649584 -1.093790  0.288741 -0.573736 -0.422683  1.166382 -0.665291   \n\n         1016      1017      1018  \n0   -2.864634  0.727620 -1.278130  \n1    1.277095  0.397899  0.380486  \n2    0.025155 -0.069091 -1.214660  \n3   -0.716063 -0.501382 -0.483549  \n4   -0.664314 -0.979698 -0.090187  \n..        ...       ...       ...  \n995  0.930704  0.000231 -2.983196  \n996 -0.423507 -0.541073 -0.762027  \n997 -1.239348 -0.058853 -1.367342  \n998  1.728582  1.171279  1.012649  \n999  0.724560  1.587862  2.765146  \n\n[1000 rows x 1019 columns]",
      "text/html": "<div>\n<style scoped>\n    .dataframe tbody tr th:only-of-type {\n        vertical-align: middle;\n    }\n\n    .dataframe tbody tr th {\n        vertical-align: top;\n    }\n\n    .dataframe thead th {\n        text-align: right;\n    }\n</style>\n<table border=\"1\" class=\"dataframe\">\n  <thead>\n    <tr style=\"text-align: right;\">\n      <th></th>\n      <th>0</th>\n      <th>1</th>\n      <th>2</th>\n      <th>3</th>\n      <th>4</th>\n      <th>5</th>\n      <th>6</th>\n      <th>7</th>\n      <th>8</th>\n      <th>9</th>\n      <th>...</th>\n      <th>1009</th>\n      <th>1010</th>\n      <th>1011</th>\n      <th>1012</th>\n      <th>1013</th>\n      <th>1014</th>\n      <th>1015</th>\n      <th>1016</th>\n      <th>1017</th>\n      <th>1018</th>\n    </tr>\n  </thead>\n  <tbody>\n    <tr>\n      <th>0</th>\n      <td>0.0</td>\n      <td>0.0</td>\n      <td>0.0</td>\n      <td>0.0</td>\n      <td>0.0</td>\n      <td>0.0</td>\n      <td>0.0</td>\n      <td>0.0</td>\n      <td>0.0</td>\n      <td>0.0</td>\n      <td>...</td>\n      <td>-0.637334</td>\n      <td>1.316802</td>\n      <td>1.958895</td>\n      <td>-0.206349</td>\n      <td>1.431720</td>\n      <td>-0.767452</td>\n      <td>-0.075525</td>\n      <td>-2.864634</td>\n      <td>0.727620</td>\n      <td>-1.278130</td>\n    </tr>\n    <tr>\n      <th>1</th>\n      <td>0.0</td>\n      <td>0.0</td>\n      <td>0.0</td>\n      <td>0.0</td>\n      <td>0.0</td>\n      <td>0.0</td>\n      <td>0.0</td>\n      <td>0.0</td>\n      <td>0.0</td>\n      <td>0.0</td>\n      <td>...</td>\n      <td>-0.001866</td>\n      <td>-1.160561</td>\n      <td>1.433353</td>\n      <td>0.911168</td>\n      <td>-0.925495</td>\n      <td>0.577990</td>\n      <td>0.614711</td>\n      <td>1.277095</td>\n      <td>0.397899</td>\n      <td>0.380486</td>\n    </tr>\n    <tr>\n      <th>2</th>\n      <td>0.0</td>\n      <td>0.0</td>\n      <td>0.0</td>\n      <td>0.0</td>\n      <td>0.0</td>\n      <td>0.0</td>\n      <td>0.0</td>\n      <td>0.0</td>\n      <td>0.0</td>\n      <td>0.0</td>\n      <td>...</td>\n      <td>-0.632939</td>\n      <td>-1.335798</td>\n      <td>-2.042800</td>\n      <td>2.147297</td>\n      <td>-0.056327</td>\n      <td>-0.679621</td>\n      <td>0.114661</td>\n      <td>0.025155</td>\n      <td>-0.069091</td>\n      <td>-1.214660</td>\n    </tr>\n    <tr>\n      <th>3</th>\n      <td>0.0</td>\n      <td>0.0</td>\n      <td>0.0</td>\n      <td>0.0</td>\n      <td>0.0</td>\n      <td>0.0</td>\n      <td>0.0</td>\n      <td>0.0</td>\n      <td>0.0</td>\n      <td>0.0</td>\n      <td>...</td>\n      <td>0.174320</td>\n      <td>-0.296616</td>\n      <td>-0.401440</td>\n      <td>-1.586623</td>\n      <td>-0.096158</td>\n      <td>-1.048242</td>\n      <td>0.700129</td>\n      <td>-0.716063</td>\n      <td>-0.501382</td>\n      <td>-0.483549</td>\n    </tr>\n    <tr>\n      <th>4</th>\n      <td>0.0</td>\n      <td>0.0</td>\n      <td>0.0</td>\n      <td>0.0</td>\n      <td>0.0</td>\n      <td>0.0</td>\n      <td>0.0</td>\n      <td>0.0</td>\n      <td>0.0</td>\n      <td>0.0</td>\n      <td>...</td>\n      <td>0.119190</td>\n      <td>-2.155325</td>\n      <td>0.263040</td>\n      <td>-0.386946</td>\n      <td>1.806458</td>\n      <td>-0.353635</td>\n      <td>0.220540</td>\n      <td>-0.664314</td>\n      <td>-0.979698</td>\n      <td>-0.090187</td>\n    </tr>\n    <tr>\n      <th>...</th>\n      <td>...</td>\n      <td>...</td>\n      <td>...</td>\n      <td>...</td>\n      <td>...</td>\n      <td>...</td>\n      <td>...</td>\n      <td>...</td>\n      <td>...</td>\n      <td>...</td>\n      <td>...</td>\n      <td>...</td>\n      <td>...</td>\n      <td>...</td>\n      <td>...</td>\n      <td>...</td>\n      <td>...</td>\n      <td>...</td>\n      <td>...</td>\n      <td>...</td>\n      <td>...</td>\n    </tr>\n    <tr>\n      <th>995</th>\n      <td>0.0</td>\n      <td>0.0</td>\n      <td>0.0</td>\n      <td>0.0</td>\n      <td>0.0</td>\n      <td>0.0</td>\n      <td>0.0</td>\n      <td>0.0</td>\n      <td>0.0</td>\n      <td>0.0</td>\n      <td>...</td>\n      <td>-1.563524</td>\n      <td>-0.657682</td>\n      <td>1.281235</td>\n      <td>-1.255936</td>\n      <td>-0.281530</td>\n      <td>-1.652669</td>\n      <td>0.133020</td>\n      <td>0.930704</td>\n      <td>0.000231</td>\n      <td>-2.983196</td>\n    </tr>\n    <tr>\n      <th>996</th>\n      <td>0.0</td>\n      <td>0.0</td>\n      <td>0.0</td>\n      <td>0.0</td>\n      <td>0.0</td>\n      <td>0.0</td>\n      <td>0.0</td>\n      <td>0.0</td>\n      <td>0.0</td>\n      <td>0.0</td>\n      <td>...</td>\n      <td>-0.599663</td>\n      <td>0.375807</td>\n      <td>0.213101</td>\n      <td>0.816202</td>\n      <td>-2.258564</td>\n      <td>-0.056790</td>\n      <td>0.198285</td>\n      <td>-0.423507</td>\n      <td>-0.541073</td>\n      <td>-0.762027</td>\n    </tr>\n    <tr>\n      <th>997</th>\n      <td>0.0</td>\n      <td>0.0</td>\n      <td>0.0</td>\n      <td>0.0</td>\n      <td>0.0</td>\n      <td>0.0</td>\n      <td>0.0</td>\n      <td>0.0</td>\n      <td>0.0</td>\n      <td>0.0</td>\n      <td>...</td>\n      <td>0.089215</td>\n      <td>1.186398</td>\n      <td>1.905036</td>\n      <td>-1.244140</td>\n      <td>0.324049</td>\n      <td>-2.227633</td>\n      <td>-1.298183</td>\n      <td>-1.239348</td>\n      <td>-0.058853</td>\n      <td>-1.367342</td>\n    </tr>\n    <tr>\n      <th>998</th>\n      <td>0.0</td>\n      <td>0.0</td>\n      <td>0.0</td>\n      <td>0.0</td>\n      <td>0.0</td>\n      <td>0.0</td>\n      <td>0.0</td>\n      <td>0.0</td>\n      <td>0.0</td>\n      <td>0.0</td>\n      <td>...</td>\n      <td>0.343442</td>\n      <td>1.071549</td>\n      <td>-0.313444</td>\n      <td>0.477677</td>\n      <td>-0.782453</td>\n      <td>0.902692</td>\n      <td>-0.183231</td>\n      <td>1.728582</td>\n      <td>1.171279</td>\n      <td>1.012649</td>\n    </tr>\n    <tr>\n      <th>999</th>\n      <td>0.0</td>\n      <td>0.0</td>\n      <td>0.0</td>\n      <td>0.0</td>\n      <td>0.0</td>\n      <td>0.0</td>\n      <td>0.0</td>\n      <td>0.0</td>\n      <td>0.0</td>\n      <td>0.0</td>\n      <td>...</td>\n      <td>1.649584</td>\n      <td>-1.093790</td>\n      <td>0.288741</td>\n      <td>-0.573736</td>\n      <td>-0.422683</td>\n      <td>1.166382</td>\n      <td>-0.665291</td>\n      <td>0.724560</td>\n      <td>1.587862</td>\n      <td>2.765146</td>\n    </tr>\n  </tbody>\n</table>\n<p>1000 rows × 1019 columns</p>\n</div>"
     },
     "execution_count": 30,
     "metadata": {},
     "output_type": "execute_result"
    }
   ],
   "source": [
    "X2 = column_transformer.fit_transform(X)\n",
    "pd.DataFrame(X2)"
   ],
   "metadata": {
    "collapsed": false,
    "pycharm": {
     "name": "#%%\n"
    }
   }
  },
  {
   "cell_type": "code",
   "execution_count": 31,
   "outputs": [
    {
     "data": {
      "text/plain": "array([['red'],\n       ['green'],\n       ['blue']], dtype='<U5')"
     },
     "execution_count": 31,
     "metadata": {},
     "output_type": "execute_result"
    }
   ],
   "source": [
    "data = np.asarray([[\"red\"], [\"green\"], [\"blue\"]])\n",
    "data"
   ],
   "metadata": {
    "collapsed": false,
    "pycharm": {
     "name": "#%%\n"
    }
   }
  },
  {
   "cell_type": "code",
   "execution_count": 32,
   "outputs": [
    {
     "data": {
      "text/plain": "array([[0., 0., 1.],\n       [0., 1., 0.],\n       [1., 0., 0.]])"
     },
     "execution_count": 32,
     "metadata": {},
     "output_type": "execute_result"
    }
   ],
   "source": [
    "encoder = OneHotEncoder(sparse=False)\n",
    "encoder.fit(data)\n",
    "one_hot = encoder.transform(data)\n",
    "one_hot"
   ],
   "metadata": {
    "collapsed": false,
    "pycharm": {
     "name": "#%%\n"
    }
   }
  },
  {
   "cell_type": "markdown",
   "source": [
    "# 5. Scaling data"
   ],
   "metadata": {
    "collapsed": false,
    "pycharm": {
     "name": "#%% md\n"
    }
   }
  },
  {
   "cell_type": "markdown",
   "source": [
    "## 5.1. Normalization"
   ],
   "metadata": {
    "collapsed": false,
    "pycharm": {
     "name": "#%% md\n"
    }
   }
  },
  {
   "cell_type": "code",
   "execution_count": 33,
   "outputs": [
    {
     "data": {
      "text/plain": "        Age    Salary\n0  0.739130  0.685714\n1  0.000000  0.000000\n2  0.130435  0.171429\n3  0.478261  0.371429\n4  0.565217       NaN\n5  0.347826  0.285714\n6       NaN  0.114286\n7  0.913043  0.885714\n8  1.000000  1.000000\n9  0.434783  0.542857",
      "text/html": "<div>\n<style scoped>\n    .dataframe tbody tr th:only-of-type {\n        vertical-align: middle;\n    }\n\n    .dataframe tbody tr th {\n        vertical-align: top;\n    }\n\n    .dataframe thead th {\n        text-align: right;\n    }\n</style>\n<table border=\"1\" class=\"dataframe\">\n  <thead>\n    <tr style=\"text-align: right;\">\n      <th></th>\n      <th>Age</th>\n      <th>Salary</th>\n    </tr>\n  </thead>\n  <tbody>\n    <tr>\n      <th>0</th>\n      <td>0.739130</td>\n      <td>0.685714</td>\n    </tr>\n    <tr>\n      <th>1</th>\n      <td>0.000000</td>\n      <td>0.000000</td>\n    </tr>\n    <tr>\n      <th>2</th>\n      <td>0.130435</td>\n      <td>0.171429</td>\n    </tr>\n    <tr>\n      <th>3</th>\n      <td>0.478261</td>\n      <td>0.371429</td>\n    </tr>\n    <tr>\n      <th>4</th>\n      <td>0.565217</td>\n      <td>NaN</td>\n    </tr>\n    <tr>\n      <th>5</th>\n      <td>0.347826</td>\n      <td>0.285714</td>\n    </tr>\n    <tr>\n      <th>6</th>\n      <td>NaN</td>\n      <td>0.114286</td>\n    </tr>\n    <tr>\n      <th>7</th>\n      <td>0.913043</td>\n      <td>0.885714</td>\n    </tr>\n    <tr>\n      <th>8</th>\n      <td>1.000000</td>\n      <td>1.000000</td>\n    </tr>\n    <tr>\n      <th>9</th>\n      <td>0.434783</td>\n      <td>0.542857</td>\n    </tr>\n  </tbody>\n</table>\n</div>"
     },
     "execution_count": 33,
     "metadata": {},
     "output_type": "execute_result"
    }
   ],
   "source": [
    "normalized_dataset = MinMaxScaler().fit_transform(df_dataset[['Age', 'Salary']])\n",
    "df_normalized_dataset = pd.DataFrame(normalized_dataset, columns=['Age', 'Salary'])\n",
    "df_normalized_dataset"
   ],
   "metadata": {
    "collapsed": false,
    "pycharm": {
     "name": "#%%\n"
    }
   }
  },
  {
   "cell_type": "markdown",
   "source": [
    "## 5.2. Standardization"
   ],
   "metadata": {
    "collapsed": false,
    "pycharm": {
     "name": "#%% md\n"
    }
   }
  },
  {
   "cell_type": "code",
   "execution_count": 34,
   "outputs": [
    {
     "data": {
      "text/plain": "        Age    Salary\n0  0.719931  0.711013\n1 -1.623675 -1.364376\n2 -1.210098 -0.845529\n3 -0.107224 -0.240207\n4  0.168495       NaN\n5 -0.520801 -0.499631\n6       NaN -1.018478\n7  1.271368  1.316334\n8  1.547087  1.662233\n9 -0.245083  0.278640",
      "text/html": "<div>\n<style scoped>\n    .dataframe tbody tr th:only-of-type {\n        vertical-align: middle;\n    }\n\n    .dataframe tbody tr th {\n        vertical-align: top;\n    }\n\n    .dataframe thead th {\n        text-align: right;\n    }\n</style>\n<table border=\"1\" class=\"dataframe\">\n  <thead>\n    <tr style=\"text-align: right;\">\n      <th></th>\n      <th>Age</th>\n      <th>Salary</th>\n    </tr>\n  </thead>\n  <tbody>\n    <tr>\n      <th>0</th>\n      <td>0.719931</td>\n      <td>0.711013</td>\n    </tr>\n    <tr>\n      <th>1</th>\n      <td>-1.623675</td>\n      <td>-1.364376</td>\n    </tr>\n    <tr>\n      <th>2</th>\n      <td>-1.210098</td>\n      <td>-0.845529</td>\n    </tr>\n    <tr>\n      <th>3</th>\n      <td>-0.107224</td>\n      <td>-0.240207</td>\n    </tr>\n    <tr>\n      <th>4</th>\n      <td>0.168495</td>\n      <td>NaN</td>\n    </tr>\n    <tr>\n      <th>5</th>\n      <td>-0.520801</td>\n      <td>-0.499631</td>\n    </tr>\n    <tr>\n      <th>6</th>\n      <td>NaN</td>\n      <td>-1.018478</td>\n    </tr>\n    <tr>\n      <th>7</th>\n      <td>1.271368</td>\n      <td>1.316334</td>\n    </tr>\n    <tr>\n      <th>8</th>\n      <td>1.547087</td>\n      <td>1.662233</td>\n    </tr>\n    <tr>\n      <th>9</th>\n      <td>-0.245083</td>\n      <td>0.278640</td>\n    </tr>\n  </tbody>\n</table>\n</div>"
     },
     "execution_count": 34,
     "metadata": {},
     "output_type": "execute_result"
    }
   ],
   "source": [
    "standardized_dataset = StandardScaler().fit_transform(df_dataset[['Age', 'Salary']])\n",
    "df_standardized_dataset = pd.DataFrame(standardized_dataset, columns=['Age', 'Salary'])\n",
    "df_standardized_dataset"
   ],
   "metadata": {
    "collapsed": false,
    "pycharm": {
     "name": "#%%\n"
    }
   }
  }
 ],
 "metadata": {
  "kernelspec": {
   "display_name": "Python 3",
   "language": "python",
   "name": "python3"
  },
  "language_info": {
   "codemirror_mode": {
    "name": "ipython",
    "version": 2
   },
   "file_extension": ".py",
   "mimetype": "text/x-python",
   "name": "python",
   "nbconvert_exporter": "python",
   "pygments_lexer": "ipython2",
   "version": "2.7.6"
  }
 },
 "nbformat": 4,
 "nbformat_minor": 0
}